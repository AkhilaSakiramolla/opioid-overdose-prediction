{
 "cells": [
  {
   "cell_type": "markdown",
   "id": "c6d8b254",
   "metadata": {},
   "source": [
    "# Importing required libraries"
   ]
  },
  {
   "cell_type": "code",
   "execution_count": 3,
   "id": "3fc6abdd",
   "metadata": {},
   "outputs": [],
   "source": [
    "import pandas as pd\n",
    "import numpy as np\n",
    "# import seaborn as sns\n",
    "import pyarrow as pa\n",
    "import pyarrow.parquet as pq\n",
    "\n",
    "pd.set_option('display.max_columns', 500)\n",
    "# To execute a cell line by line\n",
    "from IPython.core.interactiveshell import InteractiveShell\n",
    "InteractiveShell.ast_node_interactivity = \"all\""
   ]
  },
  {
   "cell_type": "markdown",
   "id": "c1dd63da",
   "metadata": {},
   "source": [
    "# Extracting Patient IDs for different Division - Race combinations"
   ]
  },
  {
   "cell_type": "markdown",
   "id": "4f54f288",
   "metadata": {},
   "source": [
    "## Loading SES Table"
   ]
  },
  {
   "cell_type": "code",
   "execution_count": 4,
   "id": "c0beb043",
   "metadata": {},
   "outputs": [
    {
     "data": {
      "text/plain": [
       "(60503043, 10)"
      ]
     },
     "execution_count": 4,
     "metadata": {},
     "output_type": "execute_result"
    },
    {
     "data": {
      "text/html": [
       "<div>\n",
       "<style scoped>\n",
       "    .dataframe tbody tr th:only-of-type {\n",
       "        vertical-align: middle;\n",
       "    }\n",
       "\n",
       "    .dataframe tbody tr th {\n",
       "        vertical-align: top;\n",
       "    }\n",
       "\n",
       "    .dataframe thead th {\n",
       "        text-align: right;\n",
       "    }\n",
       "</style>\n",
       "<table border=\"1\" class=\"dataframe\">\n",
       "  <thead>\n",
       "    <tr style=\"text-align: right;\">\n",
       "      <th></th>\n",
       "      <th>PATID</th>\n",
       "      <th>D_EDUCATION_LEVEL_CODE</th>\n",
       "      <th>D_FED_POVERTY_STATUS_CODE</th>\n",
       "      <th>D_HOME_OWNERSHIP_CODE</th>\n",
       "      <th>D_HOUSEHOLD_INCOME_RANGE_CODE</th>\n",
       "      <th>D_NETWORTH_RANGE_CODE</th>\n",
       "      <th>D_OCCUPATION_TYPE_CODE</th>\n",
       "      <th>D_RACE_CODE</th>\n",
       "      <th>NUM_ADULTS</th>\n",
       "      <th>NUM_CHILD</th>\n",
       "    </tr>\n",
       "  </thead>\n",
       "  <tbody>\n",
       "    <tr>\n",
       "      <th>0</th>\n",
       "      <td>802666110000096</td>\n",
       "      <td>B</td>\n",
       "      <td>A</td>\n",
       "      <td>1</td>\n",
       "      <td>2</td>\n",
       "      <td>1</td>\n",
       "      <td>U</td>\n",
       "      <td>W</td>\n",
       "      <td>2</td>\n",
       "      <td>3</td>\n",
       "    </tr>\n",
       "    <tr>\n",
       "      <th>1</th>\n",
       "      <td>802666110000117</td>\n",
       "      <td>C</td>\n",
       "      <td>A</td>\n",
       "      <td>2</td>\n",
       "      <td>1</td>\n",
       "      <td>1</td>\n",
       "      <td>U</td>\n",
       "      <td>W</td>\n",
       "      <td>1</td>\n",
       "      <td>0</td>\n",
       "    </tr>\n",
       "  </tbody>\n",
       "</table>\n",
       "</div>"
      ],
      "text/plain": [
       "             PATID D_EDUCATION_LEVEL_CODE D_FED_POVERTY_STATUS_CODE  \\\n",
       "0  802666110000096                      B                         A   \n",
       "1  802666110000117                      C                         A   \n",
       "\n",
       "  D_HOME_OWNERSHIP_CODE D_HOUSEHOLD_INCOME_RANGE_CODE D_NETWORTH_RANGE_CODE  \\\n",
       "0                     1                             2                     1   \n",
       "1                     2                             1                     1   \n",
       "\n",
       "  D_OCCUPATION_TYPE_CODE D_RACE_CODE  NUM_ADULTS  NUM_CHILD  \n",
       "0                      U           W           2          3  \n",
       "1                      U           W           1          0  "
      ]
     },
     "execution_count": 4,
     "metadata": {},
     "output_type": "execute_result"
    }
   ],
   "source": [
    "ses_df = pd.read_parquet('/N/project/optum/data/parquet/ses_81_202107/ses_ses.parquet', engine='pyarrow')\n",
    "ses_df.shape\n",
    "ses_df.head(2)"
   ]
  },
  {
   "cell_type": "code",
   "execution_count": 5,
   "id": "e7c6fd2f",
   "metadata": {},
   "outputs": [
    {
     "data": {
      "text/html": [
       "<div>\n",
       "<style scoped>\n",
       "    .dataframe tbody tr th:only-of-type {\n",
       "        vertical-align: middle;\n",
       "    }\n",
       "\n",
       "    .dataframe tbody tr th {\n",
       "        vertical-align: top;\n",
       "    }\n",
       "\n",
       "    .dataframe thead th {\n",
       "        text-align: right;\n",
       "    }\n",
       "</style>\n",
       "<table border=\"1\" class=\"dataframe\">\n",
       "  <thead>\n",
       "    <tr style=\"text-align: right;\">\n",
       "      <th></th>\n",
       "      <th>PATID</th>\n",
       "    </tr>\n",
       "    <tr>\n",
       "      <th>D_RACE_CODE</th>\n",
       "      <th></th>\n",
       "    </tr>\n",
       "  </thead>\n",
       "  <tbody>\n",
       "    <tr>\n",
       "      <th></th>\n",
       "      <td>1692852</td>\n",
       "    </tr>\n",
       "    <tr>\n",
       "      <th>A</th>\n",
       "      <td>3157847</td>\n",
       "    </tr>\n",
       "    <tr>\n",
       "      <th>B</th>\n",
       "      <td>6698555</td>\n",
       "    </tr>\n",
       "    <tr>\n",
       "      <th>H</th>\n",
       "      <td>8015670</td>\n",
       "    </tr>\n",
       "    <tr>\n",
       "      <th>W</th>\n",
       "      <td>40938119</td>\n",
       "    </tr>\n",
       "  </tbody>\n",
       "</table>\n",
       "</div>"
      ],
      "text/plain": [
       "                PATID\n",
       "D_RACE_CODE          \n",
       "              1692852\n",
       "A             3157847\n",
       "B             6698555\n",
       "H             8015670\n",
       "W            40938119"
      ]
     },
     "execution_count": 5,
     "metadata": {},
     "output_type": "execute_result"
    }
   ],
   "source": [
    "ses_df.groupby('D_RACE_CODE').agg({'PATID':'nunique'})"
   ]
  },
  {
   "cell_type": "code",
   "execution_count": 6,
   "id": "5ff739b5",
   "metadata": {},
   "outputs": [],
   "source": [
    "#Replacing race codes with their definitions\n",
    "\n",
    "ses_df.loc[ses_df[\"D_RACE_CODE\"] == \"A\", \"D_RACE_CODE\"] = \"Asian\"\n",
    "ses_df.loc[ses_df[\"D_RACE_CODE\"] == \"B\", \"D_RACE_CODE\"] = \"Black\"\n",
    "ses_df.loc[ses_df[\"D_RACE_CODE\"] == \"H\", \"D_RACE_CODE\"] = \"Hispanic\"\n",
    "ses_df.loc[ses_df[\"D_RACE_CODE\"] == \"W\", \"D_RACE_CODE\"] = \"White\"\n",
    "ses_df.loc[ses_df[\"D_RACE_CODE\"] == \"\", \"D_RACE_CODE\"] = \"Unknown\""
   ]
  },
  {
   "cell_type": "code",
   "execution_count": 7,
   "id": "09cb8ef9",
   "metadata": {},
   "outputs": [
    {
     "data": {
      "text/html": [
       "<div>\n",
       "<style scoped>\n",
       "    .dataframe tbody tr th:only-of-type {\n",
       "        vertical-align: middle;\n",
       "    }\n",
       "\n",
       "    .dataframe tbody tr th {\n",
       "        vertical-align: top;\n",
       "    }\n",
       "\n",
       "    .dataframe thead th {\n",
       "        text-align: right;\n",
       "    }\n",
       "</style>\n",
       "<table border=\"1\" class=\"dataframe\">\n",
       "  <thead>\n",
       "    <tr style=\"text-align: right;\">\n",
       "      <th></th>\n",
       "      <th>PATID</th>\n",
       "    </tr>\n",
       "    <tr>\n",
       "      <th>D_RACE_CODE</th>\n",
       "      <th></th>\n",
       "    </tr>\n",
       "  </thead>\n",
       "  <tbody>\n",
       "    <tr>\n",
       "      <th>Asian</th>\n",
       "      <td>3157847</td>\n",
       "    </tr>\n",
       "    <tr>\n",
       "      <th>Black</th>\n",
       "      <td>6698555</td>\n",
       "    </tr>\n",
       "    <tr>\n",
       "      <th>Hispanic</th>\n",
       "      <td>8015670</td>\n",
       "    </tr>\n",
       "    <tr>\n",
       "      <th>Unknown</th>\n",
       "      <td>1692852</td>\n",
       "    </tr>\n",
       "    <tr>\n",
       "      <th>White</th>\n",
       "      <td>40938119</td>\n",
       "    </tr>\n",
       "  </tbody>\n",
       "</table>\n",
       "</div>"
      ],
      "text/plain": [
       "                PATID\n",
       "D_RACE_CODE          \n",
       "Asian         3157847\n",
       "Black         6698555\n",
       "Hispanic      8015670\n",
       "Unknown       1692852\n",
       "White        40938119"
      ]
     },
     "execution_count": 7,
     "metadata": {},
     "output_type": "execute_result"
    }
   ],
   "source": [
    "ses_df.groupby('D_RACE_CODE').agg({'PATID':'nunique'})"
   ]
  },
  {
   "cell_type": "code",
   "execution_count": 8,
   "id": "35ebeada",
   "metadata": {},
   "outputs": [
    {
     "data": {
      "text/plain": [
       "(60503043, 2)"
      ]
     },
     "execution_count": 8,
     "metadata": {},
     "output_type": "execute_result"
    },
    {
     "name": "stderr",
     "output_type": "stream",
     "text": [
      "/tmp/ipykernel_20070/3254078573.py:3: SettingWithCopyWarning: \n",
      "A value is trying to be set on a copy of a slice from a DataFrame\n",
      "\n",
      "See the caveats in the documentation: https://pandas.pydata.org/pandas-docs/stable/user_guide/indexing.html#returning-a-view-versus-a-copy\n",
      "  ses_pat_race.drop_duplicates(inplace = True)\n"
     ]
    },
    {
     "data": {
      "text/plain": [
       "(60503043, 2)"
      ]
     },
     "execution_count": 8,
     "metadata": {},
     "output_type": "execute_result"
    }
   ],
   "source": [
    "ses_pat_race = ses_df[['PATID', 'D_RACE_CODE']]\n",
    "ses_pat_race.shape\n",
    "ses_pat_race.drop_duplicates(inplace = True)\n",
    "ses_pat_race.shape"
   ]
  },
  {
   "cell_type": "markdown",
   "id": "70e49e7b",
   "metadata": {},
   "source": [
    "## Loading Member Enrollment data"
   ]
  },
  {
   "cell_type": "code",
   "execution_count": 9,
   "id": "38c0aded",
   "metadata": {},
   "outputs": [
    {
     "data": {
      "text/plain": [
       "(135536313, 14)"
      ]
     },
     "execution_count": 9,
     "metadata": {},
     "output_type": "execute_result"
    },
    {
     "data": {
      "text/html": [
       "<div>\n",
       "<style scoped>\n",
       "    .dataframe tbody tr th:only-of-type {\n",
       "        vertical-align: middle;\n",
       "    }\n",
       "\n",
       "    .dataframe tbody tr th {\n",
       "        vertical-align: top;\n",
       "    }\n",
       "\n",
       "    .dataframe thead th {\n",
       "        text-align: right;\n",
       "    }\n",
       "</style>\n",
       "<table border=\"1\" class=\"dataframe\">\n",
       "  <thead>\n",
       "    <tr style=\"text-align: right;\">\n",
       "      <th></th>\n",
       "      <th>PATID</th>\n",
       "      <th>PAT_PLANID</th>\n",
       "      <th>ASO</th>\n",
       "      <th>BUS</th>\n",
       "      <th>CDHP</th>\n",
       "      <th>DIVISION</th>\n",
       "      <th>ELIGEFF</th>\n",
       "      <th>ELIGEND</th>\n",
       "      <th>GDR_CD</th>\n",
       "      <th>GROUP_NBR</th>\n",
       "      <th>HEALTH_EXCH</th>\n",
       "      <th>LIS_DUAL</th>\n",
       "      <th>PRODUCT</th>\n",
       "      <th>YRDOB</th>\n",
       "    </tr>\n",
       "  </thead>\n",
       "  <tbody>\n",
       "    <tr>\n",
       "      <th>0</th>\n",
       "      <td>802666110000096</td>\n",
       "      <td>208426656918632</td>\n",
       "      <td>N</td>\n",
       "      <td>COM</td>\n",
       "      <td>3</td>\n",
       "      <td>EAST NORTH CENTRAL</td>\n",
       "      <td>2019-09-01</td>\n",
       "      <td>2021-08-31</td>\n",
       "      <td>M</td>\n",
       "      <td>LLLU1OPCP</td>\n",
       "      <td>0</td>\n",
       "      <td></td>\n",
       "      <td>POS</td>\n",
       "      <td>2011</td>\n",
       "    </tr>\n",
       "    <tr>\n",
       "      <th>1</th>\n",
       "      <td>802666110000117</td>\n",
       "      <td>208426147489515</td>\n",
       "      <td>N</td>\n",
       "      <td>COM</td>\n",
       "      <td>2</td>\n",
       "      <td>EAST NORTH CENTRAL</td>\n",
       "      <td>2019-02-01</td>\n",
       "      <td>2019-07-19</td>\n",
       "      <td>F</td>\n",
       "      <td>LLLHS5U66</td>\n",
       "      <td>0</td>\n",
       "      <td></td>\n",
       "      <td>EPO</td>\n",
       "      <td>1993</td>\n",
       "    </tr>\n",
       "  </tbody>\n",
       "</table>\n",
       "</div>"
      ],
      "text/plain": [
       "             PATID       PAT_PLANID ASO  BUS CDHP            DIVISION  \\\n",
       "0  802666110000096  208426656918632   N  COM    3  EAST NORTH CENTRAL   \n",
       "1  802666110000117  208426147489515   N  COM    2  EAST NORTH CENTRAL   \n",
       "\n",
       "     ELIGEFF    ELIGEND GDR_CD  GROUP_NBR HEALTH_EXCH LIS_DUAL PRODUCT  YRDOB  \n",
       "0 2019-09-01 2021-08-31      M  LLLU1OPCP           0              POS   2011  \n",
       "1 2019-02-01 2019-07-19      F  LLLHS5U66           0              EPO   1993  "
      ]
     },
     "execution_count": 9,
     "metadata": {},
     "output_type": "execute_result"
    }
   ],
   "source": [
    "mbr_enroll_df = pd.read_parquet('/N/project/optum/data/parquet/ses_81_202201/ses_mbr_enroll.parquet', engine='pyarrow')\n",
    "mbr_enroll_df.shape\n",
    "mbr_enroll_df.head(2)"
   ]
  },
  {
   "cell_type": "code",
   "execution_count": 10,
   "id": "91ad041a",
   "metadata": {},
   "outputs": [
    {
     "data": {
      "text/plain": [
       "(135536313, 2)"
      ]
     },
     "execution_count": 10,
     "metadata": {},
     "output_type": "execute_result"
    },
    {
     "name": "stderr",
     "output_type": "stream",
     "text": [
      "/tmp/ipykernel_20070/2465320486.py:3: SettingWithCopyWarning: \n",
      "A value is trying to be set on a copy of a slice from a DataFrame\n",
      "\n",
      "See the caveats in the documentation: https://pandas.pydata.org/pandas-docs/stable/user_guide/indexing.html#returning-a-view-versus-a-copy\n",
      "  mbr_pat_div.drop_duplicates(inplace = True)\n"
     ]
    },
    {
     "data": {
      "text/plain": [
       "(75446404, 2)"
      ]
     },
     "execution_count": 10,
     "metadata": {},
     "output_type": "execute_result"
    }
   ],
   "source": [
    "mbr_pat_div = mbr_enroll_df[['PATID', 'DIVISION']]\n",
    "mbr_pat_div.shape\n",
    "mbr_pat_div.drop_duplicates(inplace = True)\n",
    "mbr_pat_div.shape"
   ]
  },
  {
   "cell_type": "code",
   "execution_count": 11,
   "id": "441e8511",
   "metadata": {},
   "outputs": [
    {
     "data": {
      "text/plain": [
       "(75446404, 3)"
      ]
     },
     "execution_count": 11,
     "metadata": {},
     "output_type": "execute_result"
    },
    {
     "data": {
      "text/html": [
       "<div>\n",
       "<style scoped>\n",
       "    .dataframe tbody tr th:only-of-type {\n",
       "        vertical-align: middle;\n",
       "    }\n",
       "\n",
       "    .dataframe tbody tr th {\n",
       "        vertical-align: top;\n",
       "    }\n",
       "\n",
       "    .dataframe thead th {\n",
       "        text-align: right;\n",
       "    }\n",
       "</style>\n",
       "<table border=\"1\" class=\"dataframe\">\n",
       "  <thead>\n",
       "    <tr style=\"text-align: right;\">\n",
       "      <th></th>\n",
       "      <th>PATID</th>\n",
       "      <th>DIVISION</th>\n",
       "      <th>D_RACE_CODE</th>\n",
       "    </tr>\n",
       "  </thead>\n",
       "  <tbody>\n",
       "    <tr>\n",
       "      <th>0</th>\n",
       "      <td>802666110000096</td>\n",
       "      <td>EAST NORTH CENTRAL</td>\n",
       "      <td>White</td>\n",
       "    </tr>\n",
       "    <tr>\n",
       "      <th>1</th>\n",
       "      <td>802666110000117</td>\n",
       "      <td>EAST NORTH CENTRAL</td>\n",
       "      <td>White</td>\n",
       "    </tr>\n",
       "  </tbody>\n",
       "</table>\n",
       "</div>"
      ],
      "text/plain": [
       "             PATID            DIVISION D_RACE_CODE\n",
       "0  802666110000096  EAST NORTH CENTRAL       White\n",
       "1  802666110000117  EAST NORTH CENTRAL       White"
      ]
     },
     "execution_count": 11,
     "metadata": {},
     "output_type": "execute_result"
    },
    {
     "data": {
      "text/plain": [
       "(75446404, 3)"
      ]
     },
     "execution_count": 11,
     "metadata": {},
     "output_type": "execute_result"
    }
   ],
   "source": [
    "mbr_ses_pat = pd.merge(mbr_pat_div, ses_pat_race, how = 'left', on = 'PATID')\n",
    "mbr_ses_pat.shape\n",
    "mbr_ses_pat.head(2)\n",
    "mbr_ses_pat.drop_duplicates(inplace = True)\n",
    "mbr_ses_pat.shape"
   ]
  },
  {
   "cell_type": "code",
   "execution_count": 16,
   "id": "64ebe475",
   "metadata": {},
   "outputs": [],
   "source": [
    "mbr_ses_pat['D_RACE_CODE'].fillna('Unknown', inplace = True)"
   ]
  },
  {
   "cell_type": "markdown",
   "id": "ea237f23",
   "metadata": {},
   "source": [
    "## Extracting patients IDs for division and race code combinations"
   ]
  },
  {
   "cell_type": "code",
   "execution_count": 18,
   "id": "8a1f5821",
   "metadata": {},
   "outputs": [
    {
     "name": "stdout",
     "output_type": "stream",
     "text": [
      "EAST NORTH CENTRAL_White_ids\n",
      "EAST NORTH CENTRAL_Hispanic_ids\n",
      "EAST NORTH CENTRAL_Unknown_ids\n",
      "EAST NORTH CENTRAL_Asian_ids\n",
      "EAST NORTH CENTRAL_Black_ids\n",
      "EAST SOUTH CENTRAL_White_ids\n",
      "EAST SOUTH CENTRAL_Hispanic_ids\n",
      "EAST SOUTH CENTRAL_Unknown_ids\n",
      "EAST SOUTH CENTRAL_Asian_ids\n",
      "EAST SOUTH CENTRAL_Black_ids\n",
      "MOUNTAIN_White_ids\n",
      "MOUNTAIN_Hispanic_ids\n",
      "MOUNTAIN_Unknown_ids\n",
      "MOUNTAIN_Asian_ids\n",
      "MOUNTAIN_Black_ids\n",
      "SOUTH ATLANTIC_White_ids\n",
      "SOUTH ATLANTIC_Hispanic_ids\n",
      "SOUTH ATLANTIC_Unknown_ids\n",
      "SOUTH ATLANTIC_Asian_ids\n",
      "SOUTH ATLANTIC_Black_ids\n",
      "PACIFIC_White_ids\n",
      "PACIFIC_Hispanic_ids\n",
      "PACIFIC_Unknown_ids\n",
      "PACIFIC_Asian_ids\n",
      "PACIFIC_Black_ids\n",
      "WEST NORTH CENTRAL_White_ids\n",
      "WEST NORTH CENTRAL_Hispanic_ids\n",
      "WEST NORTH CENTRAL_Unknown_ids\n",
      "WEST NORTH CENTRAL_Asian_ids\n",
      "WEST NORTH CENTRAL_Black_ids\n",
      "WEST SOUTH CENTRAL_White_ids\n",
      "WEST SOUTH CENTRAL_Hispanic_ids\n",
      "WEST SOUTH CENTRAL_Unknown_ids\n",
      "WEST SOUTH CENTRAL_Asian_ids\n",
      "WEST SOUTH CENTRAL_Black_ids\n",
      "MIDDLE ATLANTIC_White_ids\n",
      "MIDDLE ATLANTIC_Hispanic_ids\n",
      "MIDDLE ATLANTIC_Unknown_ids\n",
      "MIDDLE ATLANTIC_Asian_ids\n",
      "MIDDLE ATLANTIC_Black_ids\n",
      "NEW ENGLAND_White_ids\n",
      "NEW ENGLAND_Hispanic_ids\n",
      "NEW ENGLAND_Unknown_ids\n",
      "NEW ENGLAND_Asian_ids\n",
      "NEW ENGLAND_Black_ids\n",
      "UNKNOWN_White_ids\n",
      "UNKNOWN_Hispanic_ids\n",
      "UNKNOWN_Unknown_ids\n",
      "UNKNOWN_Asian_ids\n",
      "UNKNOWN_Black_ids\n"
     ]
    }
   ],
   "source": [
    "div_race_dict = {}\n",
    "\n",
    "for div in mbr_ses_pat['DIVISION'].unique():\n",
    "    for race in mbr_ses_pat['D_RACE_CODE'].unique():\n",
    "        list_name = div + \"_\" + race + \"_\" + 'ids'\n",
    "        print(list_name)\n",
    "        div_race_dict[list_name] = list(mbr_ses_pat[(mbr_ses_pat['D_RACE_CODE'] == race) & (mbr_ses_pat['DIVISION'] == div)]['PATID'].unique())\n"
   ]
  },
  {
   "cell_type": "code",
   "execution_count": 19,
   "id": "6d142ced",
   "metadata": {},
   "outputs": [
    {
     "data": {
      "text/plain": [
       "6902425"
      ]
     },
     "execution_count": 19,
     "metadata": {},
     "output_type": "execute_result"
    }
   ],
   "source": [
    "len(div_race_dict['EAST NORTH CENTRAL_White_ids'])"
   ]
  },
  {
   "cell_type": "code",
   "execution_count": 20,
   "id": "5d27327b",
   "metadata": {},
   "outputs": [
    {
     "name": "stdout",
     "output_type": "stream",
     "text": [
      "The required keys are : ['EAST SOUTH CENTRAL_Asian_ids']\n"
     ]
    }
   ],
   "source": [
    "# Keys with shortest length lists in dictionary\n",
    "# Using len() + loop + items()\n",
    "min_val = min([len(div_race_dict[ele]) for ele in div_race_dict])\n",
    "res = []\n",
    "for ele in div_race_dict:\n",
    "    if len(div_race_dict[ele]) == min_val:\n",
    "        res.append(ele)\n",
    "          \n",
    "# printing result \n",
    "print(\"The required keys are : \" + str(res)) "
   ]
  },
  {
   "cell_type": "code",
   "execution_count": 22,
   "id": "0fbb0d89",
   "metadata": {},
   "outputs": [],
   "source": [
    "import pickle"
   ]
  },
  {
   "cell_type": "code",
   "execution_count": 23,
   "id": "54e42388",
   "metadata": {},
   "outputs": [],
   "source": [
    "with open('div_race_dict.pickle', 'wb') as handle:\n",
    "    pickle.dump(div_race_dict, handle, protocol=pickle.HIGHEST_PROTOCOL)"
   ]
  },
  {
   "cell_type": "code",
   "execution_count": 26,
   "id": "1bd6fa0f",
   "metadata": {},
   "outputs": [],
   "source": [
    "# with open('div_race_dict.pickle', 'rb') as handle:\n",
    "#     b = pickle.load(handle)"
   ]
  },
  {
   "cell_type": "code",
   "execution_count": 27,
   "id": "31b7a31d",
   "metadata": {},
   "outputs": [],
   "source": [
    "# b"
   ]
  },
  {
   "cell_type": "code",
   "execution_count": null,
   "id": "dc588dac",
   "metadata": {},
   "outputs": [],
   "source": []
  }
 ],
 "metadata": {
  "kernelspec": {
   "display_name": "Python 3 (ipykernel)",
   "language": "python",
   "name": "python3"
  },
  "language_info": {
   "codemirror_mode": {
    "name": "ipython",
    "version": 3
   },
   "file_extension": ".py",
   "mimetype": "text/x-python",
   "name": "python",
   "nbconvert_exporter": "python",
   "pygments_lexer": "ipython3",
   "version": "3.9.8"
  }
 },
 "nbformat": 4,
 "nbformat_minor": 5
}
