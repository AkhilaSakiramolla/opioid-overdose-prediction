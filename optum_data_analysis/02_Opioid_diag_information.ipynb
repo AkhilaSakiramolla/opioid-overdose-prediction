{
 "cells": [
  {
   "cell_type": "code",
   "execution_count": 2,
   "id": "a583c2ad",
   "metadata": {},
   "outputs": [],
   "source": [
    "# import optum.utils\n",
    "import pandas as pd\n",
    "import numpy as np\n",
    "import gzip\n",
    "from io import StringIO\n",
    "import pyarrow as pa\n",
    "import pyarrow.parquet as pq\n",
    "\n",
    "pd.set_option('display.max_columns', 500)\n",
    "pd.set_option('display.max_rows', 500)\n",
    "# To execute a cell line by line\n",
    "from IPython.core.interactiveshell import InteractiveShell\n",
    "InteractiveShell.ast_node_interactivity = \"all\""
   ]
  },
  {
   "cell_type": "markdown",
   "id": "f6e25bc4",
   "metadata": {},
   "source": [
    "# Loading Data"
   ]
  },
  {
   "cell_type": "markdown",
   "id": "f3ceb299",
   "metadata": {},
   "source": [
    "## Test RX file"
   ]
  },
  {
   "cell_type": "code",
   "execution_count": 3,
   "id": "c5dcfa9a",
   "metadata": {},
   "outputs": [],
   "source": [
    "file_name = '/N/project/optum/data/parquet/ses_81_202201/ses_r2021q3.parquet'"
   ]
  },
  {
   "cell_type": "code",
   "execution_count": null,
   "id": "1fa9b422",
   "metadata": {},
   "outputs": [],
   "source": [
    "rx_temp = pq.ParquetDataset(file_name, use_legacy_dataset = False)\n",
    "rx_df = rx_temp.read().to_pandas()\n",
    "rx_df.shape\n",
    "rx_df.head()"
   ]
  },
  {
   "cell_type": "code",
   "execution_count": null,
   "id": "e3622758",
   "metadata": {},
   "outputs": [],
   "source": [
    "rx_df['NDC'].value_counts()"
   ]
  },
  {
   "cell_type": "code",
   "execution_count": null,
   "id": "f0a9c23a",
   "metadata": {},
   "outputs": [],
   "source": [
    "rx_df[rx_df['NDC'] == '59267100001'].head(2)"
   ]
  },
  {
   "cell_type": "markdown",
   "id": "7683e3b2",
   "metadata": {},
   "source": [
    "## Loading NDC Lookup table "
   ]
  },
  {
   "cell_type": "code",
   "execution_count": null,
   "id": "90af594b",
   "metadata": {},
   "outputs": [],
   "source": [
    "lu_ndc_df = pd.read_parquet('/N/project/optum/data/parquet/ses_81_202201/lu_ndc.parquet', engine='fastparquet')\n",
    "lu_ndc_df.shape\n",
    "lu_ndc_df.head()"
   ]
  },
  {
   "cell_type": "code",
   "execution_count": null,
   "id": "b96f0088",
   "metadata": {},
   "outputs": [],
   "source": [
    "lu_ndc_df[lu_ndc_df['NDC'] == '59267100001'].head()"
   ]
  },
  {
   "cell_type": "markdown",
   "id": "190492d7",
   "metadata": {},
   "source": [
    "## Loading Diagnosis Lookup table"
   ]
  },
  {
   "cell_type": "code",
   "execution_count": null,
   "id": "73726073",
   "metadata": {},
   "outputs": [],
   "source": [
    "lu_diag_df = pd.read_parquet('/N/project/optum/data/parquet/ses_81_202201/lu_diagnosis.parquet', engine='pyarrow')\n",
    "lu_diag_df.shape\n",
    "lu_diag_df.head()"
   ]
  },
  {
   "cell_type": "code",
   "execution_count": null,
   "id": "13ba0f03",
   "metadata": {},
   "outputs": [],
   "source": [
    "lu_diag_df[(lu_diag_df['ICD_VER_CD'] == '9') & (lu_diag_df['DIAG_CD'] == '25002')].tail()"
   ]
  },
  {
   "cell_type": "code",
   "execution_count": null,
   "id": "0e3fb254",
   "metadata": {},
   "outputs": [],
   "source": [
    "lu_diag_df['ICD_VER_CD'].value_counts()"
   ]
  },
  {
   "cell_type": "code",
   "execution_count": null,
   "id": "931509e2",
   "metadata": {},
   "outputs": [],
   "source": [
    "opioid_icd9_codes = ['30400',\t'30401',\t'30402',\t'30403',\t'30470',\t'30471',\t'30472',\t'30473',\t'30550',\t'30551',\t'30552',\t'30553',\t'96500',\t'96501',\t'96502',\t'96509',\t'9701',\t'E8500',\t'E8501',\t'E8502',\t'E9350',\t'E9351',\t'E9352',\t'E9401']\n",
    "len(opioid_icd9_codes)"
   ]
  },
  {
   "cell_type": "code",
   "execution_count": null,
   "id": "9e5fda98",
   "metadata": {},
   "outputs": [],
   "source": [
    "opioid_icd10_codes = ['F1110',\t'F11120',\t'F11121',\t'F11122',\t'F11129',\t'F1114',\t'F11150',\t'F11151',\t'F11159',\t'F11181',\t'F11182',\t'F11188',\t'F1119',\t'F1120',\t'F1121',\t'F11220',\t'F11221',\t'F11222',\t'F11229',\t'F1123',\t'F1124',\t'F11250',\t'F11251',\t'F11259',\t'F11281',\t'F11282',\t'F11288',\t'F1129',\t'F1190',\t'F11920',\t'F11921',\t'F11922',\t'F11929',\t'F1193',\t'F1194',\t'F11950',\t'F11951',\t'F11959',\t'F11981',\t'F11982',\t'F11988',\t'F1199',\t'T400X1A',\t'T400X1D',\t'T400X2A',\t'T400X2D',\t'T400X3A',\t'T400X3D',\t'T400X4A',\t'T400X4D',\t'T401X1A',\t'T401X1D',\t'T401X2A',\t'T401X2D',\t'T401X3A',\t'T401X3D',\t'T401X4A',\t'T401X4D',\t'T402X1A',\t'T402X1D',\t'T402X2A',\t'T402X2D',\t'T402X3A',\t'T402X3D',\t'T402X4A',\t'T402X4D',\t'T403X1A',\t'T403X1D',\t'T403X2A',\t'T403X2D',\t'T403X3A',\t'T403X3D',\t'T403X4A',\t'T403X4D',\t'T404X1A',\t'T404X1D',\t'T404X2A',\t'T404X2D',\t'T404X3A',\t'T404X3D',\t'T404X4A',\t'T404X4D',\t'T40601A',\t'T40601D',\t'T40602A',\t'T40602D',\t'T40603A',\t'T40603D',\t'T40604A',\t'T40604D',\t'T40691A',\t'T40691D',\t'T40692A',\t'T40692D',\t'T40693A',\t'T40693D',\t'T40694A',\t'T40694D',\t'T400X5A',\t'T400X5D',\t'T402X5A',\t'T402X5D',\t'T403X5A',\t'T403X5D',\t'T404X5A',\t'T404X5D',\t'T40605A',\t'T40605D',\t'T40695A',\t'T40695D',\t'Z79891']\n",
    "len(opioid_icd10_codes)"
   ]
  },
  {
   "cell_type": "code",
   "execution_count": null,
   "id": "1cce6e3f",
   "metadata": {},
   "outputs": [],
   "source": [
    "lu_diag_df.head(2)"
   ]
  },
  {
   "cell_type": "code",
   "execution_count": null,
   "id": "ef3858bf",
   "metadata": {},
   "outputs": [],
   "source": [
    "# Filtering for ICD-9-CM diagnosis codes\n",
    "\n",
    "lu_diag_icd9_opioids = lu_diag_df[(lu_diag_df['ICD_VER_CD'] == '9') & (lu_diag_df['DIAG_CD'].isin(opioid_icd9_codes))]\n",
    "lu_diag_icd9_opioids.shape\n",
    "lu_diag_icd9_opioids['DIAG_CD'].nunique()\n",
    "lu_diag_icd9_opioids.head()\n",
    "\n",
    "lu_diag_icd9_opioids.drop_duplicates(inplace = True)\n",
    "lu_diag_icd9_opioids.shape"
   ]
  },
  {
   "cell_type": "code",
   "execution_count": null,
   "id": "7e6fd1e2",
   "metadata": {},
   "outputs": [],
   "source": [
    "# Filtering for ICD-10-CM diagnosis codes\n",
    "\n",
    "lu_diag_icd10_opioids = lu_diag_df[(lu_diag_df['ICD_VER_CD'] == '10') & (lu_diag_df['DIAG_CD'].isin(opioid_icd10_codes))]\n",
    "lu_diag_icd10_opioids.shape\n",
    "lu_diag_icd10_opioids['DIAG_CD'].nunique()\n",
    "lu_diag_icd10_opioids.head()\n",
    "\n",
    "lu_diag_icd10_opioids.drop_duplicates(inplace = True)\n",
    "lu_diag_icd10_opioids.shape"
   ]
  },
  {
   "cell_type": "code",
   "execution_count": null,
   "id": "98524e81",
   "metadata": {},
   "outputs": [],
   "source": [
    "# Concatenating ICD-9 and ICD-10 dfs\n",
    "\n",
    "lu_diag_icd_opiods = pd.concat([lu_diag_icd9_opioids, lu_diag_icd10_opioids])\n",
    "lu_diag_icd_opiods.reset_index(inplace = True, drop = True)\n",
    "lu_diag_icd_opiods.shape\n",
    "lu_diag_icd_opiods.head(2)"
   ]
  },
  {
   "cell_type": "code",
   "execution_count": null,
   "id": "27c37880",
   "metadata": {},
   "outputs": [],
   "source": [
    "lu_diag_icd_opiods.to_csv('lu_diag_icd_opiods.csv', index = False)"
   ]
  },
  {
   "cell_type": "markdown",
   "id": "55121a9c",
   "metadata": {},
   "source": [
    "## Test Medical Diagnosis table"
   ]
  },
  {
   "cell_type": "code",
   "execution_count": null,
   "id": "36e6419a",
   "metadata": {},
   "outputs": [],
   "source": [
    "file_name1 = '/N/project/optum/data/parquet/ses_81_202201/ses_diag2021q3.parquet'"
   ]
  },
  {
   "cell_type": "code",
   "execution_count": null,
   "id": "0648a0a9",
   "metadata": {},
   "outputs": [],
   "source": [
    "diag_temp = pq.ParquetDataset(file_name1, use_legacy_dataset = False)\n",
    "diag_df = diag_temp.read().to_pandas()\n",
    "diag_df.shape\n",
    "diag_df.head()"
   ]
  },
  {
   "cell_type": "code",
   "execution_count": null,
   "id": "deb5b8d6",
   "metadata": {},
   "outputs": [],
   "source": [
    "diag_df['ICD_FLAG'].value_counts()"
   ]
  },
  {
   "cell_type": "code",
   "execution_count": null,
   "id": "33b8aaca",
   "metadata": {},
   "outputs": [],
   "source": [
    "diag_df['DIAG'].value_counts()"
   ]
  },
  {
   "cell_type": "code",
   "execution_count": null,
   "id": "99f105c4",
   "metadata": {},
   "outputs": [],
   "source": [
    "diag_df[diag_df['DIAG'].isin(opioid_icd10_codes)].shape\n",
    "diag_df[diag_df['DIAG'].isin(opioid_icd10_codes)]['DIAG'].unique()"
   ]
  },
  {
   "cell_type": "code",
   "execution_count": null,
   "id": "4ae73427",
   "metadata": {},
   "outputs": [],
   "source": [
    "diag_df[diag_df['DIAG'].isin(opioid_icd9_codes)].shape"
   ]
  },
  {
   "cell_type": "code",
   "execution_count": null,
   "id": "78f0aa0f",
   "metadata": {},
   "outputs": [],
   "source": [
    "diag_df[diag_df['ICD_FLAG'] == '9']['DIAG'].unique()"
   ]
  },
  {
   "cell_type": "code",
   "execution_count": null,
   "id": "cad36e38",
   "metadata": {},
   "outputs": [],
   "source": []
  }
 ],
 "metadata": {
  "kernelspec": {
   "display_name": "Python 3 (ipykernel)",
   "language": "python",
   "name": "python3"
  },
  "language_info": {
   "codemirror_mode": {
    "name": "ipython",
    "version": 3
   },
   "file_extension": ".py",
   "mimetype": "text/x-python",
   "name": "python",
   "nbconvert_exporter": "python",
   "pygments_lexer": "ipython3",
   "version": "3.9.8"
  }
 },
 "nbformat": 4,
 "nbformat_minor": 5
}
