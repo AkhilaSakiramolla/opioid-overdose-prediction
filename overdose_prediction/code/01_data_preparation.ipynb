{
 "cells": [
  {
   "cell_type": "markdown",
   "id": "890f41e5",
   "metadata": {},
   "source": [
    "# Importing required libraries"
   ]
  },
  {
   "cell_type": "code",
   "execution_count": 2,
   "id": "7c1617f1",
   "metadata": {},
   "outputs": [],
   "source": [
    "import pandas as pd\n",
    "import numpy as np\n",
    "import pickle\n",
    "import random\n",
    "import os\n",
    "from glob import glob\n",
    "import pyarrow.parquet as pq\n",
    "import warnings\n",
    "warnings.filterwarnings('ignore')\n",
    "# To execute a cell line by line\n",
    "from IPython.core.interactiveshell import InteractiveShell\n",
    "InteractiveShell.ast_node_interactivity = \"all\""
   ]
  },
  {
   "cell_type": "markdown",
   "id": "41098e8d",
   "metadata": {},
   "source": [
    "# Loading data"
   ]
  },
  {
   "cell_type": "code",
   "execution_count": 3,
   "id": "e20834f4",
   "metadata": {},
   "outputs": [],
   "source": [
    "dodr_location = '/N/project/optum/data/parquet/dodr_81_202107/'"
   ]
  },
  {
   "cell_type": "code",
   "execution_count": 4,
   "id": "4d67fa58",
   "metadata": {},
   "outputs": [
    {
     "name": "stdout",
     "output_type": "stream",
     "text": [
      "dod_lr2021q1.parquet\n",
      "dod_provider_bridge.parquet\n",
      "dod_r2019q3.parquet\n",
      "dod_lr2011q2.parquet\n",
      "dod_r2007q2.parquet\n",
      "dod_proc2021q1.parquet\n",
      "dod_m2011q2.parquet\n",
      "dod_m2015q4.parquet\n",
      "dod_lr2008q1.parquet\n",
      "dod_diag2020q2.parquet\n",
      "dod_proc2008q4.parquet\n",
      "dod_proc2016q2.parquet\n",
      "dod_m2018q4.parquet\n",
      "dod_lr2007q4.parquet\n",
      "dod_c2014q3.parquet\n",
      "dod_c2014q1.parquet\n",
      "dod_c2017q3.parquet\n",
      "dod_m2014q2.parquet\n",
      "dod_diag2008q4.parquet\n",
      "dod_proc2016q1.parquet\n",
      "dod_lr2019q3.parquet\n",
      "dod_proc2017q3.parquet\n",
      "dod_lr2020q1.parquet\n",
      "dod_lr2020q4.parquet\n",
      "dod_lr2012q1.parquet\n",
      "dod_diag2015q2.parquet\n",
      "dod_proc2014q4.parquet\n",
      "dod_diag2016q1.parquet\n",
      "dod_r2013q2.parquet\n",
      "dod_proc2017q2.parquet\n",
      "dod_mbr_enroll_r.parquet\n",
      "dod_lr2012q3.parquet\n",
      "dod_r2010q1.parquet\n",
      "dod_lr2015q4.parquet\n",
      "dod_m2010q1.parquet\n",
      "dod_r2018q1.parquet\n",
      "dod_diag2015q3.parquet\n",
      "dod_c2019q1.parquet\n",
      "dod_r2011q1.parquet\n",
      "dod_c2012q3.parquet\n",
      "dod_lr2016q3.parquet\n",
      "dod_m2016q2.parquet\n",
      "dod_lr2015q2.parquet\n",
      "dod_c2015q2.parquet\n",
      "dod_lr2013q1.parquet\n",
      "dod_r2015q3.parquet\n",
      "dod_lr2017q4.parquet\n",
      "dod_diag2009q1.parquet\n",
      "dod_lr2018q1.parquet\n",
      "dod_lr2007q1.parquet\n",
      "dod_lr2018q3.parquet\n",
      "dod_proc2007q3.parquet\n",
      "dod_lr2007q3.parquet\n",
      "lu_ndc.parquet\n",
      "dod_r2013q4.parquet\n",
      "dod_c2017q4.parquet\n",
      "dod_proc2016q4.parquet\n",
      "dod_diag2014q4.parquet\n",
      "dod_diag2014q2.parquet\n",
      "dod_diag2020q1.parquet\n",
      "dod_r2018q3.parquet\n",
      "dod_m2014q1.parquet\n",
      "dod_diag2010q3.parquet\n",
      "dod_proc2015q3.parquet\n",
      "dod_proc2015q4.parquet\n",
      "dod_r2014q2.parquet\n",
      "dod_lr2014q4.parquet\n",
      "dod_diag2018q2.parquet\n",
      "dod_c2007q4.parquet\n",
      "dod_lr2017q3.parquet\n",
      "dod_m2020q2.parquet\n",
      "dod_lr2009q4.parquet\n",
      "dod_c2018q4.parquet\n",
      "dod_r2016q1.parquet\n",
      "dod_c2009q3.parquet\n",
      "dod_lr2011q1.parquet\n",
      "dod_proc2018q3.parquet\n",
      "dod_diag2019q4.parquet\n",
      "dod_lr2012q2.parquet\n",
      "dod_r2016q3.parquet\n",
      "dod_diag2011q2.parquet\n",
      "dod_m2017q4.parquet\n",
      "dod_diag2018q3.parquet\n",
      "dod_lr2011q3.parquet\n",
      "dod_r2020q4.parquet\n",
      "dod_c2007q1.parquet\n",
      "dod_lr2007q2.parquet\n",
      "dod_r2012q4.parquet\n",
      "dod_r2018q2.parquet\n",
      "dod_c2017q1.parquet\n",
      "dod_m2007q2.parquet\n",
      "dod_proc2012q2.parquet\n",
      "dod_proc2010q2.parquet\n",
      "lu_procedure.parquet\n",
      "dod_proc2018q4.parquet\n",
      "dod_lr2009q2.parquet\n",
      "dod_m2019q3.parquet\n",
      "dod_c2010q2.parquet\n",
      "dod_m2009q1.parquet\n",
      "dod_proc2013q4.parquet\n",
      "dod_proc2020q2.parquet\n",
      "dod_r2009q2.parquet\n",
      "dod_diag2010q2.parquet\n",
      "dod_diag2009q3.parquet\n",
      "dod_c2012q1.parquet\n",
      "dod_lr2011q4.parquet\n",
      "dod_provider.parquet\n",
      "dod_c2008q3.parquet\n",
      "dod_lr2014q1.parquet\n",
      "dod_m2017q2.parquet\n",
      "dod_m2018q3.parquet\n",
      "dod_lr2010q1.parquet\n",
      "dod_diag2012q3.parquet\n",
      "dod_r2016q4.parquet\n",
      "dod_proc2019q1.parquet\n",
      "dod_m2014q4.parquet\n",
      "dod_diag2019q1.parquet\n",
      "dod_r2015q2.parquet\n",
      "dod_m2019q4.parquet\n",
      "dod_proc2013q3.parquet\n",
      "dod_r2013q3.parquet\n",
      "dod_r2012q1.parquet\n",
      "dod_proc2007q2.parquet\n",
      "dod_r2020q1.parquet\n",
      "dod_proc2008q1.parquet\n",
      "dod_c2014q2.parquet\n",
      "dod_r2015q4.parquet\n",
      "dod_c2007q3.parquet\n",
      "dod_lr2010q2.parquet\n",
      "dod_r2008q4.parquet\n",
      "dod_c2016q3.parquet\n",
      "dod_proc2009q2.parquet\n",
      "dod_proc2017q4.parquet\n",
      "dod_c2011q3.parquet\n",
      "dod_proc2009q3.parquet\n",
      "dod_proc2011q2.parquet\n",
      "dod_c2011q2.parquet\n",
      "dod_proc2020q3.parquet\n",
      "dod_proc2015q1.parquet\n",
      "dod_proc2012q3.parquet\n",
      "dod_proc2014q2.parquet\n",
      "dod_lr2018q2.parquet\n",
      "dod_lr2018q4.parquet\n",
      "dod_r2007q4.parquet\n",
      "dod_m2012q2.parquet\n",
      "dod_lr2012q4.parquet\n",
      "dod_m2019q2.parquet\n",
      "dod_diag2010q4.parquet\n",
      "dod_r2017q3.parquet\n",
      "dod_proc2018q1.parquet\n",
      "dod_diag2021q1.parquet\n",
      "dod_proc2007q4.parquet\n",
      "dod_m2013q1.parquet\n",
      "dod_diag2008q1.parquet\n",
      "dod_m2013q3.parquet\n",
      "dod_proc2012q1.parquet\n",
      "dod_proc2008q3.parquet\n",
      "dod_diag2014q3.parquet\n",
      "dod_c2015q1.parquet\n",
      "dod_c2019q4.parquet\n",
      "dod_lr2020q2.parquet\n",
      "dod_diag2017q1.parquet\n",
      "dod_lr2015q3.parquet\n",
      "dod_c2019q2.parquet\n",
      "lu_diagnosis.parquet\n",
      "dod_c2009q1.parquet\n",
      "dod_diag2018q4.parquet\n",
      "dod_c2009q4.parquet\n",
      "dod_diag2012q1.parquet\n",
      "dod_c2020q1.parquet\n",
      "dod_r2014q1.parquet\n",
      "dod_m2012q4.parquet\n",
      "dod_diag2009q4.parquet\n",
      "dod_r2020q2.parquet\n",
      "dod_lr2016q4.parquet\n",
      "dod_r2007q3.parquet\n",
      "dod_r2010q4.parquet\n",
      "dod_r2011q4.parquet\n",
      "dod_c2011q1.parquet\n",
      "dod_proc2016q3.parquet\n",
      "dod_c2018q1.parquet\n",
      "dod_r2019q4.parquet\n",
      "dod_c2013q2.parquet\n",
      "dod_lr2017q1.parquet\n",
      "dod_proc2013q2.parquet\n",
      "dod_diag2017q2.parquet\n",
      "dod_c2018q3.parquet\n",
      "dod_lr2014q3.parquet\n",
      "dod_m2007q3.parquet\n",
      "dod_r2021q1.parquet\n",
      "dod_diag2007q1.parquet\n",
      "dod_c2015q3.parquet\n",
      "dod_c2011q4.parquet\n",
      "dod_c2019q3.parquet\n",
      "dod_m2011q3.parquet\n",
      "dod_m2012q1.parquet\n",
      "dod_c2020q3.parquet\n",
      "dod_lr2019q4.parquet\n",
      "dod_proc2010q1.parquet\n",
      "dod_diag2011q1.parquet\n",
      "dod_lr2019q2.parquet\n",
      "dod_diag2013q4.parquet\n",
      "dod_m2018q1.parquet\n",
      "dod_diag2016q3.parquet\n",
      "dod_lr2020q3.parquet\n",
      "dod_proc2010q4.parquet\n",
      "dod_diag2013q3.parquet\n",
      "dod_m2020q3.parquet\n",
      "dod_m2011q4.parquet\n",
      "dod_proc2009q1.parquet\n",
      "dod_diag2017q3.parquet\n",
      "dod_lr2016q1.parquet\n",
      "dod_m2021q1.parquet\n",
      "dod_lr2009q3.parquet\n",
      "dod_m2008q2.parquet\n",
      "dod_diag2010q1.parquet\n",
      "dod_diag2015q4.parquet\n",
      "dod_proc2014q3.parquet\n",
      "dod_c2010q1.parquet\n",
      "dod_c2010q3.parquet\n",
      "dod_m2009q3.parquet\n",
      "dod_c2008q4.parquet\n",
      "dod_lr2019q1.parquet\n",
      "dod_proc2012q4.parquet\n",
      "dod_lr2014q2.parquet\n",
      "dod_proc2011q4.parquet\n",
      "dod_r2010q3.parquet\n",
      "dod_c2013q4.parquet\n",
      "dod_r2015q1.parquet\n",
      "dod_proc2019q2.parquet\n",
      "dod_c2013q1.parquet\n",
      "dod_lr2015q1.parquet\n",
      "dod_c2008q1.parquet\n",
      "dod_c2012q4.parquet\n",
      "dod_c2016q2.parquet\n",
      "dod_m2018q2.parquet\n",
      "dod_m2016q1.parquet\n",
      "dod_m2015q1.parquet\n",
      "dod_r2009q3.parquet\n",
      "dod_lr2013q3.parquet\n",
      "dod_r2017q2.parquet\n",
      "dod_m2014q3.parquet\n",
      "dod_m2008q4.parquet\n",
      "dod_proc2013q1.parquet\n",
      "dod_lr2013q2.parquet\n",
      "dod_c2016q1.parquet\n",
      "dod_c2020q2.parquet\n",
      "dod_c2013q3.parquet\n",
      "dod_r2016q2.parquet\n",
      "dod_r2017q1.parquet\n",
      "dod_m2019q1.parquet\n",
      "dod_diag2019q2.parquet\n",
      "dod_lr2009q1.parquet\n",
      "dod_diag2015q1.parquet\n",
      "dod_lr2008q4.parquet\n",
      "dod_diag2011q3.parquet\n",
      "dod_c2021q1.parquet\n",
      "dod_m2009q2.parquet\n",
      "dod_diag2019q3.parquet\n",
      "dod_m2020q1.parquet\n",
      "dod_lr2008q3.parquet\n",
      "dod_proc2014q1.parquet\n",
      "dod_lr2010q4.parquet\n",
      "dod_lr2017q2.parquet\n",
      "dod_diag2013q2.parquet\n",
      "dod_diag2007q2.parquet\n",
      "dod_diag2017q4.parquet\n",
      "dod_diag2014q1.parquet\n",
      "dod_m2017q1.parquet\n",
      "dod_r2018q4.parquet\n",
      "dod_m2008q3.parquet\n",
      "dod_m2008q1.parquet\n",
      "dod_m2016q3.parquet\n",
      "dod_r2019q2.parquet\n",
      "dod_c2010q4.parquet\n",
      "dod_diag2018q1.parquet\n",
      "dod_lr2010q3.parquet\n",
      "dod_diag2020q3.parquet\n",
      "dod_proc2011q1.parquet\n",
      "dod_diag2008q2.parquet\n",
      "dod_m2016q4.parquet\n",
      "dod_m2007q1.parquet\n",
      "dod_proc2018q2.parquet\n",
      "dod_c2007q2.parquet\n",
      "dod_m2010q2.parquet\n",
      "dod_diag2016q2.parquet\n",
      "dod_diag2007q4.parquet\n",
      "dod_proc2010q3.parquet\n",
      "dod_m2009q4.parquet\n",
      "dod_m2017q3.parquet\n",
      "dod_diag2020q4.parquet\n",
      "dod_m2010q4.parquet\n",
      "dod_c2017q2.parquet\n",
      "dod_m2015q3.parquet\n",
      "dod_r2013q1.parquet\n",
      "dod_m2013q2.parquet\n",
      "dod_proc2017q1.parquet\n",
      "dod_proc2011q3.parquet\n",
      "dod_diag2013q1.parquet\n",
      "dod_m2020q4.parquet\n",
      "dod_diag2016q4.parquet\n",
      "dod_diag2009q2.parquet\n",
      "dod_r2011q2.parquet\n",
      "dod_mbr_co_enroll_r.parquet\n",
      "dod_proc2009q4.parquet\n",
      "dod_r2019q1.parquet\n",
      "dod_m2010q3.parquet\n",
      "dod_proc2019q4.parquet\n",
      "dod_r2014q4.parquet\n",
      "dod_c2020q4.parquet\n",
      "dod_c2018q2.parquet\n",
      "dod_r2017q4.parquet\n",
      "dod_m2015q2.parquet\n",
      "dod_diag2011q4.parquet\n",
      "dod_proc2020q1.parquet\n",
      "dod_diag2012q2.parquet\n",
      "dod_c2009q2.parquet\n",
      "dod_r2014q3.parquet\n",
      "dod_m2012q3.parquet\n",
      "dod_proc2015q2.parquet\n",
      "dod_r2012q3.parquet\n",
      "dod_diag2012q4.parquet\n",
      "dod_lr2008q2.parquet\n",
      "dod_r2009q4.parquet\n",
      "dod_r2012q2.parquet\n",
      "dod_lr2013q4.parquet\n",
      "dod_mbrwdeath.parquet\n",
      "dod_r2011q3.parquet\n",
      "dod_c2014q4.parquet\n",
      "dod_c2008q2.parquet\n",
      "dod_r2010q2.parquet\n",
      "dod_r2008q1.parquet\n",
      "dod_r2008q3.parquet\n",
      "dod_r2009q1.parquet\n",
      "dod_c2016q4.parquet\n",
      "dod_diag2007q3.parquet\n",
      "dod_m2007q4.parquet\n",
      "dod_proc2020q4.parquet\n",
      "dod_r2007q1.parquet\n",
      "dod_proc2019q3.parquet\n",
      "dod_r2008q2.parquet\n",
      "dod_c2012q2.parquet\n",
      "dod_diag2008q3.parquet\n",
      "dod_proc2007q1.parquet\n",
      "dod_proc2008q2.parquet\n",
      "dod_lr2016q2.parquet\n",
      "dod_m2013q4.parquet\n",
      "dod_c2015q4.parquet\n",
      "dod_m2011q1.parquet\n",
      "dod_r2020q3.parquet\n"
     ]
    }
   ],
   "source": [
    "# Getting all latest dodr files\n",
    "\n",
    "filenames = os.listdir(dodr_location)\n",
    "for files in filenames:\n",
    "    print(files)"
   ]
  },
  {
   "cell_type": "markdown",
   "id": "b8741592",
   "metadata": {},
   "source": [
    "# Identifying Patient IDs with Opioid in their prescriptions "
   ]
  },
  {
   "cell_type": "markdown",
   "id": "b846086c",
   "metadata": {},
   "source": [
    "Using RX tables and NDC column"
   ]
  },
  {
   "cell_type": "code",
   "execution_count": 5,
   "id": "fb109038",
   "metadata": {},
   "outputs": [
    {
     "data": {
      "text/plain": [
       "['/N/project/optum/data/parquet/dodr_81_202107/dod_r2007q2.parquet',\n",
       " '/N/project/optum/data/parquet/dodr_81_202107/dod_r2007q4.parquet',\n",
       " '/N/project/optum/data/parquet/dodr_81_202107/dod_r2007q3.parquet',\n",
       " '/N/project/optum/data/parquet/dodr_81_202107/dod_r2007q1.parquet']"
      ]
     },
     "execution_count": 5,
     "metadata": {},
     "output_type": "execute_result"
    }
   ],
   "source": [
    "# Filtering all RX files\n",
    "\n",
    "rx_files = glob(dodr_location + '*dod_r2007*')\n",
    "rx_files"
   ]
  },
  {
   "cell_type": "code",
   "execution_count": 6,
   "id": "0860acdd",
   "metadata": {},
   "outputs": [],
   "source": [
    "# rx_df = pd.read_parquet(rx_files[0])\n",
    "# rx_df.shape\n",
    "# rx_df['PATID'].nunique()"
   ]
  },
  {
   "cell_type": "code",
   "execution_count": 7,
   "id": "05b6ea5a",
   "metadata": {},
   "outputs": [
    {
     "data": {
      "text/plain": [
       "41520"
      ]
     },
     "execution_count": 7,
     "metadata": {},
     "output_type": "execute_result"
    }
   ],
   "source": [
    "# CMS NDC codes\n",
    "\n",
    "with open('filter_list_no_star', 'rb') as f:\n",
    "    op_ndc_codes = pickle.load(f)\n",
    "    \n",
    "len(op_ndc_codes)"
   ]
  },
  {
   "cell_type": "code",
   "execution_count": 8,
   "id": "2c7b520d",
   "metadata": {},
   "outputs": [],
   "source": [
    "# Filtering RX files for patient IDs with at least one opioid prescription using CMS NDC codes\n",
    "\n",
    "def filterOpRxPat(files, op_ndc_codes):\n",
    "    rx_df = pd.DataFrame()\n",
    "    op_pat_id = []\n",
    "\n",
    "    for i in files:\n",
    "        x = pd.read_parquet(i)\n",
    "        rx_ndc_codes = x['NDC'].unique()\n",
    "        rx_op_ndc_codes = [s2 for s1 in op_ndc_codes for s2 in rx_ndc_codes if s1 in s2]\n",
    "        op_pat_temp = x[x['NDC'].isin(rx_op_ndc_codes)]['PATID'].unique()\n",
    "        temp = x[x['PATID'].isin(op_pat_temp)]\n",
    "        print(i)\n",
    "        print(\"Shape:\", x.shape, temp.shape)\n",
    "        print(\"NDC codes:\", x['NDC'].nunique(), temp['NDC'].nunique())\n",
    "        print(\"Patient count:\", x['PATID'].nunique(), temp['PATID'].nunique())\n",
    "        rx_df = rx_df.append(temp)\n",
    "        op_pat_id.extend(op_pat_temp)\n",
    "        del x, temp, op_pat_temp\n",
    "\n",
    "    return rx_df, op_pat_id\n"
   ]
  },
  {
   "cell_type": "code",
   "execution_count": 9,
   "id": "8b3e7d67",
   "metadata": {},
   "outputs": [
    {
     "name": "stdout",
     "output_type": "stream",
     "text": [
      "/N/project/optum/data/parquet/dodr_81_202107/dod_r2007q2.parquet\n",
      "Shape: (39201711, 34) (9215094, 34)\n",
      "NDC codes: 26166 19805\n",
      "Patient count: 7185289 1035553\n",
      "/N/project/optum/data/parquet/dodr_81_202107/dod_r2007q4.parquet\n",
      "Shape: (40317373, 34) (9970291, 34)\n",
      "NDC codes: 27134 20735\n",
      "Patient count: 7203220 1101357\n",
      "/N/project/optum/data/parquet/dodr_81_202107/dod_r2007q3.parquet\n",
      "Shape: (38727543, 34) (9019324, 34)\n",
      "NDC codes: 26613 20075\n",
      "Patient count: 7047536 1004523\n",
      "/N/project/optum/data/parquet/dodr_81_202107/dod_r2007q1.parquet\n",
      "Shape: (39730026, 34) (9895122, 34)\n",
      "NDC codes: 26012 19910\n",
      "Patient count: 7438695 1164096\n"
     ]
    },
    {
     "data": {
      "text/plain": [
       "(38099831, 34)"
      ]
     },
     "execution_count": 9,
     "metadata": {},
     "output_type": "execute_result"
    },
    {
     "data": {
      "text/plain": [
       "26460"
      ]
     },
     "execution_count": 9,
     "metadata": {},
     "output_type": "execute_result"
    },
    {
     "data": {
      "text/plain": [
       "2962506"
      ]
     },
     "execution_count": 9,
     "metadata": {},
     "output_type": "execute_result"
    }
   ],
   "source": [
    "rx_op_df, op_pat_list = filterOpRxPat(rx_files, op_ndc_codes)\n",
    "rx_op_df.shape\n",
    "rx_op_df['NDC'].nunique()\n",
    "rx_op_df['PATID'].nunique()"
   ]
  },
  {
   "cell_type": "code",
   "execution_count": 10,
   "id": "390c615f",
   "metadata": {},
   "outputs": [
    {
     "data": {
      "text/plain": [
       "157976653"
      ]
     },
     "execution_count": 10,
     "metadata": {},
     "output_type": "execute_result"
    }
   ],
   "source": [
    "39201711 + 40317373 + 38727543 + 39730026"
   ]
  },
  {
   "cell_type": "code",
   "execution_count": 11,
   "id": "23ec669b",
   "metadata": {},
   "outputs": [
    {
     "data": {
      "text/plain": [
       "24.12"
      ]
     },
     "execution_count": 11,
     "metadata": {},
     "output_type": "execute_result"
    }
   ],
   "source": [
    "# % of patients with op prescritption out of total patients\n",
    "\n",
    "# round((rx_op_df['PATID'].nunique()/rx_df['PATID'].nunique())*100, 2)\n",
    "\n",
    "round(((9215094 + 9970291 + 9019324 + 9895122)/(39201711 + 40317373 + 38727543 + 39730026))*100, 2)"
   ]
  },
  {
   "cell_type": "code",
   "execution_count": 12,
   "id": "ce8e6348",
   "metadata": {},
   "outputs": [],
   "source": [
    "# non_op_df = rx_df[~rx_df['NDC'].isin(op_ndc_codes)]\n",
    "# non_op_df.shape\n",
    "# non_op_df['NDC'].nunique()\n",
    "# non_op_df['NDC'].unique()"
   ]
  },
  {
   "cell_type": "code",
   "execution_count": 13,
   "id": "852809e2",
   "metadata": {},
   "outputs": [],
   "source": [
    "# non_op_df['BRND_NM'].value_counts()"
   ]
  },
  {
   "cell_type": "code",
   "execution_count": null,
   "id": "948eaa1b",
   "metadata": {},
   "outputs": [],
   "source": []
  },
  {
   "cell_type": "markdown",
   "id": "521e02ba",
   "metadata": {},
   "source": [
    "# Filtering patient IDs with opioid prescriptions in Inpatient data"
   ]
  },
  {
   "cell_type": "markdown",
   "id": "c8d8d8b8",
   "metadata": {},
   "source": [
    "Using Confinement data and above pat IDs"
   ]
  },
  {
   "cell_type": "code",
   "execution_count": 14,
   "id": "fa270ccf",
   "metadata": {},
   "outputs": [
    {
     "data": {
      "text/plain": [
       "4305529"
      ]
     },
     "execution_count": 14,
     "metadata": {},
     "output_type": "execute_result"
    }
   ],
   "source": [
    "len(op_pat_list)"
   ]
  },
  {
   "cell_type": "code",
   "execution_count": 15,
   "id": "f28e98fd",
   "metadata": {},
   "outputs": [
    {
     "data": {
      "text/plain": [
       "list"
      ]
     },
     "execution_count": 15,
     "metadata": {},
     "output_type": "execute_result"
    }
   ],
   "source": [
    "type(op_pat_list)"
   ]
  },
  {
   "cell_type": "code",
   "execution_count": 16,
   "id": "8dab1a85",
   "metadata": {},
   "outputs": [],
   "source": [
    "# list(set([x for x in op_pat_list if op_pat_list.count(x) > 1]))"
   ]
  },
  {
   "cell_type": "code",
   "execution_count": 17,
   "id": "5bee3858",
   "metadata": {},
   "outputs": [
    {
     "data": {
      "text/plain": [
       "['/N/project/optum/data/parquet/dodr_81_202107/dod_c2007q4.parquet',\n",
       " '/N/project/optum/data/parquet/dodr_81_202107/dod_c2007q1.parquet',\n",
       " '/N/project/optum/data/parquet/dodr_81_202107/dod_c2007q3.parquet',\n",
       " '/N/project/optum/data/parquet/dodr_81_202107/dod_c2007q2.parquet']"
      ]
     },
     "execution_count": 17,
     "metadata": {},
     "output_type": "execute_result"
    }
   ],
   "source": [
    "# Filtering all inpatient (confinement) files\n",
    "\n",
    "inp_files = glob(dodr_location + '*dod_c2007*')\n",
    "inp_files"
   ]
  },
  {
   "cell_type": "code",
   "execution_count": 18,
   "id": "cc566e9f",
   "metadata": {},
   "outputs": [],
   "source": [
    "# Function to filter patients with opioids in prescriptions in inpatient data\n",
    "\n",
    "def filterOpioidPrescPatInp(files, op_presc_pat):\n",
    "    \n",
    "    inp_df = pd.DataFrame()\n",
    "    for i in files:\n",
    "        x = pd.read_parquet(i)\n",
    "        temp = x[x['PATID'].isin(op_presc_pat) == True]\n",
    "        print(i)\n",
    "        print(\"Shape:\", x.shape, temp.shape)\n",
    "        print(\"Patient count:\", x['PATID'].nunique(), temp['PATID'].nunique())\n",
    "        inp_df = inp_df.append(temp)\n",
    "        del x, temp\n",
    "        \n",
    "    return inp_df\n"
   ]
  },
  {
   "cell_type": "code",
   "execution_count": 19,
   "id": "fcb429d5",
   "metadata": {},
   "outputs": [
    {
     "name": "stdout",
     "output_type": "stream",
     "text": [
      "/N/project/optum/data/parquet/dodr_81_202107/dod_c2007q4.parquet\n",
      "Shape: (308513, 35) (139620, 35)\n",
      "Patient count: 262577 115859\n",
      "/N/project/optum/data/parquet/dodr_81_202107/dod_c2007q1.parquet\n",
      "Shape: (322815, 35) (144199, 35)\n",
      "Patient count: 274575 119668\n",
      "/N/project/optum/data/parquet/dodr_81_202107/dod_c2007q3.parquet\n",
      "Shape: (298214, 35) (137779, 35)\n",
      "Patient count: 256331 114957\n",
      "/N/project/optum/data/parquet/dodr_81_202107/dod_c2007q2.parquet\n",
      "Shape: (317027, 35) (148865, 35)\n",
      "Patient count: 269858 122994\n"
     ]
    },
    {
     "data": {
      "text/plain": [
       "(570463, 35)"
      ]
     },
     "execution_count": 19,
     "metadata": {},
     "output_type": "execute_result"
    }
   ],
   "source": [
    "# Filtering patients with opioid prescriptions in inpatient data\n",
    "\n",
    "op_inp_df = filterOpioidPrescPatInp(inp_files, op_pat_list)\n",
    "op_inp_df.shape"
   ]
  },
  {
   "cell_type": "code",
   "execution_count": 20,
   "id": "15ec1af6",
   "metadata": {},
   "outputs": [
    {
     "data": {
      "text/html": [
       "<div>\n",
       "<style scoped>\n",
       "    .dataframe tbody tr th:only-of-type {\n",
       "        vertical-align: middle;\n",
       "    }\n",
       "\n",
       "    .dataframe tbody tr th {\n",
       "        vertical-align: top;\n",
       "    }\n",
       "\n",
       "    .dataframe thead th {\n",
       "        text-align: right;\n",
       "    }\n",
       "</style>\n",
       "<table border=\"1\" class=\"dataframe\">\n",
       "  <thead>\n",
       "    <tr style=\"text-align: right;\">\n",
       "      <th></th>\n",
       "      <th>PATID</th>\n",
       "      <th>PAT_PLANID</th>\n",
       "      <th>ADMIT_DATE</th>\n",
       "      <th>CHARGE</th>\n",
       "      <th>COINS</th>\n",
       "      <th>CONF_ID</th>\n",
       "      <th>COPAY</th>\n",
       "      <th>DEDUCT</th>\n",
       "      <th>DIAG1</th>\n",
       "      <th>DIAG2</th>\n",
       "      <th>...</th>\n",
       "      <th>PROV</th>\n",
       "      <th>STD_COST</th>\n",
       "      <th>STD_COST_YR</th>\n",
       "      <th>TOS_CD</th>\n",
       "      <th>ICU_IND</th>\n",
       "      <th>ICU_SURG_IND</th>\n",
       "      <th>MAJ_SURG_IND</th>\n",
       "      <th>MATERNITY_IND</th>\n",
       "      <th>NEWBORN_IND</th>\n",
       "      <th>TOS_EXT</th>\n",
       "    </tr>\n",
       "  </thead>\n",
       "  <tbody>\n",
       "    <tr>\n",
       "      <th>0</th>\n",
       "      <td>33003282019</td>\n",
       "      <td>53013962277</td>\n",
       "      <td>2007-11-19</td>\n",
       "      <td>16868.94</td>\n",
       "      <td>0.00</td>\n",
       "      <td>MOLTNOKZKM4OT</td>\n",
       "      <td>250.0</td>\n",
       "      <td>0.0</td>\n",
       "      <td>78659</td>\n",
       "      <td>42789</td>\n",
       "      <td>...</td>\n",
       "      <td>4774878972</td>\n",
       "      <td>6358.05</td>\n",
       "      <td>2019</td>\n",
       "      <td>FAC_IP.ACUTE</td>\n",
       "      <td>Y</td>\n",
       "      <td>N</td>\n",
       "      <td>N</td>\n",
       "      <td>N</td>\n",
       "      <td>N</td>\n",
       "      <td>FAC_IP.ACUTE.ACUTE.ACUTE.ACUTE</td>\n",
       "    </tr>\n",
       "    <tr>\n",
       "      <th>2</th>\n",
       "      <td>33003282261</td>\n",
       "      <td>53056588883</td>\n",
       "      <td>2007-10-11</td>\n",
       "      <td>14436.23</td>\n",
       "      <td>1528.00</td>\n",
       "      <td>LN6RLMZN4OK4N</td>\n",
       "      <td>0.0</td>\n",
       "      <td>400.0</td>\n",
       "      <td>64511</td>\n",
       "      <td>66411</td>\n",
       "      <td>...</td>\n",
       "      <td>4774888919</td>\n",
       "      <td>6775.95</td>\n",
       "      <td>2019</td>\n",
       "      <td>FAC_IP.ACUTE</td>\n",
       "      <td>N</td>\n",
       "      <td>N</td>\n",
       "      <td>N</td>\n",
       "      <td>Y</td>\n",
       "      <td>N</td>\n",
       "      <td>FAC_IP.ACUTE.ACUTE.ACUTE.ACUTE</td>\n",
       "    </tr>\n",
       "    <tr>\n",
       "      <th>4</th>\n",
       "      <td>33003282417</td>\n",
       "      <td>53009524485</td>\n",
       "      <td>2007-12-12</td>\n",
       "      <td>27332.22</td>\n",
       "      <td>0.00</td>\n",
       "      <td>LTNRLLMO4OK4O</td>\n",
       "      <td>250.0</td>\n",
       "      <td>0.0</td>\n",
       "      <td>2182</td>\n",
       "      <td>78820</td>\n",
       "      <td>...</td>\n",
       "      <td>4774573813</td>\n",
       "      <td>11581.80</td>\n",
       "      <td>2019</td>\n",
       "      <td>FAC_IP.ACUTE</td>\n",
       "      <td>N</td>\n",
       "      <td>N</td>\n",
       "      <td>Y</td>\n",
       "      <td>N</td>\n",
       "      <td>N</td>\n",
       "      <td>FAC_IP.ACUTE.ACUTE.ACUTE.ACUTE</td>\n",
       "    </tr>\n",
       "    <tr>\n",
       "      <th>9</th>\n",
       "      <td>33003283085</td>\n",
       "      <td>53011734739</td>\n",
       "      <td>2007-11-27</td>\n",
       "      <td>32819.75</td>\n",
       "      <td>0.00</td>\n",
       "      <td>MZLT6RLMKM4OO</td>\n",
       "      <td>0.0</td>\n",
       "      <td>0.0</td>\n",
       "      <td>34690</td>\n",
       "      <td>29623</td>\n",
       "      <td>...</td>\n",
       "      <td>4774872509</td>\n",
       "      <td>9820.65</td>\n",
       "      <td>2019</td>\n",
       "      <td>FAC_IP.ACUTE</td>\n",
       "      <td>N</td>\n",
       "      <td>N</td>\n",
       "      <td>N</td>\n",
       "      <td>N</td>\n",
       "      <td>N</td>\n",
       "      <td>FAC_IP.ACUTE.ACUTE.ACUTE.ACUTE</td>\n",
       "    </tr>\n",
       "    <tr>\n",
       "      <th>10</th>\n",
       "      <td>33003283151</td>\n",
       "      <td>53010260932</td>\n",
       "      <td>2007-11-05</td>\n",
       "      <td>67109.48</td>\n",
       "      <td>1414.39</td>\n",
       "      <td>M4MK4OZ4KM4O4</td>\n",
       "      <td>0.0</td>\n",
       "      <td>0.0</td>\n",
       "      <td>41091</td>\n",
       "      <td>5180</td>\n",
       "      <td>...</td>\n",
       "      <td>4774876318</td>\n",
       "      <td>28029.15</td>\n",
       "      <td>2019</td>\n",
       "      <td>FAC_IP.ACUTE</td>\n",
       "      <td>Y</td>\n",
       "      <td>Y</td>\n",
       "      <td>Y</td>\n",
       "      <td>N</td>\n",
       "      <td>N</td>\n",
       "      <td>FAC_IP.ACUTE.ACUTE.ACUTE.ACUTE</td>\n",
       "    </tr>\n",
       "  </tbody>\n",
       "</table>\n",
       "<p>5 rows × 35 columns</p>\n",
       "</div>"
      ],
      "text/plain": [
       "          PATID   PAT_PLANID ADMIT_DATE    CHARGE    COINS        CONF_ID  \\\n",
       "0   33003282019  53013962277 2007-11-19  16868.94     0.00  MOLTNOKZKM4OT   \n",
       "2   33003282261  53056588883 2007-10-11  14436.23  1528.00  LN6RLMZN4OK4N   \n",
       "4   33003282417  53009524485 2007-12-12  27332.22     0.00  LTNRLLMO4OK4O   \n",
       "9   33003283085  53011734739 2007-11-27  32819.75     0.00  MZLT6RLMKM4OO   \n",
       "10  33003283151  53010260932 2007-11-05  67109.48  1414.39  M4MK4OZ4KM4O4   \n",
       "\n",
       "    COPAY  DEDUCT  DIAG1  DIAG2  ...        PROV  STD_COST STD_COST_YR  \\\n",
       "0   250.0     0.0  78659  42789  ...  4774878972   6358.05        2019   \n",
       "2     0.0   400.0  64511  66411  ...  4774888919   6775.95        2019   \n",
       "4   250.0     0.0   2182  78820  ...  4774573813  11581.80        2019   \n",
       "9     0.0     0.0  34690  29623  ...  4774872509   9820.65        2019   \n",
       "10    0.0     0.0  41091   5180  ...  4774876318  28029.15        2019   \n",
       "\n",
       "          TOS_CD ICU_IND ICU_SURG_IND MAJ_SURG_IND MATERNITY_IND  NEWBORN_IND  \\\n",
       "0   FAC_IP.ACUTE       Y            N            N             N            N   \n",
       "2   FAC_IP.ACUTE       N            N            N             Y            N   \n",
       "4   FAC_IP.ACUTE       N            N            Y             N            N   \n",
       "9   FAC_IP.ACUTE       N            N            N             N            N   \n",
       "10  FAC_IP.ACUTE       Y            Y            Y             N            N   \n",
       "\n",
       "                           TOS_EXT  \n",
       "0   FAC_IP.ACUTE.ACUTE.ACUTE.ACUTE  \n",
       "2   FAC_IP.ACUTE.ACUTE.ACUTE.ACUTE  \n",
       "4   FAC_IP.ACUTE.ACUTE.ACUTE.ACUTE  \n",
       "9   FAC_IP.ACUTE.ACUTE.ACUTE.ACUTE  \n",
       "10  FAC_IP.ACUTE.ACUTE.ACUTE.ACUTE  \n",
       "\n",
       "[5 rows x 35 columns]"
      ]
     },
     "execution_count": 20,
     "metadata": {},
     "output_type": "execute_result"
    }
   ],
   "source": [
    "op_inp_df.head()"
   ]
  },
  {
   "cell_type": "markdown",
   "id": "2a9c4522",
   "metadata": {},
   "source": [
    "# Filtering out patients with cancer"
   ]
  },
  {
   "cell_type": "code",
   "execution_count": 21,
   "id": "2943e1f6",
   "metadata": {},
   "outputs": [],
   "source": [
    "# List of procedure codes for cancer \n",
    "\n",
    "x = 77261\n",
    "ids = [x]\n",
    "for i in range(0,538):\n",
    "    x+=1\n",
    "    ids.append(x)\n",
    "canc_proc_codes = map(str, ids)\n",
    "canc_proc_codes = list(canc_proc_codes)"
   ]
  },
  {
   "cell_type": "code",
   "execution_count": 22,
   "id": "fd20f834",
   "metadata": {},
   "outputs": [],
   "source": [
    "# Filter patient with cancer diagnosis from above patients\n",
    "\n",
    "def filterCancPat(op_inp_df, canc_proc_list):\n",
    "    canc_pat_list = op_inp_df[op_inp_df['PROC1'].isin(canc_proc_list) | op_inp_df['PROC2'].isin(canc_proc_list) | op_inp_df['PROC3'].isin(canc_proc_list) | op_inp_df['PROC4'].isin(canc_proc_list) | op_inp_df['PROC5'].isin(canc_proc_list)]['PATID'].unique()\n",
    "    op_presc_no_cancer_df = op_inp_df[~op_inp_df['PATID'].isin(canc_pat_list)]    \n",
    "    \n",
    "    return op_presc_no_cancer_df"
   ]
  },
  {
   "cell_type": "code",
   "execution_count": 23,
   "id": "0a91f4ce",
   "metadata": {},
   "outputs": [
    {
     "data": {
      "text/plain": [
       "(570463, 35)"
      ]
     },
     "execution_count": 23,
     "metadata": {},
     "output_type": "execute_result"
    }
   ],
   "source": [
    "op_presc_no_canc_df = filterCancPat(op_inp_df, canc_proc_codes)\n",
    "op_presc_no_canc_df.shape"
   ]
  },
  {
   "cell_type": "code",
   "execution_count": 24,
   "id": "e0ae6f66",
   "metadata": {},
   "outputs": [
    {
     "data": {
      "text/plain": [
       "4305529"
      ]
     },
     "execution_count": 24,
     "metadata": {},
     "output_type": "execute_result"
    },
    {
     "data": {
      "text/plain": [
       "407694"
      ]
     },
     "execution_count": 24,
     "metadata": {},
     "output_type": "execute_result"
    }
   ],
   "source": [
    "len(op_pat_list)\n",
    "op_presc_no_canc_df['PATID'].nunique()"
   ]
  },
  {
   "cell_type": "markdown",
   "id": "5af78d71",
   "metadata": {},
   "source": [
    "# Filtering opioid harm patients"
   ]
  },
  {
   "cell_type": "code",
   "execution_count": 25,
   "id": "90ceb5a0",
   "metadata": {},
   "outputs": [
    {
     "data": {
      "text/plain": [
       "23"
      ]
     },
     "execution_count": 25,
     "metadata": {},
     "output_type": "execute_result"
    }
   ],
   "source": [
    "# ICD9 codes for high opioid risk\n",
    "\n",
    "opioid_harm_icd9_codes = [\"96500\",\"96501\",\"96502\",\"96509\",\"E8500\",\"E8501\",\"E8502\",\"E9350\",\"E9351\",\"E9352\",\"3055\",\"3040\",\"3047\",\"E9350\",\"E9351\",\"E9352\",\"E9401\",\"9701\",\"T400X1A\",\"T401X1A\",\"T403X1A\",\"T402X1A\",\"T507X1A\"]\n",
    "len(opioid_harm_icd9_codes)\n"
   ]
  },
  {
   "cell_type": "code",
   "execution_count": 26,
   "id": "9f7b894a",
   "metadata": {},
   "outputs": [
    {
     "data": {
      "text/plain": [
       "108"
      ]
     },
     "execution_count": 26,
     "metadata": {},
     "output_type": "execute_result"
    }
   ],
   "source": [
    "# ICD10 codes for high opioid risk\n",
    "\n",
    "opioid_harm_icd10_codes = ['F11.10','F11.120','F11.121','F11.122','F11.129','F11.14','F11.150','F11.151','F11.159','F11.181','F11.182','F11.188','F11.19','F11.20','F11.220','F11.221','F11.222','F11.229','F11.23','F11.24','F11.250','F11.251','F11.259','F11.281','F11.282','F11.288','F11.29','F11.90','F11.920','F11.921','F11.922','F11.929','F11.93','F11.94','F11.950','F11.951','F11.959','F11.981','F11.982','F11.988','F11.99','T40.0X1A','T40.0X1D','T40.0X2A','T40.0X2DT40.0X3A','T40.0X3D','T40.0X4A','T40.0X4D','T40.0X5A','T40.0X5D','T40.1X1A','T40.1X1D','T40.1X2A','T40.1X2D','T40.1X3A','T40.1X3D','T40.1X4A','T40.1X4D','T40.2X1A','T40.2X1D','T40.2X2A','T40.2X2D','T40.2X3A','T40.2X3D','T40.2X4A','T40.2X4D','T40.2X5A','T40.2X5D','T40.3X1A','T40.3X1D','T40.3X2A','T40.3X2D','T40.3X3A','T40.3X3D','T40.3X4A','T40.3X4D','T40.3X5A','T40.3X5D','T40.4X1A','T40.4X1D','T40.4X2A','T40.4X2D','T40.4X3A','T40.4X3D','T40.4X4A','T40.4X4D','T40.4X5A','T40.4X5D','T40.601A','T40.601D','T40.602A','T40.602D','T40.603A','T40.603D','T40.604A','T40.604D','T40.605A','T40.605D','T40.691A','T40.691D','T40.692A','T40.692D','T40.693A','T40.693D','T40.694A','T40.694D','T40.695A','T40.695D']\n",
    "\n",
    "opioid_harm_icd10_codes1 = []\n",
    "\n",
    "for i in opioid_harm_icd10_codes:\n",
    "    x = i.replace('.','')\n",
    "    opioid_harm_icd10_codes1.append(x)\n",
    "    \n",
    "len(opioid_harm_icd10_codes1)\n"
   ]
  },
  {
   "cell_type": "code",
   "execution_count": 27,
   "id": "5def77fc",
   "metadata": {},
   "outputs": [],
   "source": [
    "# Function to filter patients with opioid diagnosis in Inpatient data\n",
    "\n",
    "def filterOpHarmPat(op_inp_df, icd9_codes,icd10_codes):\n",
    "    op_inp_final_df = pd.DataFrame()\n",
    "    x304 = op_inp_df[op_inp_df['DIAG1'].str.startswith('304') | op_inp_df['DIAG2'].str.startswith('304') | op_inp_df['DIAG3'].str.startswith('304') | op_inp_df['DIAG4'].str.startswith('304') | op_inp_df['DIAG5'].str.startswith('304')]\n",
    "    x305 = op_inp_df[op_inp_df['DIAG1'].str.startswith('305') | op_inp_df['DIAG2'].str.startswith('305') | op_inp_df['DIAG3'].str.startswith('305') | op_inp_df['DIAG4'].str.startswith('305') | op_inp_df['DIAG5'].str.startswith('305')]\n",
    "    xICD9 = op_inp_df[op_inp_df['DIAG1'].isin(icd9_codes) | op_inp_df['DIAG2'].isin(icd9_codes) | op_inp_df['DIAG3'].isin(icd9_codes) | op_inp_df['DIAG4'].isin(icd9_codes) | op_inp_df['DIAG5'].isin(icd9_codes)]\n",
    "    xICD10 = op_inp_df[op_inp_df['DIAG1'].isin(icd10_codes) | op_inp_df['DIAG2'].isin(icd10_codes) | op_inp_df['DIAG3'].isin(icd10_codes) | op_inp_df['DIAG4'].isin(icd10_codes) | op_inp_df['DIAG5'].isin(icd10_codes)]\n",
    "    op_inp_final_df = op_inp_final_df.append([x304, x305, xICD9, xICD10])  \n",
    "    del x304, x305, xICD9, xICD10\n",
    "    \n",
    "    return op_inp_final_df\n"
   ]
  },
  {
   "cell_type": "code",
   "execution_count": 28,
   "id": "9824ce5c",
   "metadata": {},
   "outputs": [
    {
     "data": {
      "text/html": [
       "<div>\n",
       "<style scoped>\n",
       "    .dataframe tbody tr th:only-of-type {\n",
       "        vertical-align: middle;\n",
       "    }\n",
       "\n",
       "    .dataframe tbody tr th {\n",
       "        vertical-align: top;\n",
       "    }\n",
       "\n",
       "    .dataframe thead th {\n",
       "        text-align: right;\n",
       "    }\n",
       "</style>\n",
       "<table border=\"1\" class=\"dataframe\">\n",
       "  <thead>\n",
       "    <tr style=\"text-align: right;\">\n",
       "      <th></th>\n",
       "      <th>PATID</th>\n",
       "      <th>PAT_PLANID</th>\n",
       "      <th>ADMIT_DATE</th>\n",
       "      <th>CHARGE</th>\n",
       "      <th>COINS</th>\n",
       "      <th>CONF_ID</th>\n",
       "      <th>COPAY</th>\n",
       "      <th>DEDUCT</th>\n",
       "      <th>DIAG1</th>\n",
       "      <th>DIAG2</th>\n",
       "      <th>...</th>\n",
       "      <th>PROV</th>\n",
       "      <th>STD_COST</th>\n",
       "      <th>STD_COST_YR</th>\n",
       "      <th>TOS_CD</th>\n",
       "      <th>ICU_IND</th>\n",
       "      <th>ICU_SURG_IND</th>\n",
       "      <th>MAJ_SURG_IND</th>\n",
       "      <th>MATERNITY_IND</th>\n",
       "      <th>NEWBORN_IND</th>\n",
       "      <th>TOS_EXT</th>\n",
       "    </tr>\n",
       "  </thead>\n",
       "  <tbody>\n",
       "    <tr>\n",
       "      <th>0</th>\n",
       "      <td>33003282019</td>\n",
       "      <td>53013962277</td>\n",
       "      <td>2007-11-19</td>\n",
       "      <td>16868.94</td>\n",
       "      <td>0.00</td>\n",
       "      <td>MOLTNOKZKM4OT</td>\n",
       "      <td>250.0</td>\n",
       "      <td>0.0</td>\n",
       "      <td>78659</td>\n",
       "      <td>42789</td>\n",
       "      <td>...</td>\n",
       "      <td>4774878972</td>\n",
       "      <td>6358.05</td>\n",
       "      <td>2019</td>\n",
       "      <td>FAC_IP.ACUTE</td>\n",
       "      <td>Y</td>\n",
       "      <td>N</td>\n",
       "      <td>N</td>\n",
       "      <td>N</td>\n",
       "      <td>N</td>\n",
       "      <td>FAC_IP.ACUTE.ACUTE.ACUTE.ACUTE</td>\n",
       "    </tr>\n",
       "    <tr>\n",
       "      <th>2</th>\n",
       "      <td>33003282261</td>\n",
       "      <td>53056588883</td>\n",
       "      <td>2007-10-11</td>\n",
       "      <td>14436.23</td>\n",
       "      <td>1528.00</td>\n",
       "      <td>LN6RLMZN4OK4N</td>\n",
       "      <td>0.0</td>\n",
       "      <td>400.0</td>\n",
       "      <td>64511</td>\n",
       "      <td>66411</td>\n",
       "      <td>...</td>\n",
       "      <td>4774888919</td>\n",
       "      <td>6775.95</td>\n",
       "      <td>2019</td>\n",
       "      <td>FAC_IP.ACUTE</td>\n",
       "      <td>N</td>\n",
       "      <td>N</td>\n",
       "      <td>N</td>\n",
       "      <td>Y</td>\n",
       "      <td>N</td>\n",
       "      <td>FAC_IP.ACUTE.ACUTE.ACUTE.ACUTE</td>\n",
       "    </tr>\n",
       "    <tr>\n",
       "      <th>4</th>\n",
       "      <td>33003282417</td>\n",
       "      <td>53009524485</td>\n",
       "      <td>2007-12-12</td>\n",
       "      <td>27332.22</td>\n",
       "      <td>0.00</td>\n",
       "      <td>LTNRLLMO4OK4O</td>\n",
       "      <td>250.0</td>\n",
       "      <td>0.0</td>\n",
       "      <td>2182</td>\n",
       "      <td>78820</td>\n",
       "      <td>...</td>\n",
       "      <td>4774573813</td>\n",
       "      <td>11581.80</td>\n",
       "      <td>2019</td>\n",
       "      <td>FAC_IP.ACUTE</td>\n",
       "      <td>N</td>\n",
       "      <td>N</td>\n",
       "      <td>Y</td>\n",
       "      <td>N</td>\n",
       "      <td>N</td>\n",
       "      <td>FAC_IP.ACUTE.ACUTE.ACUTE.ACUTE</td>\n",
       "    </tr>\n",
       "    <tr>\n",
       "      <th>9</th>\n",
       "      <td>33003283085</td>\n",
       "      <td>53011734739</td>\n",
       "      <td>2007-11-27</td>\n",
       "      <td>32819.75</td>\n",
       "      <td>0.00</td>\n",
       "      <td>MZLT6RLMKM4OO</td>\n",
       "      <td>0.0</td>\n",
       "      <td>0.0</td>\n",
       "      <td>34690</td>\n",
       "      <td>29623</td>\n",
       "      <td>...</td>\n",
       "      <td>4774872509</td>\n",
       "      <td>9820.65</td>\n",
       "      <td>2019</td>\n",
       "      <td>FAC_IP.ACUTE</td>\n",
       "      <td>N</td>\n",
       "      <td>N</td>\n",
       "      <td>N</td>\n",
       "      <td>N</td>\n",
       "      <td>N</td>\n",
       "      <td>FAC_IP.ACUTE.ACUTE.ACUTE.ACUTE</td>\n",
       "    </tr>\n",
       "    <tr>\n",
       "      <th>10</th>\n",
       "      <td>33003283151</td>\n",
       "      <td>53010260932</td>\n",
       "      <td>2007-11-05</td>\n",
       "      <td>67109.48</td>\n",
       "      <td>1414.39</td>\n",
       "      <td>M4MK4OZ4KM4O4</td>\n",
       "      <td>0.0</td>\n",
       "      <td>0.0</td>\n",
       "      <td>41091</td>\n",
       "      <td>5180</td>\n",
       "      <td>...</td>\n",
       "      <td>4774876318</td>\n",
       "      <td>28029.15</td>\n",
       "      <td>2019</td>\n",
       "      <td>FAC_IP.ACUTE</td>\n",
       "      <td>Y</td>\n",
       "      <td>Y</td>\n",
       "      <td>Y</td>\n",
       "      <td>N</td>\n",
       "      <td>N</td>\n",
       "      <td>FAC_IP.ACUTE.ACUTE.ACUTE.ACUTE</td>\n",
       "    </tr>\n",
       "  </tbody>\n",
       "</table>\n",
       "<p>5 rows × 35 columns</p>\n",
       "</div>"
      ],
      "text/plain": [
       "          PATID   PAT_PLANID ADMIT_DATE    CHARGE    COINS        CONF_ID  \\\n",
       "0   33003282019  53013962277 2007-11-19  16868.94     0.00  MOLTNOKZKM4OT   \n",
       "2   33003282261  53056588883 2007-10-11  14436.23  1528.00  LN6RLMZN4OK4N   \n",
       "4   33003282417  53009524485 2007-12-12  27332.22     0.00  LTNRLLMO4OK4O   \n",
       "9   33003283085  53011734739 2007-11-27  32819.75     0.00  MZLT6RLMKM4OO   \n",
       "10  33003283151  53010260932 2007-11-05  67109.48  1414.39  M4MK4OZ4KM4O4   \n",
       "\n",
       "    COPAY  DEDUCT  DIAG1  DIAG2  ...        PROV  STD_COST STD_COST_YR  \\\n",
       "0   250.0     0.0  78659  42789  ...  4774878972   6358.05        2019   \n",
       "2     0.0   400.0  64511  66411  ...  4774888919   6775.95        2019   \n",
       "4   250.0     0.0   2182  78820  ...  4774573813  11581.80        2019   \n",
       "9     0.0     0.0  34690  29623  ...  4774872509   9820.65        2019   \n",
       "10    0.0     0.0  41091   5180  ...  4774876318  28029.15        2019   \n",
       "\n",
       "          TOS_CD ICU_IND ICU_SURG_IND MAJ_SURG_IND MATERNITY_IND  NEWBORN_IND  \\\n",
       "0   FAC_IP.ACUTE       Y            N            N             N            N   \n",
       "2   FAC_IP.ACUTE       N            N            N             Y            N   \n",
       "4   FAC_IP.ACUTE       N            N            Y             N            N   \n",
       "9   FAC_IP.ACUTE       N            N            N             N            N   \n",
       "10  FAC_IP.ACUTE       Y            Y            Y             N            N   \n",
       "\n",
       "                           TOS_EXT  \n",
       "0   FAC_IP.ACUTE.ACUTE.ACUTE.ACUTE  \n",
       "2   FAC_IP.ACUTE.ACUTE.ACUTE.ACUTE  \n",
       "4   FAC_IP.ACUTE.ACUTE.ACUTE.ACUTE  \n",
       "9   FAC_IP.ACUTE.ACUTE.ACUTE.ACUTE  \n",
       "10  FAC_IP.ACUTE.ACUTE.ACUTE.ACUTE  \n",
       "\n",
       "[5 rows x 35 columns]"
      ]
     },
     "execution_count": 28,
     "metadata": {},
     "output_type": "execute_result"
    }
   ],
   "source": [
    "op_presc_no_canc_df.head()"
   ]
  },
  {
   "cell_type": "code",
   "execution_count": 29,
   "id": "c3e32021",
   "metadata": {},
   "outputs": [
    {
     "data": {
      "text/plain": [
       "(44192, 35)"
      ]
     },
     "execution_count": 29,
     "metadata": {},
     "output_type": "execute_result"
    }
   ],
   "source": [
    "op_harm_df = filterOpHarmPat(op_presc_no_canc_df, opioid_harm_icd9_codes, opioid_harm_icd10_codes1)\n",
    "op_harm_df.shape"
   ]
  },
  {
   "cell_type": "code",
   "execution_count": 30,
   "id": "2c62f759",
   "metadata": {},
   "outputs": [
    {
     "data": {
      "text/html": [
       "<div>\n",
       "<style scoped>\n",
       "    .dataframe tbody tr th:only-of-type {\n",
       "        vertical-align: middle;\n",
       "    }\n",
       "\n",
       "    .dataframe tbody tr th {\n",
       "        vertical-align: top;\n",
       "    }\n",
       "\n",
       "    .dataframe thead th {\n",
       "        text-align: right;\n",
       "    }\n",
       "</style>\n",
       "<table border=\"1\" class=\"dataframe\">\n",
       "  <thead>\n",
       "    <tr style=\"text-align: right;\">\n",
       "      <th></th>\n",
       "      <th>PATID</th>\n",
       "      <th>PAT_PLANID</th>\n",
       "      <th>ADMIT_DATE</th>\n",
       "      <th>CHARGE</th>\n",
       "      <th>COINS</th>\n",
       "      <th>CONF_ID</th>\n",
       "      <th>COPAY</th>\n",
       "      <th>DEDUCT</th>\n",
       "      <th>DIAG1</th>\n",
       "      <th>DIAG2</th>\n",
       "      <th>...</th>\n",
       "      <th>PROV</th>\n",
       "      <th>STD_COST</th>\n",
       "      <th>STD_COST_YR</th>\n",
       "      <th>TOS_CD</th>\n",
       "      <th>ICU_IND</th>\n",
       "      <th>ICU_SURG_IND</th>\n",
       "      <th>MAJ_SURG_IND</th>\n",
       "      <th>MATERNITY_IND</th>\n",
       "      <th>NEWBORN_IND</th>\n",
       "      <th>TOS_EXT</th>\n",
       "    </tr>\n",
       "  </thead>\n",
       "  <tbody>\n",
       "    <tr>\n",
       "      <th>70</th>\n",
       "      <td>33003292417</td>\n",
       "      <td>53020608226</td>\n",
       "      <td>2007-10-22</td>\n",
       "      <td>11269.12</td>\n",
       "      <td>0.0</td>\n",
       "      <td>MKRRLTOMKM4O4</td>\n",
       "      <td>1500.0</td>\n",
       "      <td>0.0</td>\n",
       "      <td>2920</td>\n",
       "      <td>30401</td>\n",
       "      <td>...</td>\n",
       "      <td>4774859265</td>\n",
       "      <td>8430.48</td>\n",
       "      <td>2019</td>\n",
       "      <td>FAC_IP.ACUTE</td>\n",
       "      <td>N</td>\n",
       "      <td>N</td>\n",
       "      <td>N</td>\n",
       "      <td>N</td>\n",
       "      <td>N</td>\n",
       "      <td>FAC_IP.ACUTE.ACUTE.ACUTE.ACUTE</td>\n",
       "    </tr>\n",
       "    <tr>\n",
       "      <th>151</th>\n",
       "      <td>33003302510</td>\n",
       "      <td>53020786882</td>\n",
       "      <td>2007-12-14</td>\n",
       "      <td>103703.53</td>\n",
       "      <td>0.0</td>\n",
       "      <td>M6T4KKLLKM4OR</td>\n",
       "      <td>0.0</td>\n",
       "      <td>0.0</td>\n",
       "      <td>570</td>\n",
       "      <td>27906</td>\n",
       "      <td>...</td>\n",
       "      <td>4774875137</td>\n",
       "      <td>11745.98</td>\n",
       "      <td>2019</td>\n",
       "      <td>FAC_IP.ACUTE</td>\n",
       "      <td>N</td>\n",
       "      <td>N</td>\n",
       "      <td>N</td>\n",
       "      <td>N</td>\n",
       "      <td>N</td>\n",
       "      <td>FAC_IP.ACUTE.ACUTE.ACUTE.ACUTE</td>\n",
       "    </tr>\n",
       "    <tr>\n",
       "      <th>197</th>\n",
       "      <td>33003308877</td>\n",
       "      <td>53012832923</td>\n",
       "      <td>2007-12-03</td>\n",
       "      <td>25670.00</td>\n",
       "      <td>0.0</td>\n",
       "      <td>MK4KTKNRKM4O4</td>\n",
       "      <td>0.0</td>\n",
       "      <td>0.0</td>\n",
       "      <td>65421</td>\n",
       "      <td>64831</td>\n",
       "      <td>...</td>\n",
       "      <td>4771730875</td>\n",
       "      <td>11820.60</td>\n",
       "      <td>2019</td>\n",
       "      <td>FAC_IP.ACUTE</td>\n",
       "      <td>N</td>\n",
       "      <td>N</td>\n",
       "      <td>Y</td>\n",
       "      <td>Y</td>\n",
       "      <td>N</td>\n",
       "      <td>FAC_IP.ACUTE.ACUTE.ACUTE.ACUTE</td>\n",
       "    </tr>\n",
       "    <tr>\n",
       "      <th>324</th>\n",
       "      <td>33003326309</td>\n",
       "      <td>53050166784</td>\n",
       "      <td>2007-12-18</td>\n",
       "      <td>8798.10</td>\n",
       "      <td>0.0</td>\n",
       "      <td>L6ORKKLK4OK4L</td>\n",
       "      <td>0.0</td>\n",
       "      <td>0.0</td>\n",
       "      <td>566</td>\n",
       "      <td>04111</td>\n",
       "      <td>...</td>\n",
       "      <td>4777621499</td>\n",
       "      <td>10790.78</td>\n",
       "      <td>2019</td>\n",
       "      <td>FAC_IP.ACUTE</td>\n",
       "      <td>N</td>\n",
       "      <td>N</td>\n",
       "      <td>N</td>\n",
       "      <td>N</td>\n",
       "      <td>N</td>\n",
       "      <td>FAC_IP.ACUTE.ACUTE.ACUTE.ACUTE</td>\n",
       "    </tr>\n",
       "    <tr>\n",
       "      <th>714</th>\n",
       "      <td>33003376249</td>\n",
       "      <td>53042603793</td>\n",
       "      <td>2007-12-06</td>\n",
       "      <td>19242.80</td>\n",
       "      <td>0.0</td>\n",
       "      <td>LO44ONL64OK4Z</td>\n",
       "      <td>0.0</td>\n",
       "      <td>0.0</td>\n",
       "      <td>5770</td>\n",
       "      <td>30491</td>\n",
       "      <td>...</td>\n",
       "      <td>7777423517</td>\n",
       "      <td>11014.65</td>\n",
       "      <td>2019</td>\n",
       "      <td>FAC_IP.ACUTE</td>\n",
       "      <td>Y</td>\n",
       "      <td>N</td>\n",
       "      <td>N</td>\n",
       "      <td>N</td>\n",
       "      <td>N</td>\n",
       "      <td>FAC_IP.ACUTE.ACUTE.ACUTE.ACUTE</td>\n",
       "    </tr>\n",
       "  </tbody>\n",
       "</table>\n",
       "<p>5 rows × 35 columns</p>\n",
       "</div>"
      ],
      "text/plain": [
       "           PATID   PAT_PLANID ADMIT_DATE     CHARGE  COINS        CONF_ID  \\\n",
       "70   33003292417  53020608226 2007-10-22   11269.12    0.0  MKRRLTOMKM4O4   \n",
       "151  33003302510  53020786882 2007-12-14  103703.53    0.0  M6T4KKLLKM4OR   \n",
       "197  33003308877  53012832923 2007-12-03   25670.00    0.0  MK4KTKNRKM4O4   \n",
       "324  33003326309  53050166784 2007-12-18    8798.10    0.0  L6ORKKLK4OK4L   \n",
       "714  33003376249  53042603793 2007-12-06   19242.80    0.0  LO44ONL64OK4Z   \n",
       "\n",
       "      COPAY  DEDUCT  DIAG1  DIAG2  ...        PROV  STD_COST STD_COST_YR  \\\n",
       "70   1500.0     0.0   2920  30401  ...  4774859265   8430.48        2019   \n",
       "151     0.0     0.0    570  27906  ...  4774875137  11745.98        2019   \n",
       "197     0.0     0.0  65421  64831  ...  4771730875  11820.60        2019   \n",
       "324     0.0     0.0    566  04111  ...  4777621499  10790.78        2019   \n",
       "714     0.0     0.0   5770  30491  ...  7777423517  11014.65        2019   \n",
       "\n",
       "           TOS_CD ICU_IND ICU_SURG_IND MAJ_SURG_IND MATERNITY_IND  \\\n",
       "70   FAC_IP.ACUTE       N            N            N             N   \n",
       "151  FAC_IP.ACUTE       N            N            N             N   \n",
       "197  FAC_IP.ACUTE       N            N            Y             Y   \n",
       "324  FAC_IP.ACUTE       N            N            N             N   \n",
       "714  FAC_IP.ACUTE       Y            N            N             N   \n",
       "\n",
       "     NEWBORN_IND                         TOS_EXT  \n",
       "70             N  FAC_IP.ACUTE.ACUTE.ACUTE.ACUTE  \n",
       "151            N  FAC_IP.ACUTE.ACUTE.ACUTE.ACUTE  \n",
       "197            N  FAC_IP.ACUTE.ACUTE.ACUTE.ACUTE  \n",
       "324            N  FAC_IP.ACUTE.ACUTE.ACUTE.ACUTE  \n",
       "714            N  FAC_IP.ACUTE.ACUTE.ACUTE.ACUTE  \n",
       "\n",
       "[5 rows x 35 columns]"
      ]
     },
     "execution_count": 30,
     "metadata": {},
     "output_type": "execute_result"
    }
   ],
   "source": [
    "op_harm_df.head()"
   ]
  },
  {
   "cell_type": "markdown",
   "id": "e709cd2f",
   "metadata": {},
   "source": [
    "# Filtering all datasets for opioid harm patients"
   ]
  },
  {
   "cell_type": "code",
   "execution_count": 31,
   "id": "c3f4dc1e",
   "metadata": {},
   "outputs": [
    {
     "data": {
      "text/plain": [
       "37657"
      ]
     },
     "execution_count": 31,
     "metadata": {},
     "output_type": "execute_result"
    }
   ],
   "source": [
    "op_harm_pat_list = op_harm_df['PATID'].unique()\n",
    "len(op_harm_pat_list)"
   ]
  },
  {
   "cell_type": "code",
   "execution_count": 32,
   "id": "19c5fbd5",
   "metadata": {},
   "outputs": [
    {
     "data": {
      "text/plain": [
       "(79363, 16)"
      ]
     },
     "execution_count": 32,
     "metadata": {},
     "output_type": "execute_result"
    }
   ],
   "source": [
    "# Filtering all member enrollment files for opioid harm patients\n",
    "\n",
    "file = dodr_location + 'dod_mbr_enroll_r.parquet'\n",
    "mbr_temp = pq.ParquetDataset(file, use_legacy_dataset = False, filters=[('PATID','in',op_harm_pat_list)])\n",
    "mbr_enroll_df = mbr_temp.read().to_pandas()\n",
    "mbr_enroll_df.shape"
   ]
  },
  {
   "cell_type": "code",
   "execution_count": 33,
   "id": "2c8c8230",
   "metadata": {},
   "outputs": [
    {
     "data": {
      "text/html": [
       "<div>\n",
       "<style scoped>\n",
       "    .dataframe tbody tr th:only-of-type {\n",
       "        vertical-align: middle;\n",
       "    }\n",
       "\n",
       "    .dataframe tbody tr th {\n",
       "        vertical-align: top;\n",
       "    }\n",
       "\n",
       "    .dataframe thead th {\n",
       "        text-align: right;\n",
       "    }\n",
       "</style>\n",
       "<table border=\"1\" class=\"dataframe\">\n",
       "  <thead>\n",
       "    <tr style=\"text-align: right;\">\n",
       "      <th></th>\n",
       "      <th>PATID</th>\n",
       "      <th>PAT_PLANID</th>\n",
       "      <th>ASO</th>\n",
       "      <th>BUS</th>\n",
       "      <th>CDHP</th>\n",
       "      <th>ELIGEFF</th>\n",
       "      <th>ELIGEND</th>\n",
       "      <th>FAMILY_ID</th>\n",
       "      <th>GDR_CD</th>\n",
       "      <th>GROUP_NBR</th>\n",
       "      <th>HEALTH_EXCH</th>\n",
       "      <th>LIS_DUAL</th>\n",
       "      <th>PRODUCT</th>\n",
       "      <th>RACE</th>\n",
       "      <th>STATE</th>\n",
       "      <th>YRDOB</th>\n",
       "    </tr>\n",
       "  </thead>\n",
       "  <tbody>\n",
       "    <tr>\n",
       "      <th>0</th>\n",
       "      <td>33003284598</td>\n",
       "      <td>53054044619</td>\n",
       "      <td>N</td>\n",
       "      <td>COM</td>\n",
       "      <td>3</td>\n",
       "      <td>2007-01-01</td>\n",
       "      <td>2008-11-01</td>\n",
       "      <td>3064453660</td>\n",
       "      <td>M</td>\n",
       "      <td>000501014</td>\n",
       "      <td>0</td>\n",
       "      <td></td>\n",
       "      <td>POS</td>\n",
       "      <td>W</td>\n",
       "      <td>MO</td>\n",
       "      <td>1953</td>\n",
       "    </tr>\n",
       "    <tr>\n",
       "      <th>1</th>\n",
       "      <td>33003284598</td>\n",
       "      <td>53142319187</td>\n",
       "      <td>N</td>\n",
       "      <td>COM</td>\n",
       "      <td>U</td>\n",
       "      <td>2007-01-01</td>\n",
       "      <td>2021-03-31</td>\n",
       "      <td>3055505970</td>\n",
       "      <td>M</td>\n",
       "      <td>000325598</td>\n",
       "      <td>0</td>\n",
       "      <td></td>\n",
       "      <td>POS</td>\n",
       "      <td>W</td>\n",
       "      <td>MO</td>\n",
       "      <td>1953</td>\n",
       "    </tr>\n",
       "    <tr>\n",
       "      <th>2</th>\n",
       "      <td>33003285835</td>\n",
       "      <td>53046016007</td>\n",
       "      <td>Y</td>\n",
       "      <td>COM</td>\n",
       "      <td>3</td>\n",
       "      <td>2007-01-01</td>\n",
       "      <td>2011-06-30</td>\n",
       "      <td>3019287733</td>\n",
       "      <td>F</td>\n",
       "      <td>000185528</td>\n",
       "      <td>0</td>\n",
       "      <td></td>\n",
       "      <td>IND</td>\n",
       "      <td>W</td>\n",
       "      <td>AZ</td>\n",
       "      <td>1943</td>\n",
       "    </tr>\n",
       "    <tr>\n",
       "      <th>3</th>\n",
       "      <td>33003287387</td>\n",
       "      <td>53009700121</td>\n",
       "      <td>N</td>\n",
       "      <td>COM</td>\n",
       "      <td>3</td>\n",
       "      <td>2007-01-01</td>\n",
       "      <td>2008-10-17</td>\n",
       "      <td>3048467928</td>\n",
       "      <td>F</td>\n",
       "      <td>000223897</td>\n",
       "      <td>0</td>\n",
       "      <td></td>\n",
       "      <td>PPO</td>\n",
       "      <td>W</td>\n",
       "      <td>CO</td>\n",
       "      <td>1969</td>\n",
       "    </tr>\n",
       "    <tr>\n",
       "      <th>4</th>\n",
       "      <td>33003287387</td>\n",
       "      <td>53009700121</td>\n",
       "      <td>N</td>\n",
       "      <td>COM</td>\n",
       "      <td>3</td>\n",
       "      <td>2008-10-18</td>\n",
       "      <td>2010-03-31</td>\n",
       "      <td>3048467928</td>\n",
       "      <td>F</td>\n",
       "      <td>000223897</td>\n",
       "      <td>0</td>\n",
       "      <td></td>\n",
       "      <td>PPO</td>\n",
       "      <td>W</td>\n",
       "      <td>FL</td>\n",
       "      <td>1969</td>\n",
       "    </tr>\n",
       "  </tbody>\n",
       "</table>\n",
       "</div>"
      ],
      "text/plain": [
       "         PATID   PAT_PLANID ASO  BUS CDHP    ELIGEFF    ELIGEND   FAMILY_ID  \\\n",
       "0  33003284598  53054044619   N  COM    3 2007-01-01 2008-11-01  3064453660   \n",
       "1  33003284598  53142319187   N  COM    U 2007-01-01 2021-03-31  3055505970   \n",
       "2  33003285835  53046016007   Y  COM    3 2007-01-01 2011-06-30  3019287733   \n",
       "3  33003287387  53009700121   N  COM    3 2007-01-01 2008-10-17  3048467928   \n",
       "4  33003287387  53009700121   N  COM    3 2008-10-18 2010-03-31  3048467928   \n",
       "\n",
       "  GDR_CD  GROUP_NBR HEALTH_EXCH LIS_DUAL PRODUCT RACE STATE  YRDOB  \n",
       "0      M  000501014           0              POS    W    MO   1953  \n",
       "1      M  000325598           0              POS    W    MO   1953  \n",
       "2      F  000185528           0              IND    W    AZ   1943  \n",
       "3      F  000223897           0              PPO    W    CO   1969  \n",
       "4      F  000223897           0              PPO    W    FL   1969  "
      ]
     },
     "execution_count": 33,
     "metadata": {},
     "output_type": "execute_result"
    }
   ],
   "source": [
    "mbr_enroll_df.head()"
   ]
  },
  {
   "cell_type": "code",
   "execution_count": 34,
   "id": "8295d3b0",
   "metadata": {},
   "outputs": [],
   "source": [
    "def filterOpioidHarmPat(files, pat_list):\n",
    "    df = pd.DataFrame()\n",
    "    for i in files:\n",
    "        x = pd.read_parquet(i)\n",
    "        temp = x[x['PATID'].isin(pat_list) == True]\n",
    "        print(i)\n",
    "        print(\"Shape:\", x.shape, temp.shape)\n",
    "        print(\"Patient count:\", x['PATID'].nunique(), temp['PATID'].nunique())\n",
    "        df = df.append(temp)\n",
    "        del x\n",
    "        del temp\n",
    "\n",
    "    return df\n"
   ]
  },
  {
   "cell_type": "code",
   "execution_count": 35,
   "id": "e8977962",
   "metadata": {},
   "outputs": [
    {
     "name": "stdout",
     "output_type": "stream",
     "text": [
      "/N/project/optum/data/parquet/dodr_81_202107/dod_r2007q2.parquet\n",
      "Shape: (39201711, 34) (325733, 34)\n",
      "Patient count: 7185289 30639\n",
      "/N/project/optum/data/parquet/dodr_81_202107/dod_r2007q4.parquet\n",
      "Shape: (40317373, 34) (324844, 34)\n",
      "Patient count: 7203220 29170\n",
      "/N/project/optum/data/parquet/dodr_81_202107/dod_r2007q3.parquet\n",
      "Shape: (38727543, 34) (330653, 34)\n",
      "Patient count: 7047536 30703\n",
      "/N/project/optum/data/parquet/dodr_81_202107/dod_r2007q1.parquet\n",
      "Shape: (39730026, 34) (300479, 34)\n",
      "Patient count: 7438695 28952\n"
     ]
    },
    {
     "data": {
      "text/plain": [
       "(1281709, 34)"
      ]
     },
     "execution_count": 35,
     "metadata": {},
     "output_type": "execute_result"
    },
    {
     "data": {
      "text/plain": [
       "37657"
      ]
     },
     "execution_count": 35,
     "metadata": {},
     "output_type": "execute_result"
    }
   ],
   "source": [
    "# Filtering all prescription files for opioid harm patients\n",
    "\n",
    "rx_final = filterOpioidHarmPat(rx_files, op_harm_pat_list)\n",
    "rx_final.shape\n",
    "rx_final['PATID'].nunique()\n"
   ]
  },
  {
   "cell_type": "code",
   "execution_count": 36,
   "id": "a7f4f32c",
   "metadata": {},
   "outputs": [
    {
     "data": {
      "text/plain": [
       "157976653"
      ]
     },
     "execution_count": 36,
     "metadata": {},
     "output_type": "execute_result"
    }
   ],
   "source": [
    "39201711 + 40317373 + 38727543 + 39730026"
   ]
  },
  {
   "cell_type": "code",
   "execution_count": 37,
   "id": "72cdca0d",
   "metadata": {},
   "outputs": [
    {
     "data": {
      "text/plain": [
       "0.02"
      ]
     },
     "execution_count": 37,
     "metadata": {},
     "output_type": "execute_result"
    }
   ],
   "source": [
    "# % of patients with op prescritption and opioid harm out of total patients\n",
    "\n",
    "# round((rx_final['PATID'].nunique()/rx_df['PATID'].nunique())*100, 2)\n",
    "\n",
    "round((rx_final['PATID'].nunique()/(39201711 + 40317373 + 38727543 + 39730026))*100, 2)"
   ]
  },
  {
   "cell_type": "code",
   "execution_count": 38,
   "id": "c66daf9a",
   "metadata": {},
   "outputs": [
    {
     "data": {
      "text/plain": [
       "37657"
      ]
     },
     "execution_count": 38,
     "metadata": {},
     "output_type": "execute_result"
    }
   ],
   "source": [
    "rx_final['PATID'].nunique()"
   ]
  },
  {
   "cell_type": "code",
   "execution_count": 39,
   "id": "0d5d0f35",
   "metadata": {},
   "outputs": [
    {
     "name": "stdout",
     "output_type": "stream",
     "text": [
      "/N/project/optum/data/parquet/dodr_81_202107/dod_c2007q4.parquet\n",
      "Shape: (308513, 35) (14683, 35)\n",
      "Patient count: 262577 11367\n",
      "/N/project/optum/data/parquet/dodr_81_202107/dod_c2007q1.parquet\n",
      "Shape: (322815, 35) (14940, 35)\n",
      "Patient count: 274575 11722\n",
      "/N/project/optum/data/parquet/dodr_81_202107/dod_c2007q3.parquet\n",
      "Shape: (298214, 35) (15507, 35)\n",
      "Patient count: 256331 12007\n",
      "/N/project/optum/data/parquet/dodr_81_202107/dod_c2007q2.parquet\n",
      "Shape: (317027, 35) (16049, 35)\n",
      "Patient count: 269858 12390\n"
     ]
    },
    {
     "data": {
      "text/plain": [
       "(61179, 35)"
      ]
     },
     "execution_count": 39,
     "metadata": {},
     "output_type": "execute_result"
    },
    {
     "data": {
      "text/plain": [
       "37657"
      ]
     },
     "execution_count": 39,
     "metadata": {},
     "output_type": "execute_result"
    }
   ],
   "source": [
    "# Filtering all inpatient (confinement) files for opioid harm patients\n",
    "\n",
    "inp_final = filterOpioidHarmPat(inp_files, op_harm_pat_list)\n",
    "inp_final.shape\n",
    "inp_final['PATID'].nunique()\n"
   ]
  },
  {
   "cell_type": "code",
   "execution_count": null,
   "id": "08762114",
   "metadata": {},
   "outputs": [],
   "source": []
  },
  {
   "cell_type": "markdown",
   "id": "cd77513a",
   "metadata": {},
   "source": [
    "# Getting all non-opipid patients data (from patients with no cancer)"
   ]
  },
  {
   "cell_type": "code",
   "execution_count": 40,
   "id": "cea09b83",
   "metadata": {},
   "outputs": [
    {
     "data": {
      "text/html": [
       "<div>\n",
       "<style scoped>\n",
       "    .dataframe tbody tr th:only-of-type {\n",
       "        vertical-align: middle;\n",
       "    }\n",
       "\n",
       "    .dataframe tbody tr th {\n",
       "        vertical-align: top;\n",
       "    }\n",
       "\n",
       "    .dataframe thead th {\n",
       "        text-align: right;\n",
       "    }\n",
       "</style>\n",
       "<table border=\"1\" class=\"dataframe\">\n",
       "  <thead>\n",
       "    <tr style=\"text-align: right;\">\n",
       "      <th></th>\n",
       "      <th>PATID</th>\n",
       "      <th>PAT_PLANID</th>\n",
       "      <th>ADMIT_DATE</th>\n",
       "      <th>CHARGE</th>\n",
       "      <th>COINS</th>\n",
       "      <th>CONF_ID</th>\n",
       "      <th>COPAY</th>\n",
       "      <th>DEDUCT</th>\n",
       "      <th>DIAG1</th>\n",
       "      <th>DIAG2</th>\n",
       "      <th>...</th>\n",
       "      <th>PROV</th>\n",
       "      <th>STD_COST</th>\n",
       "      <th>STD_COST_YR</th>\n",
       "      <th>TOS_CD</th>\n",
       "      <th>ICU_IND</th>\n",
       "      <th>ICU_SURG_IND</th>\n",
       "      <th>MAJ_SURG_IND</th>\n",
       "      <th>MATERNITY_IND</th>\n",
       "      <th>NEWBORN_IND</th>\n",
       "      <th>TOS_EXT</th>\n",
       "    </tr>\n",
       "  </thead>\n",
       "  <tbody>\n",
       "    <tr>\n",
       "      <th>0</th>\n",
       "      <td>33003282019</td>\n",
       "      <td>53013962277</td>\n",
       "      <td>2007-11-19</td>\n",
       "      <td>16868.94</td>\n",
       "      <td>0.00</td>\n",
       "      <td>MOLTNOKZKM4OT</td>\n",
       "      <td>250.0</td>\n",
       "      <td>0.0</td>\n",
       "      <td>78659</td>\n",
       "      <td>42789</td>\n",
       "      <td>...</td>\n",
       "      <td>4774878972</td>\n",
       "      <td>6358.05</td>\n",
       "      <td>2019</td>\n",
       "      <td>FAC_IP.ACUTE</td>\n",
       "      <td>Y</td>\n",
       "      <td>N</td>\n",
       "      <td>N</td>\n",
       "      <td>N</td>\n",
       "      <td>N</td>\n",
       "      <td>FAC_IP.ACUTE.ACUTE.ACUTE.ACUTE</td>\n",
       "    </tr>\n",
       "    <tr>\n",
       "      <th>2</th>\n",
       "      <td>33003282261</td>\n",
       "      <td>53056588883</td>\n",
       "      <td>2007-10-11</td>\n",
       "      <td>14436.23</td>\n",
       "      <td>1528.00</td>\n",
       "      <td>LN6RLMZN4OK4N</td>\n",
       "      <td>0.0</td>\n",
       "      <td>400.0</td>\n",
       "      <td>64511</td>\n",
       "      <td>66411</td>\n",
       "      <td>...</td>\n",
       "      <td>4774888919</td>\n",
       "      <td>6775.95</td>\n",
       "      <td>2019</td>\n",
       "      <td>FAC_IP.ACUTE</td>\n",
       "      <td>N</td>\n",
       "      <td>N</td>\n",
       "      <td>N</td>\n",
       "      <td>Y</td>\n",
       "      <td>N</td>\n",
       "      <td>FAC_IP.ACUTE.ACUTE.ACUTE.ACUTE</td>\n",
       "    </tr>\n",
       "    <tr>\n",
       "      <th>4</th>\n",
       "      <td>33003282417</td>\n",
       "      <td>53009524485</td>\n",
       "      <td>2007-12-12</td>\n",
       "      <td>27332.22</td>\n",
       "      <td>0.00</td>\n",
       "      <td>LTNRLLMO4OK4O</td>\n",
       "      <td>250.0</td>\n",
       "      <td>0.0</td>\n",
       "      <td>2182</td>\n",
       "      <td>78820</td>\n",
       "      <td>...</td>\n",
       "      <td>4774573813</td>\n",
       "      <td>11581.80</td>\n",
       "      <td>2019</td>\n",
       "      <td>FAC_IP.ACUTE</td>\n",
       "      <td>N</td>\n",
       "      <td>N</td>\n",
       "      <td>Y</td>\n",
       "      <td>N</td>\n",
       "      <td>N</td>\n",
       "      <td>FAC_IP.ACUTE.ACUTE.ACUTE.ACUTE</td>\n",
       "    </tr>\n",
       "    <tr>\n",
       "      <th>9</th>\n",
       "      <td>33003283085</td>\n",
       "      <td>53011734739</td>\n",
       "      <td>2007-11-27</td>\n",
       "      <td>32819.75</td>\n",
       "      <td>0.00</td>\n",
       "      <td>MZLT6RLMKM4OO</td>\n",
       "      <td>0.0</td>\n",
       "      <td>0.0</td>\n",
       "      <td>34690</td>\n",
       "      <td>29623</td>\n",
       "      <td>...</td>\n",
       "      <td>4774872509</td>\n",
       "      <td>9820.65</td>\n",
       "      <td>2019</td>\n",
       "      <td>FAC_IP.ACUTE</td>\n",
       "      <td>N</td>\n",
       "      <td>N</td>\n",
       "      <td>N</td>\n",
       "      <td>N</td>\n",
       "      <td>N</td>\n",
       "      <td>FAC_IP.ACUTE.ACUTE.ACUTE.ACUTE</td>\n",
       "    </tr>\n",
       "    <tr>\n",
       "      <th>10</th>\n",
       "      <td>33003283151</td>\n",
       "      <td>53010260932</td>\n",
       "      <td>2007-11-05</td>\n",
       "      <td>67109.48</td>\n",
       "      <td>1414.39</td>\n",
       "      <td>M4MK4OZ4KM4O4</td>\n",
       "      <td>0.0</td>\n",
       "      <td>0.0</td>\n",
       "      <td>41091</td>\n",
       "      <td>5180</td>\n",
       "      <td>...</td>\n",
       "      <td>4774876318</td>\n",
       "      <td>28029.15</td>\n",
       "      <td>2019</td>\n",
       "      <td>FAC_IP.ACUTE</td>\n",
       "      <td>Y</td>\n",
       "      <td>Y</td>\n",
       "      <td>Y</td>\n",
       "      <td>N</td>\n",
       "      <td>N</td>\n",
       "      <td>FAC_IP.ACUTE.ACUTE.ACUTE.ACUTE</td>\n",
       "    </tr>\n",
       "  </tbody>\n",
       "</table>\n",
       "<p>5 rows × 35 columns</p>\n",
       "</div>"
      ],
      "text/plain": [
       "          PATID   PAT_PLANID ADMIT_DATE    CHARGE    COINS        CONF_ID  \\\n",
       "0   33003282019  53013962277 2007-11-19  16868.94     0.00  MOLTNOKZKM4OT   \n",
       "2   33003282261  53056588883 2007-10-11  14436.23  1528.00  LN6RLMZN4OK4N   \n",
       "4   33003282417  53009524485 2007-12-12  27332.22     0.00  LTNRLLMO4OK4O   \n",
       "9   33003283085  53011734739 2007-11-27  32819.75     0.00  MZLT6RLMKM4OO   \n",
       "10  33003283151  53010260932 2007-11-05  67109.48  1414.39  M4MK4OZ4KM4O4   \n",
       "\n",
       "    COPAY  DEDUCT  DIAG1  DIAG2  ...        PROV  STD_COST STD_COST_YR  \\\n",
       "0   250.0     0.0  78659  42789  ...  4774878972   6358.05        2019   \n",
       "2     0.0   400.0  64511  66411  ...  4774888919   6775.95        2019   \n",
       "4   250.0     0.0   2182  78820  ...  4774573813  11581.80        2019   \n",
       "9     0.0     0.0  34690  29623  ...  4774872509   9820.65        2019   \n",
       "10    0.0     0.0  41091   5180  ...  4774876318  28029.15        2019   \n",
       "\n",
       "          TOS_CD ICU_IND ICU_SURG_IND MAJ_SURG_IND MATERNITY_IND  NEWBORN_IND  \\\n",
       "0   FAC_IP.ACUTE       Y            N            N             N            N   \n",
       "2   FAC_IP.ACUTE       N            N            N             Y            N   \n",
       "4   FAC_IP.ACUTE       N            N            Y             N            N   \n",
       "9   FAC_IP.ACUTE       N            N            N             N            N   \n",
       "10  FAC_IP.ACUTE       Y            Y            Y             N            N   \n",
       "\n",
       "                           TOS_EXT  \n",
       "0   FAC_IP.ACUTE.ACUTE.ACUTE.ACUTE  \n",
       "2   FAC_IP.ACUTE.ACUTE.ACUTE.ACUTE  \n",
       "4   FAC_IP.ACUTE.ACUTE.ACUTE.ACUTE  \n",
       "9   FAC_IP.ACUTE.ACUTE.ACUTE.ACUTE  \n",
       "10  FAC_IP.ACUTE.ACUTE.ACUTE.ACUTE  \n",
       "\n",
       "[5 rows x 35 columns]"
      ]
     },
     "execution_count": 40,
     "metadata": {},
     "output_type": "execute_result"
    },
    {
     "data": {
      "text/plain": [
       "(570463, 35)"
      ]
     },
     "execution_count": 40,
     "metadata": {},
     "output_type": "execute_result"
    },
    {
     "data": {
      "text/plain": [
       "407694"
      ]
     },
     "execution_count": 40,
     "metadata": {},
     "output_type": "execute_result"
    }
   ],
   "source": [
    "op_presc_no_canc_df.head()\n",
    "op_presc_no_canc_df.shape\n",
    "op_presc_no_canc_df['PATID'].nunique()"
   ]
  },
  {
   "cell_type": "code",
   "execution_count": 41,
   "id": "51929b1d",
   "metadata": {},
   "outputs": [
    {
     "data": {
      "text/plain": [
       "37657"
      ]
     },
     "execution_count": 41,
     "metadata": {},
     "output_type": "execute_result"
    }
   ],
   "source": [
    "len(op_harm_pat_list)"
   ]
  },
  {
   "cell_type": "code",
   "execution_count": 42,
   "id": "910fc808",
   "metadata": {},
   "outputs": [
    {
     "data": {
      "text/plain": [
       "(509284, 35)"
      ]
     },
     "execution_count": 42,
     "metadata": {},
     "output_type": "execute_result"
    },
    {
     "data": {
      "text/plain": [
       "370037"
      ]
     },
     "execution_count": 42,
     "metadata": {},
     "output_type": "execute_result"
    }
   ],
   "source": [
    "non_op_no_canc_df = op_presc_no_canc_df[~op_presc_no_canc_df['PATID'].isin(op_harm_pat_list)]\n",
    "non_op_no_canc_df.shape\n",
    "non_op_no_canc_df['PATID'].nunique()"
   ]
  },
  {
   "cell_type": "code",
   "execution_count": 43,
   "id": "86bdffcf",
   "metadata": {},
   "outputs": [
    {
     "data": {
      "text/plain": [
       "370037"
      ]
     },
     "execution_count": 43,
     "metadata": {},
     "output_type": "execute_result"
    }
   ],
   "source": [
    "non_op_harm_pat_list = non_op_no_canc_df['PATID'].unique()\n",
    "len(non_op_harm_pat_list)"
   ]
  },
  {
   "cell_type": "code",
   "execution_count": 44,
   "id": "9dbe6a3e",
   "metadata": {},
   "outputs": [],
   "source": [
    "# num_of_patients = 40000"
   ]
  },
  {
   "cell_type": "code",
   "execution_count": 45,
   "id": "f281b961",
   "metadata": {},
   "outputs": [],
   "source": [
    "# rand_patient_sample =  random.sample(list(set(non_op_no_canc_df.PATID)), num_of_patients)\n",
    "# len(rand_patient_sample)"
   ]
  },
  {
   "cell_type": "code",
   "execution_count": 46,
   "id": "3dc2b2f3",
   "metadata": {},
   "outputs": [
    {
     "data": {
      "text/plain": [
       "(846735, 16)"
      ]
     },
     "execution_count": 46,
     "metadata": {},
     "output_type": "execute_result"
    },
    {
     "data": {
      "text/plain": [
       "369980"
      ]
     },
     "execution_count": 46,
     "metadata": {},
     "output_type": "execute_result"
    }
   ],
   "source": [
    "# Filtering all member enrollment files for non-opioid harm patients\n",
    "\n",
    "file = dodr_location + 'dod_mbr_enroll_r.parquet'\n",
    "mbr_temp = pq.ParquetDataset(file, use_legacy_dataset = False, filters=[('PATID','in', non_op_harm_pat_list)])\n",
    "mbr_enrol_rand_df = mbr_temp.read().to_pandas()\n",
    "mbr_enrol_rand_df.shape\n",
    "mbr_enrol_rand_df['PATID'].nunique()"
   ]
  },
  {
   "cell_type": "code",
   "execution_count": 47,
   "id": "bef335c5",
   "metadata": {},
   "outputs": [],
   "source": [
    "def filterRandPat(files, pat_list):\n",
    "    df = pd.DataFrame()\n",
    "    for i in files:\n",
    "        x = pd.read_parquet(i)\n",
    "        temp = x[x['PATID'].isin(pat_list) == True]\n",
    "        print(i)\n",
    "        print(\"Shape:\", x.shape, temp.shape)\n",
    "        print(\"Patient count:\", x['PATID'].nunique(), temp['PATID'].nunique())\n",
    "        df = df.append(temp)\n",
    "        del x\n",
    "        del temp\n",
    "\n",
    "    return df"
   ]
  },
  {
   "cell_type": "code",
   "execution_count": 48,
   "id": "cbaa091b",
   "metadata": {},
   "outputs": [
    {
     "name": "stdout",
     "output_type": "stream",
     "text": [
      "/N/project/optum/data/parquet/dodr_81_202107/dod_r2007q2.parquet\n",
      "Shape: (39201711, 34) (3050480, 34)\n",
      "Patient count: 7185289 303467\n",
      "/N/project/optum/data/parquet/dodr_81_202107/dod_r2007q4.parquet\n",
      "Shape: (40317373, 34) (3014083, 34)\n",
      "Patient count: 7203220 285223\n",
      "/N/project/optum/data/parquet/dodr_81_202107/dod_r2007q3.parquet\n",
      "Shape: (38727543, 34) (3040671, 34)\n",
      "Patient count: 7047536 298636\n",
      "/N/project/optum/data/parquet/dodr_81_202107/dod_r2007q1.parquet\n",
      "Shape: (39730026, 34) (2920507, 34)\n",
      "Patient count: 7438695 294117\n"
     ]
    },
    {
     "data": {
      "text/plain": [
       "(12025741, 34)"
      ]
     },
     "execution_count": 48,
     "metadata": {},
     "output_type": "execute_result"
    },
    {
     "data": {
      "text/plain": [
       "370037"
      ]
     },
     "execution_count": 48,
     "metadata": {},
     "output_type": "execute_result"
    }
   ],
   "source": [
    "# Filtering all prescription files for random patients\n",
    "\n",
    "rx_rand_df = filterRandPat(rx_files, non_op_harm_pat_list)\n",
    "rx_rand_df.shape\n",
    "rx_rand_df['PATID'].nunique()\n"
   ]
  },
  {
   "cell_type": "code",
   "execution_count": 49,
   "id": "851ad938",
   "metadata": {},
   "outputs": [
    {
     "name": "stdout",
     "output_type": "stream",
     "text": [
      "/N/project/optum/data/parquet/dodr_81_202107/dod_c2007q4.parquet\n",
      "Shape: (308513, 35) (124937, 35)\n",
      "Patient count: 262577 104492\n",
      "/N/project/optum/data/parquet/dodr_81_202107/dod_c2007q1.parquet\n",
      "Shape: (322815, 35) (129259, 35)\n",
      "Patient count: 274575 107946\n",
      "/N/project/optum/data/parquet/dodr_81_202107/dod_c2007q3.parquet\n",
      "Shape: (298214, 35) (122272, 35)\n",
      "Patient count: 256331 102950\n",
      "/N/project/optum/data/parquet/dodr_81_202107/dod_c2007q2.parquet\n",
      "Shape: (317027, 35) (132816, 35)\n",
      "Patient count: 269858 110604\n"
     ]
    },
    {
     "data": {
      "text/plain": [
       "(509284, 35)"
      ]
     },
     "execution_count": 49,
     "metadata": {},
     "output_type": "execute_result"
    },
    {
     "data": {
      "text/plain": [
       "370037"
      ]
     },
     "execution_count": 49,
     "metadata": {},
     "output_type": "execute_result"
    }
   ],
   "source": [
    "# Filtering all inpatient (confinement) files for random patients\n",
    "\n",
    "inp_rand_df = filterRandPat(inp_files, non_op_harm_pat_list)\n",
    "inp_rand_df.shape\n",
    "inp_rand_df['PATID'].nunique()\n"
   ]
  },
  {
   "cell_type": "code",
   "execution_count": 50,
   "id": "c5012f54",
   "metadata": {},
   "outputs": [
    {
     "data": {
      "text/html": [
       "<div>\n",
       "<style scoped>\n",
       "    .dataframe tbody tr th:only-of-type {\n",
       "        vertical-align: middle;\n",
       "    }\n",
       "\n",
       "    .dataframe tbody tr th {\n",
       "        vertical-align: top;\n",
       "    }\n",
       "\n",
       "    .dataframe thead th {\n",
       "        text-align: right;\n",
       "    }\n",
       "</style>\n",
       "<table border=\"1\" class=\"dataframe\">\n",
       "  <thead>\n",
       "    <tr style=\"text-align: right;\">\n",
       "      <th></th>\n",
       "      <th>PATID</th>\n",
       "      <th>PAT_PLANID</th>\n",
       "      <th>ADMIT_DATE</th>\n",
       "      <th>CHARGE</th>\n",
       "      <th>COINS</th>\n",
       "      <th>CONF_ID</th>\n",
       "      <th>COPAY</th>\n",
       "      <th>DEDUCT</th>\n",
       "      <th>DIAG1</th>\n",
       "      <th>DIAG2</th>\n",
       "      <th>...</th>\n",
       "      <th>PROV</th>\n",
       "      <th>STD_COST</th>\n",
       "      <th>STD_COST_YR</th>\n",
       "      <th>TOS_CD</th>\n",
       "      <th>ICU_IND</th>\n",
       "      <th>ICU_SURG_IND</th>\n",
       "      <th>MAJ_SURG_IND</th>\n",
       "      <th>MATERNITY_IND</th>\n",
       "      <th>NEWBORN_IND</th>\n",
       "      <th>TOS_EXT</th>\n",
       "    </tr>\n",
       "  </thead>\n",
       "  <tbody>\n",
       "    <tr>\n",
       "      <th>0</th>\n",
       "      <td>33003282019</td>\n",
       "      <td>53013962277</td>\n",
       "      <td>2007-11-19</td>\n",
       "      <td>16868.94</td>\n",
       "      <td>0.00</td>\n",
       "      <td>MOLTNOKZKM4OT</td>\n",
       "      <td>250.0</td>\n",
       "      <td>0.0</td>\n",
       "      <td>78659</td>\n",
       "      <td>42789</td>\n",
       "      <td>...</td>\n",
       "      <td>4774878972</td>\n",
       "      <td>6358.05</td>\n",
       "      <td>2019</td>\n",
       "      <td>FAC_IP.ACUTE</td>\n",
       "      <td>Y</td>\n",
       "      <td>N</td>\n",
       "      <td>N</td>\n",
       "      <td>N</td>\n",
       "      <td>N</td>\n",
       "      <td>FAC_IP.ACUTE.ACUTE.ACUTE.ACUTE</td>\n",
       "    </tr>\n",
       "    <tr>\n",
       "      <th>2</th>\n",
       "      <td>33003282261</td>\n",
       "      <td>53056588883</td>\n",
       "      <td>2007-10-11</td>\n",
       "      <td>14436.23</td>\n",
       "      <td>1528.00</td>\n",
       "      <td>LN6RLMZN4OK4N</td>\n",
       "      <td>0.0</td>\n",
       "      <td>400.0</td>\n",
       "      <td>64511</td>\n",
       "      <td>66411</td>\n",
       "      <td>...</td>\n",
       "      <td>4774888919</td>\n",
       "      <td>6775.95</td>\n",
       "      <td>2019</td>\n",
       "      <td>FAC_IP.ACUTE</td>\n",
       "      <td>N</td>\n",
       "      <td>N</td>\n",
       "      <td>N</td>\n",
       "      <td>Y</td>\n",
       "      <td>N</td>\n",
       "      <td>FAC_IP.ACUTE.ACUTE.ACUTE.ACUTE</td>\n",
       "    </tr>\n",
       "    <tr>\n",
       "      <th>4</th>\n",
       "      <td>33003282417</td>\n",
       "      <td>53009524485</td>\n",
       "      <td>2007-12-12</td>\n",
       "      <td>27332.22</td>\n",
       "      <td>0.00</td>\n",
       "      <td>LTNRLLMO4OK4O</td>\n",
       "      <td>250.0</td>\n",
       "      <td>0.0</td>\n",
       "      <td>2182</td>\n",
       "      <td>78820</td>\n",
       "      <td>...</td>\n",
       "      <td>4774573813</td>\n",
       "      <td>11581.80</td>\n",
       "      <td>2019</td>\n",
       "      <td>FAC_IP.ACUTE</td>\n",
       "      <td>N</td>\n",
       "      <td>N</td>\n",
       "      <td>Y</td>\n",
       "      <td>N</td>\n",
       "      <td>N</td>\n",
       "      <td>FAC_IP.ACUTE.ACUTE.ACUTE.ACUTE</td>\n",
       "    </tr>\n",
       "    <tr>\n",
       "      <th>9</th>\n",
       "      <td>33003283085</td>\n",
       "      <td>53011734739</td>\n",
       "      <td>2007-11-27</td>\n",
       "      <td>32819.75</td>\n",
       "      <td>0.00</td>\n",
       "      <td>MZLT6RLMKM4OO</td>\n",
       "      <td>0.0</td>\n",
       "      <td>0.0</td>\n",
       "      <td>34690</td>\n",
       "      <td>29623</td>\n",
       "      <td>...</td>\n",
       "      <td>4774872509</td>\n",
       "      <td>9820.65</td>\n",
       "      <td>2019</td>\n",
       "      <td>FAC_IP.ACUTE</td>\n",
       "      <td>N</td>\n",
       "      <td>N</td>\n",
       "      <td>N</td>\n",
       "      <td>N</td>\n",
       "      <td>N</td>\n",
       "      <td>FAC_IP.ACUTE.ACUTE.ACUTE.ACUTE</td>\n",
       "    </tr>\n",
       "    <tr>\n",
       "      <th>10</th>\n",
       "      <td>33003283151</td>\n",
       "      <td>53010260932</td>\n",
       "      <td>2007-11-05</td>\n",
       "      <td>67109.48</td>\n",
       "      <td>1414.39</td>\n",
       "      <td>M4MK4OZ4KM4O4</td>\n",
       "      <td>0.0</td>\n",
       "      <td>0.0</td>\n",
       "      <td>41091</td>\n",
       "      <td>5180</td>\n",
       "      <td>...</td>\n",
       "      <td>4774876318</td>\n",
       "      <td>28029.15</td>\n",
       "      <td>2019</td>\n",
       "      <td>FAC_IP.ACUTE</td>\n",
       "      <td>Y</td>\n",
       "      <td>Y</td>\n",
       "      <td>Y</td>\n",
       "      <td>N</td>\n",
       "      <td>N</td>\n",
       "      <td>FAC_IP.ACUTE.ACUTE.ACUTE.ACUTE</td>\n",
       "    </tr>\n",
       "  </tbody>\n",
       "</table>\n",
       "<p>5 rows × 35 columns</p>\n",
       "</div>"
      ],
      "text/plain": [
       "          PATID   PAT_PLANID ADMIT_DATE    CHARGE    COINS        CONF_ID  \\\n",
       "0   33003282019  53013962277 2007-11-19  16868.94     0.00  MOLTNOKZKM4OT   \n",
       "2   33003282261  53056588883 2007-10-11  14436.23  1528.00  LN6RLMZN4OK4N   \n",
       "4   33003282417  53009524485 2007-12-12  27332.22     0.00  LTNRLLMO4OK4O   \n",
       "9   33003283085  53011734739 2007-11-27  32819.75     0.00  MZLT6RLMKM4OO   \n",
       "10  33003283151  53010260932 2007-11-05  67109.48  1414.39  M4MK4OZ4KM4O4   \n",
       "\n",
       "    COPAY  DEDUCT  DIAG1  DIAG2  ...        PROV  STD_COST STD_COST_YR  \\\n",
       "0   250.0     0.0  78659  42789  ...  4774878972   6358.05        2019   \n",
       "2     0.0   400.0  64511  66411  ...  4774888919   6775.95        2019   \n",
       "4   250.0     0.0   2182  78820  ...  4774573813  11581.80        2019   \n",
       "9     0.0     0.0  34690  29623  ...  4774872509   9820.65        2019   \n",
       "10    0.0     0.0  41091   5180  ...  4774876318  28029.15        2019   \n",
       "\n",
       "          TOS_CD ICU_IND ICU_SURG_IND MAJ_SURG_IND MATERNITY_IND  NEWBORN_IND  \\\n",
       "0   FAC_IP.ACUTE       Y            N            N             N            N   \n",
       "2   FAC_IP.ACUTE       N            N            N             Y            N   \n",
       "4   FAC_IP.ACUTE       N            N            Y             N            N   \n",
       "9   FAC_IP.ACUTE       N            N            N             N            N   \n",
       "10  FAC_IP.ACUTE       Y            Y            Y             N            N   \n",
       "\n",
       "                           TOS_EXT  \n",
       "0   FAC_IP.ACUTE.ACUTE.ACUTE.ACUTE  \n",
       "2   FAC_IP.ACUTE.ACUTE.ACUTE.ACUTE  \n",
       "4   FAC_IP.ACUTE.ACUTE.ACUTE.ACUTE  \n",
       "9   FAC_IP.ACUTE.ACUTE.ACUTE.ACUTE  \n",
       "10  FAC_IP.ACUTE.ACUTE.ACUTE.ACUTE  \n",
       "\n",
       "[5 rows x 35 columns]"
      ]
     },
     "execution_count": 50,
     "metadata": {},
     "output_type": "execute_result"
    }
   ],
   "source": [
    "inp_rand_df.head()"
   ]
  },
  {
   "cell_type": "code",
   "execution_count": null,
   "id": "05cb2f55",
   "metadata": {},
   "outputs": [],
   "source": []
  },
  {
   "cell_type": "markdown",
   "id": "69bad566",
   "metadata": {},
   "source": [
    "# Data preprocessing"
   ]
  },
  {
   "cell_type": "code",
   "execution_count": 51,
   "id": "cb0d2630",
   "metadata": {},
   "outputs": [
    {
     "data": {
      "text/html": [
       "<div>\n",
       "<style scoped>\n",
       "    .dataframe tbody tr th:only-of-type {\n",
       "        vertical-align: middle;\n",
       "    }\n",
       "\n",
       "    .dataframe tbody tr th {\n",
       "        vertical-align: top;\n",
       "    }\n",
       "\n",
       "    .dataframe thead th {\n",
       "        text-align: right;\n",
       "    }\n",
       "</style>\n",
       "<table border=\"1\" class=\"dataframe\">\n",
       "  <thead>\n",
       "    <tr style=\"text-align: right;\">\n",
       "      <th></th>\n",
       "      <th>PATID</th>\n",
       "      <th>PAT_PLANID</th>\n",
       "      <th>ASO</th>\n",
       "      <th>BUS</th>\n",
       "      <th>CDHP</th>\n",
       "      <th>ELIGEFF</th>\n",
       "      <th>ELIGEND</th>\n",
       "      <th>FAMILY_ID</th>\n",
       "      <th>GDR_CD</th>\n",
       "      <th>GROUP_NBR</th>\n",
       "      <th>HEALTH_EXCH</th>\n",
       "      <th>LIS_DUAL</th>\n",
       "      <th>PRODUCT</th>\n",
       "      <th>RACE</th>\n",
       "      <th>STATE</th>\n",
       "      <th>YRDOB</th>\n",
       "    </tr>\n",
       "  </thead>\n",
       "  <tbody>\n",
       "    <tr>\n",
       "      <th>0</th>\n",
       "      <td>33003282019</td>\n",
       "      <td>53013962277</td>\n",
       "      <td>N</td>\n",
       "      <td>COM</td>\n",
       "      <td>3</td>\n",
       "      <td>2007-01-01</td>\n",
       "      <td>2007-12-31</td>\n",
       "      <td>3055454992</td>\n",
       "      <td>F</td>\n",
       "      <td>000704570</td>\n",
       "      <td>0</td>\n",
       "      <td></td>\n",
       "      <td>HMO</td>\n",
       "      <td>W</td>\n",
       "      <td>NE</td>\n",
       "      <td>1962</td>\n",
       "    </tr>\n",
       "    <tr>\n",
       "      <th>1</th>\n",
       "      <td>33003282261</td>\n",
       "      <td>53056588883</td>\n",
       "      <td>Y</td>\n",
       "      <td>COM</td>\n",
       "      <td>3</td>\n",
       "      <td>2007-01-01</td>\n",
       "      <td>2007-12-31</td>\n",
       "      <td>3071092766</td>\n",
       "      <td>F</td>\n",
       "      <td>000242359</td>\n",
       "      <td>0</td>\n",
       "      <td></td>\n",
       "      <td>POS</td>\n",
       "      <td>B</td>\n",
       "      <td>CA</td>\n",
       "      <td>1976</td>\n",
       "    </tr>\n",
       "    <tr>\n",
       "      <th>2</th>\n",
       "      <td>33003282417</td>\n",
       "      <td>53009524485</td>\n",
       "      <td>N</td>\n",
       "      <td>COM</td>\n",
       "      <td>3</td>\n",
       "      <td>2007-01-01</td>\n",
       "      <td>2009-06-30</td>\n",
       "      <td>3042140010</td>\n",
       "      <td>F</td>\n",
       "      <td>000700037</td>\n",
       "      <td>0</td>\n",
       "      <td></td>\n",
       "      <td>HMO</td>\n",
       "      <td>W</td>\n",
       "      <td>AZ</td>\n",
       "      <td>1952</td>\n",
       "    </tr>\n",
       "    <tr>\n",
       "      <th>3</th>\n",
       "      <td>33003282532</td>\n",
       "      <td>53078702657</td>\n",
       "      <td>N</td>\n",
       "      <td>MCR</td>\n",
       "      <td>U</td>\n",
       "      <td>2007-01-01</td>\n",
       "      <td>2008-11-30</td>\n",
       "      <td>3070875594</td>\n",
       "      <td>F</td>\n",
       "      <td>STM055013</td>\n",
       "      <td>0</td>\n",
       "      <td>U</td>\n",
       "      <td>HMO</td>\n",
       "      <td>W</td>\n",
       "      <td>MO</td>\n",
       "      <td>1937</td>\n",
       "    </tr>\n",
       "    <tr>\n",
       "      <th>4</th>\n",
       "      <td>33003282641</td>\n",
       "      <td>53020320530</td>\n",
       "      <td>N</td>\n",
       "      <td>COM</td>\n",
       "      <td>3</td>\n",
       "      <td>2007-01-01</td>\n",
       "      <td>2007-02-06</td>\n",
       "      <td>3073327045</td>\n",
       "      <td>F</td>\n",
       "      <td>0002P3104</td>\n",
       "      <td>0</td>\n",
       "      <td></td>\n",
       "      <td>POS</td>\n",
       "      <td>B</td>\n",
       "      <td>NJ</td>\n",
       "      <td>1968</td>\n",
       "    </tr>\n",
       "  </tbody>\n",
       "</table>\n",
       "</div>"
      ],
      "text/plain": [
       "         PATID   PAT_PLANID ASO  BUS CDHP    ELIGEFF    ELIGEND   FAMILY_ID  \\\n",
       "0  33003282019  53013962277   N  COM    3 2007-01-01 2007-12-31  3055454992   \n",
       "1  33003282261  53056588883   Y  COM    3 2007-01-01 2007-12-31  3071092766   \n",
       "2  33003282417  53009524485   N  COM    3 2007-01-01 2009-06-30  3042140010   \n",
       "3  33003282532  53078702657   N  MCR    U 2007-01-01 2008-11-30  3070875594   \n",
       "4  33003282641  53020320530   N  COM    3 2007-01-01 2007-02-06  3073327045   \n",
       "\n",
       "  GDR_CD  GROUP_NBR HEALTH_EXCH LIS_DUAL PRODUCT RACE STATE  YRDOB  \n",
       "0      F  000704570           0              HMO    W    NE   1962  \n",
       "1      F  000242359           0              POS    B    CA   1976  \n",
       "2      F  000700037           0              HMO    W    AZ   1952  \n",
       "3      F  STM055013           0        U     HMO    W    MO   1937  \n",
       "4      F  0002P3104           0              POS    B    NJ   1968  "
      ]
     },
     "execution_count": 51,
     "metadata": {},
     "output_type": "execute_result"
    }
   ],
   "source": [
    "mbr_enrol_rand_df.head()"
   ]
  },
  {
   "cell_type": "code",
   "execution_count": 52,
   "id": "fd58e69a",
   "metadata": {},
   "outputs": [
    {
     "data": {
      "text/plain": [
       "PATID                   int64\n",
       "PAT_PLANID              int64\n",
       "ASO                    object\n",
       "BUS                    object\n",
       "CDHP                   object\n",
       "ELIGEFF        datetime64[ns]\n",
       "ELIGEND        datetime64[ns]\n",
       "FAMILY_ID               int64\n",
       "GDR_CD                 object\n",
       "GROUP_NBR              object\n",
       "HEALTH_EXCH            object\n",
       "LIS_DUAL               object\n",
       "PRODUCT                object\n",
       "RACE                   object\n",
       "STATE                  object\n",
       "YRDOB                   int64\n",
       "dtype: object"
      ]
     },
     "execution_count": 52,
     "metadata": {},
     "output_type": "execute_result"
    }
   ],
   "source": [
    "mbr_enrol_rand_df.dtypes"
   ]
  },
  {
   "cell_type": "code",
   "execution_count": 53,
   "id": "a276710e",
   "metadata": {},
   "outputs": [
    {
     "data": {
      "text/plain": [
       "Index(['PATID', 'PAT_PLANID', 'ASO', 'BUS', 'CDHP', 'ELIGEFF', 'ELIGEND',\n",
       "       'FAMILY_ID', 'GDR_CD', 'GROUP_NBR', 'HEALTH_EXCH', 'LIS_DUAL',\n",
       "       'PRODUCT', 'RACE', 'STATE', 'YRDOB'],\n",
       "      dtype='object')"
      ]
     },
     "execution_count": 53,
     "metadata": {},
     "output_type": "execute_result"
    }
   ],
   "source": [
    "mbr_enrol_rand_df.columns"
   ]
  },
  {
   "cell_type": "code",
   "execution_count": 54,
   "id": "e0e83754",
   "metadata": {},
   "outputs": [],
   "source": [
    "# Function to aggregate MEMBER ENROLLMENT data at patient level\n",
    "\n",
    "def mbrPreprocess(mbr_df, year):\n",
    "    \n",
    "    mbr_df['AGE'] = year - mbr_df['YRDOB']\n",
    "#     mbr_df = mbr_df[mbr_df['AGE'] > 10] # Removing all patients with age less than 10 years\n",
    "    \n",
    "    mbr_df['TOTAL_MON_COV'] = round(((mbr_df.ELIGEND - mbr_df.ELIGEFF)/np.timedelta64(1, 'M')),0)\n",
    "    \n",
    "    for i in ['GDR_CD', 'RACE', 'STATE']:\n",
    "        mbr_df[i] = mbr_df[i].fillna('U')\n",
    "        mbr_df[i] = np.where(mbr_df[i] == '', 'U', mbr_df[i])\n",
    "\n",
    "    mbr_grp_df = mbr_df.groupby('PATID').agg({'TOTAL_MON_COV':'sum', 'AGE':'mean', 'GDR_CD':'last', 'RACE':'last', 'STATE':'last'})\n",
    "    mbr_grp_df.reset_index(inplace = True)\n",
    "    \n",
    "    return mbr_grp_df\n"
   ]
  },
  {
   "cell_type": "code",
   "execution_count": 55,
   "id": "40d38c0a",
   "metadata": {},
   "outputs": [
    {
     "data": {
      "text/plain": [
       "(37652, 6)"
      ]
     },
     "execution_count": 55,
     "metadata": {},
     "output_type": "execute_result"
    },
    {
     "data": {
      "text/html": [
       "<div>\n",
       "<style scoped>\n",
       "    .dataframe tbody tr th:only-of-type {\n",
       "        vertical-align: middle;\n",
       "    }\n",
       "\n",
       "    .dataframe tbody tr th {\n",
       "        vertical-align: top;\n",
       "    }\n",
       "\n",
       "    .dataframe thead th {\n",
       "        text-align: right;\n",
       "    }\n",
       "</style>\n",
       "<table border=\"1\" class=\"dataframe\">\n",
       "  <thead>\n",
       "    <tr style=\"text-align: right;\">\n",
       "      <th></th>\n",
       "      <th>PATID</th>\n",
       "      <th>TOTAL_MON_COV</th>\n",
       "      <th>AGE</th>\n",
       "      <th>GDR_CD</th>\n",
       "      <th>RACE</th>\n",
       "      <th>STATE</th>\n",
       "    </tr>\n",
       "  </thead>\n",
       "  <tbody>\n",
       "    <tr>\n",
       "      <th>0</th>\n",
       "      <td>33003284598</td>\n",
       "      <td>193.0</td>\n",
       "      <td>54.0</td>\n",
       "      <td>M</td>\n",
       "      <td>W</td>\n",
       "      <td>MO</td>\n",
       "    </tr>\n",
       "    <tr>\n",
       "      <th>1</th>\n",
       "      <td>33003285835</td>\n",
       "      <td>54.0</td>\n",
       "      <td>64.0</td>\n",
       "      <td>F</td>\n",
       "      <td>W</td>\n",
       "      <td>AZ</td>\n",
       "    </tr>\n",
       "    <tr>\n",
       "      <th>2</th>\n",
       "      <td>33003287387</td>\n",
       "      <td>58.0</td>\n",
       "      <td>38.0</td>\n",
       "      <td>F</td>\n",
       "      <td>W</td>\n",
       "      <td>AZ</td>\n",
       "    </tr>\n",
       "    <tr>\n",
       "      <th>3</th>\n",
       "      <td>33003288343</td>\n",
       "      <td>88.0</td>\n",
       "      <td>62.0</td>\n",
       "      <td>F</td>\n",
       "      <td>W</td>\n",
       "      <td>CO</td>\n",
       "    </tr>\n",
       "    <tr>\n",
       "      <th>4</th>\n",
       "      <td>33003289068</td>\n",
       "      <td>30.0</td>\n",
       "      <td>50.0</td>\n",
       "      <td>M</td>\n",
       "      <td>W</td>\n",
       "      <td>MN</td>\n",
       "    </tr>\n",
       "  </tbody>\n",
       "</table>\n",
       "</div>"
      ],
      "text/plain": [
       "         PATID  TOTAL_MON_COV   AGE GDR_CD RACE STATE\n",
       "0  33003284598          193.0  54.0      M    W    MO\n",
       "1  33003285835           54.0  64.0      F    W    AZ\n",
       "2  33003287387           58.0  38.0      F    W    AZ\n",
       "3  33003288343           88.0  62.0      F    W    CO\n",
       "4  33003289068           30.0  50.0      M    W    MN"
      ]
     },
     "execution_count": 55,
     "metadata": {},
     "output_type": "execute_result"
    }
   ],
   "source": [
    "mbr_op_df = mbrPreprocess(mbr_enroll_df, 2007)\n",
    "mbr_op_df.shape\n",
    "mbr_op_df.head()"
   ]
  },
  {
   "cell_type": "code",
   "execution_count": 56,
   "id": "61b7dc2e",
   "metadata": {},
   "outputs": [
    {
     "data": {
      "text/plain": [
       "(369980, 6)"
      ]
     },
     "execution_count": 56,
     "metadata": {},
     "output_type": "execute_result"
    },
    {
     "data": {
      "text/html": [
       "<div>\n",
       "<style scoped>\n",
       "    .dataframe tbody tr th:only-of-type {\n",
       "        vertical-align: middle;\n",
       "    }\n",
       "\n",
       "    .dataframe tbody tr th {\n",
       "        vertical-align: top;\n",
       "    }\n",
       "\n",
       "    .dataframe thead th {\n",
       "        text-align: right;\n",
       "    }\n",
       "</style>\n",
       "<table border=\"1\" class=\"dataframe\">\n",
       "  <thead>\n",
       "    <tr style=\"text-align: right;\">\n",
       "      <th></th>\n",
       "      <th>PATID</th>\n",
       "      <th>TOTAL_MON_COV</th>\n",
       "      <th>AGE</th>\n",
       "      <th>GDR_CD</th>\n",
       "      <th>RACE</th>\n",
       "      <th>STATE</th>\n",
       "    </tr>\n",
       "  </thead>\n",
       "  <tbody>\n",
       "    <tr>\n",
       "      <th>0</th>\n",
       "      <td>33003282019</td>\n",
       "      <td>12.0</td>\n",
       "      <td>45.0</td>\n",
       "      <td>F</td>\n",
       "      <td>W</td>\n",
       "      <td>NE</td>\n",
       "    </tr>\n",
       "    <tr>\n",
       "      <th>1</th>\n",
       "      <td>33003282261</td>\n",
       "      <td>12.0</td>\n",
       "      <td>31.0</td>\n",
       "      <td>F</td>\n",
       "      <td>B</td>\n",
       "      <td>CA</td>\n",
       "    </tr>\n",
       "    <tr>\n",
       "      <th>2</th>\n",
       "      <td>33003282417</td>\n",
       "      <td>30.0</td>\n",
       "      <td>55.0</td>\n",
       "      <td>F</td>\n",
       "      <td>W</td>\n",
       "      <td>AZ</td>\n",
       "    </tr>\n",
       "    <tr>\n",
       "      <th>3</th>\n",
       "      <td>33003282532</td>\n",
       "      <td>23.0</td>\n",
       "      <td>70.0</td>\n",
       "      <td>F</td>\n",
       "      <td>W</td>\n",
       "      <td>MO</td>\n",
       "    </tr>\n",
       "    <tr>\n",
       "      <th>4</th>\n",
       "      <td>33003282641</td>\n",
       "      <td>78.0</td>\n",
       "      <td>39.0</td>\n",
       "      <td>F</td>\n",
       "      <td>B</td>\n",
       "      <td>NJ</td>\n",
       "    </tr>\n",
       "  </tbody>\n",
       "</table>\n",
       "</div>"
      ],
      "text/plain": [
       "         PATID  TOTAL_MON_COV   AGE GDR_CD RACE STATE\n",
       "0  33003282019           12.0  45.0      F    W    NE\n",
       "1  33003282261           12.0  31.0      F    B    CA\n",
       "2  33003282417           30.0  55.0      F    W    AZ\n",
       "3  33003282532           23.0  70.0      F    W    MO\n",
       "4  33003282641           78.0  39.0      F    B    NJ"
      ]
     },
     "execution_count": 56,
     "metadata": {},
     "output_type": "execute_result"
    }
   ],
   "source": [
    "mbr_rand_df = mbrPreprocess(mbr_enrol_rand_df, 2007)\n",
    "mbr_rand_df.shape\n",
    "mbr_rand_df.head()"
   ]
  },
  {
   "cell_type": "code",
   "execution_count": 57,
   "id": "df9022ea",
   "metadata": {},
   "outputs": [
    {
     "data": {
      "text/plain": [
       " 45.0    1228\n",
       " 47.0    1180\n",
       " 48.0    1159\n",
       " 50.0    1149\n",
       " 44.0    1126\n",
       "         ... \n",
       " 12.0       1\n",
       " 5.0        1\n",
       " 2.0        1\n",
       "-1.0        1\n",
       " 6.0        1\n",
       "Name: AGE, Length: 86, dtype: int64"
      ]
     },
     "execution_count": 57,
     "metadata": {},
     "output_type": "execute_result"
    },
    {
     "data": {
      "text/plain": [
       "30.0    8039\n",
       "33.0    7926\n",
       "31.0    7903\n",
       "32.0    7850\n",
       "36.0    7561\n",
       "        ... \n",
       "6.0      496\n",
       "7.0      489\n",
       "9.0      475\n",
       "8.0      440\n",
       "10.0     437\n",
       "Name: AGE, Length: 91, dtype: int64"
      ]
     },
     "execution_count": 57,
     "metadata": {},
     "output_type": "execute_result"
    }
   ],
   "source": [
    "mbr_op_df['AGE'].value_counts()\n",
    "mbr_rand_df['AGE'].value_counts()"
   ]
  },
  {
   "cell_type": "code",
   "execution_count": 58,
   "id": "711f22b3",
   "metadata": {},
   "outputs": [],
   "source": [
    "# Function to aggregate MEMBER ENROLLMENT data at patient level\n",
    "\n",
    "def mbrPreprocess(mbr_df, year):\n",
    "    \n",
    "    mbr_df['AGE'] = year - mbr_df['YRDOB']\n",
    "    mbr_df = mbr_df[mbr_df['AGE'] > 10] # Removing all patients with age less than 10 years\n",
    "    \n",
    "#     mbr_df['TOTAL_MON_COV'] = round(((mbr_df.ELIGEND - mbr_df.ELIGEFF)/np.timedelta64(1, 'M')),0)\n",
    "    \n",
    "    for i in ['GDR_CD', 'RACE', 'STATE']:\n",
    "        mbr_df[i] = mbr_df[i].fillna('U')\n",
    "        mbr_df[i] = np.where(mbr_df[i] == '', 'U', mbr_df[i])\n",
    "\n",
    "    mbr_grp_df = mbr_df.groupby('PATID').agg({'TOTAL_MON_COV':'sum', 'AGE':'mean', 'GDR_CD':'last', 'RACE':'last', 'STATE':'last'})\n",
    "    mbr_grp_df.reset_index(inplace = True)\n",
    "    \n",
    "    return mbr_grp_df\n"
   ]
  },
  {
   "cell_type": "code",
   "execution_count": 59,
   "id": "2fccbca8",
   "metadata": {},
   "outputs": [
    {
     "data": {
      "text/plain": [
       "(37644, 6)"
      ]
     },
     "execution_count": 59,
     "metadata": {},
     "output_type": "execute_result"
    },
    {
     "data": {
      "text/html": [
       "<div>\n",
       "<style scoped>\n",
       "    .dataframe tbody tr th:only-of-type {\n",
       "        vertical-align: middle;\n",
       "    }\n",
       "\n",
       "    .dataframe tbody tr th {\n",
       "        vertical-align: top;\n",
       "    }\n",
       "\n",
       "    .dataframe thead th {\n",
       "        text-align: right;\n",
       "    }\n",
       "</style>\n",
       "<table border=\"1\" class=\"dataframe\">\n",
       "  <thead>\n",
       "    <tr style=\"text-align: right;\">\n",
       "      <th></th>\n",
       "      <th>PATID</th>\n",
       "      <th>TOTAL_MON_COV</th>\n",
       "      <th>AGE</th>\n",
       "      <th>GDR_CD</th>\n",
       "      <th>RACE</th>\n",
       "      <th>STATE</th>\n",
       "    </tr>\n",
       "  </thead>\n",
       "  <tbody>\n",
       "    <tr>\n",
       "      <th>0</th>\n",
       "      <td>33003284598</td>\n",
       "      <td>193.0</td>\n",
       "      <td>54.0</td>\n",
       "      <td>M</td>\n",
       "      <td>W</td>\n",
       "      <td>MO</td>\n",
       "    </tr>\n",
       "    <tr>\n",
       "      <th>1</th>\n",
       "      <td>33003285835</td>\n",
       "      <td>54.0</td>\n",
       "      <td>64.0</td>\n",
       "      <td>F</td>\n",
       "      <td>W</td>\n",
       "      <td>AZ</td>\n",
       "    </tr>\n",
       "    <tr>\n",
       "      <th>2</th>\n",
       "      <td>33003287387</td>\n",
       "      <td>58.0</td>\n",
       "      <td>38.0</td>\n",
       "      <td>F</td>\n",
       "      <td>W</td>\n",
       "      <td>AZ</td>\n",
       "    </tr>\n",
       "    <tr>\n",
       "      <th>3</th>\n",
       "      <td>33003288343</td>\n",
       "      <td>88.0</td>\n",
       "      <td>62.0</td>\n",
       "      <td>F</td>\n",
       "      <td>W</td>\n",
       "      <td>CO</td>\n",
       "    </tr>\n",
       "    <tr>\n",
       "      <th>4</th>\n",
       "      <td>33003289068</td>\n",
       "      <td>30.0</td>\n",
       "      <td>50.0</td>\n",
       "      <td>M</td>\n",
       "      <td>W</td>\n",
       "      <td>MN</td>\n",
       "    </tr>\n",
       "  </tbody>\n",
       "</table>\n",
       "</div>"
      ],
      "text/plain": [
       "         PATID  TOTAL_MON_COV   AGE GDR_CD RACE STATE\n",
       "0  33003284598          193.0  54.0      M    W    MO\n",
       "1  33003285835           54.0  64.0      F    W    AZ\n",
       "2  33003287387           58.0  38.0      F    W    AZ\n",
       "3  33003288343           88.0  62.0      F    W    CO\n",
       "4  33003289068           30.0  50.0      M    W    MN"
      ]
     },
     "execution_count": 59,
     "metadata": {},
     "output_type": "execute_result"
    }
   ],
   "source": [
    "mbr_op_df = mbrPreprocess(mbr_enroll_df, 2007)\n",
    "mbr_op_df.shape\n",
    "mbr_op_df.head()"
   ]
  },
  {
   "cell_type": "code",
   "execution_count": 60,
   "id": "6dc2b0aa",
   "metadata": {},
   "outputs": [
    {
     "data": {
      "text/plain": [
       "(363849, 6)"
      ]
     },
     "execution_count": 60,
     "metadata": {},
     "output_type": "execute_result"
    },
    {
     "data": {
      "text/html": [
       "<div>\n",
       "<style scoped>\n",
       "    .dataframe tbody tr th:only-of-type {\n",
       "        vertical-align: middle;\n",
       "    }\n",
       "\n",
       "    .dataframe tbody tr th {\n",
       "        vertical-align: top;\n",
       "    }\n",
       "\n",
       "    .dataframe thead th {\n",
       "        text-align: right;\n",
       "    }\n",
       "</style>\n",
       "<table border=\"1\" class=\"dataframe\">\n",
       "  <thead>\n",
       "    <tr style=\"text-align: right;\">\n",
       "      <th></th>\n",
       "      <th>PATID</th>\n",
       "      <th>TOTAL_MON_COV</th>\n",
       "      <th>AGE</th>\n",
       "      <th>GDR_CD</th>\n",
       "      <th>RACE</th>\n",
       "      <th>STATE</th>\n",
       "    </tr>\n",
       "  </thead>\n",
       "  <tbody>\n",
       "    <tr>\n",
       "      <th>0</th>\n",
       "      <td>33003282019</td>\n",
       "      <td>12.0</td>\n",
       "      <td>45.0</td>\n",
       "      <td>F</td>\n",
       "      <td>W</td>\n",
       "      <td>NE</td>\n",
       "    </tr>\n",
       "    <tr>\n",
       "      <th>1</th>\n",
       "      <td>33003282261</td>\n",
       "      <td>12.0</td>\n",
       "      <td>31.0</td>\n",
       "      <td>F</td>\n",
       "      <td>B</td>\n",
       "      <td>CA</td>\n",
       "    </tr>\n",
       "    <tr>\n",
       "      <th>2</th>\n",
       "      <td>33003282417</td>\n",
       "      <td>30.0</td>\n",
       "      <td>55.0</td>\n",
       "      <td>F</td>\n",
       "      <td>W</td>\n",
       "      <td>AZ</td>\n",
       "    </tr>\n",
       "    <tr>\n",
       "      <th>3</th>\n",
       "      <td>33003282532</td>\n",
       "      <td>23.0</td>\n",
       "      <td>70.0</td>\n",
       "      <td>F</td>\n",
       "      <td>W</td>\n",
       "      <td>MO</td>\n",
       "    </tr>\n",
       "    <tr>\n",
       "      <th>4</th>\n",
       "      <td>33003282641</td>\n",
       "      <td>78.0</td>\n",
       "      <td>39.0</td>\n",
       "      <td>F</td>\n",
       "      <td>B</td>\n",
       "      <td>NJ</td>\n",
       "    </tr>\n",
       "  </tbody>\n",
       "</table>\n",
       "</div>"
      ],
      "text/plain": [
       "         PATID  TOTAL_MON_COV   AGE GDR_CD RACE STATE\n",
       "0  33003282019           12.0  45.0      F    W    NE\n",
       "1  33003282261           12.0  31.0      F    B    CA\n",
       "2  33003282417           30.0  55.0      F    W    AZ\n",
       "3  33003282532           23.0  70.0      F    W    MO\n",
       "4  33003282641           78.0  39.0      F    B    NJ"
      ]
     },
     "execution_count": 60,
     "metadata": {},
     "output_type": "execute_result"
    }
   ],
   "source": [
    "mbr_non_op_df = mbrPreprocess(mbr_enrol_rand_df, 2007)\n",
    "mbr_non_op_df.shape\n",
    "mbr_non_op_df.head()"
   ]
  },
  {
   "cell_type": "code",
   "execution_count": 61,
   "id": "c8c59d7d",
   "metadata": {},
   "outputs": [
    {
     "data": {
      "text/plain": [
       "45.0    1228\n",
       "47.0    1180\n",
       "48.0    1159\n",
       "50.0    1149\n",
       "44.0    1126\n",
       "        ... \n",
       "88.0      15\n",
       "89.0      12\n",
       "90.0      11\n",
       "13.0       3\n",
       "12.0       1\n",
       "Name: AGE, Length: 79, dtype: int64"
      ]
     },
     "execution_count": 61,
     "metadata": {},
     "output_type": "execute_result"
    },
    {
     "data": {
      "text/plain": [
       "30.0    8039\n",
       "33.0    7926\n",
       "31.0    7903\n",
       "32.0    7850\n",
       "36.0    7561\n",
       "        ... \n",
       "15.0    1170\n",
       "14.0     917\n",
       "13.0     798\n",
       "12.0     663\n",
       "11.0     508\n",
       "Name: AGE, Length: 80, dtype: int64"
      ]
     },
     "execution_count": 61,
     "metadata": {},
     "output_type": "execute_result"
    }
   ],
   "source": [
    "mbr_op_df['AGE'].value_counts()\n",
    "mbr_non_op_df['AGE'].value_counts()"
   ]
  },
  {
   "cell_type": "code",
   "execution_count": 62,
   "id": "daca6da8",
   "metadata": {},
   "outputs": [],
   "source": [
    "mbr_op_df.to_csv('Opioid_analytics/Akhila/overdose_prediction/data/mbr_op_2007.csv', index = False)"
   ]
  },
  {
   "cell_type": "code",
   "execution_count": 63,
   "id": "fe11cb9b",
   "metadata": {},
   "outputs": [],
   "source": [
    "mbr_non_op_df.to_csv('Opioid_analytics/Akhila/overdose_prediction/data//mbr_non_op_2007.csv', index=False)"
   ]
  },
  {
   "cell_type": "code",
   "execution_count": 64,
   "id": "46ca3194",
   "metadata": {},
   "outputs": [
    {
     "data": {
      "text/plain": [
       "(37644, 363849)"
      ]
     },
     "execution_count": 64,
     "metadata": {},
     "output_type": "execute_result"
    }
   ],
   "source": [
    "mbr_op_df['PATID'].nunique(), mbr_non_op_df['PATID'].nunique()"
   ]
  },
  {
   "cell_type": "code",
   "execution_count": 65,
   "id": "b6833bdf",
   "metadata": {
    "scrolled": true
   },
   "outputs": [
    {
     "data": {
      "text/plain": [
       "Index(['PATID', 'PAT_PLANID', 'ADMIT_DATE', 'CHARGE', 'COINS', 'CONF_ID',\n",
       "       'COPAY', 'DEDUCT', 'DIAG1', 'DIAG2', 'DIAG3', 'DIAG4', 'DIAG5',\n",
       "       'DISCH_DATE', 'DRG', 'DSTATUS', 'ICD_FLAG', 'IPSTATUS', 'LOS', 'POS',\n",
       "       'PROC1', 'PROC2', 'PROC3', 'PROC4', 'PROC5', 'PROV', 'STD_COST',\n",
       "       'STD_COST_YR', 'TOS_CD', 'ICU_IND', 'ICU_SURG_IND', 'MAJ_SURG_IND',\n",
       "       'MATERNITY_IND', 'NEWBORN_IND', 'TOS_EXT'],\n",
       "      dtype='object')"
      ]
     },
     "execution_count": 65,
     "metadata": {},
     "output_type": "execute_result"
    }
   ],
   "source": [
    "inp_final.columns"
   ]
  },
  {
   "cell_type": "code",
   "execution_count": 66,
   "id": "ce58d98e",
   "metadata": {
    "scrolled": true
   },
   "outputs": [
    {
     "data": {
      "text/plain": [
       "(1190, 2)"
      ]
     },
     "execution_count": 66,
     "metadata": {},
     "output_type": "execute_result"
    },
    {
     "data": {
      "text/html": [
       "<div>\n",
       "<style scoped>\n",
       "    .dataframe tbody tr th:only-of-type {\n",
       "        vertical-align: middle;\n",
       "    }\n",
       "\n",
       "    .dataframe tbody tr th {\n",
       "        vertical-align: top;\n",
       "    }\n",
       "\n",
       "    .dataframe thead th {\n",
       "        text-align: right;\n",
       "    }\n",
       "</style>\n",
       "<table border=\"1\" class=\"dataframe\">\n",
       "  <thead>\n",
       "    <tr style=\"text-align: right;\">\n",
       "      <th></th>\n",
       "      <th>DRG</th>\n",
       "      <th>DESCRIPTION</th>\n",
       "    </tr>\n",
       "  </thead>\n",
       "  <tbody>\n",
       "    <tr>\n",
       "      <th>0</th>\n",
       "      <td>000</td>\n",
       "      <td>INVALID_POSSIBLE_INPUT_ERROR</td>\n",
       "    </tr>\n",
       "    <tr>\n",
       "      <th>3</th>\n",
       "      <td>001</td>\n",
       "      <td>HRT TRANSPL OR IMPL HRT ASST SYS W MCC</td>\n",
       "    </tr>\n",
       "    <tr>\n",
       "      <th>6</th>\n",
       "      <td>002</td>\n",
       "      <td>HRT TRANSPL OR IMPL HRT ASST SYS WO MCC</td>\n",
       "    </tr>\n",
       "    <tr>\n",
       "      <th>9</th>\n",
       "      <td>003</td>\n",
       "      <td>ECMO, TRACH MV&gt;96H OR PDX EX FMN MAJ OR</td>\n",
       "    </tr>\n",
       "    <tr>\n",
       "      <th>13</th>\n",
       "      <td>004</td>\n",
       "      <td>TRACH MV&gt;96H OR PDX EX F/M/N WO MAJ OR</td>\n",
       "    </tr>\n",
       "    <tr>\n",
       "      <th>...</th>\n",
       "      <td>...</td>\n",
       "      <td>...</td>\n",
       "    </tr>\n",
       "    <tr>\n",
       "      <th>1897</th>\n",
       "      <td>9420</td>\n",
       "      <td>INVALID_POSSIBLE_INPUT_ERROR</td>\n",
       "    </tr>\n",
       "    <tr>\n",
       "      <th>1898</th>\n",
       "      <td>9590</td>\n",
       "      <td>INVALID_POSSIBLE_INPUT_ERROR</td>\n",
       "    </tr>\n",
       "    <tr>\n",
       "      <th>1899</th>\n",
       "      <td>9832</td>\n",
       "      <td>INVALID_POSSIBLE_INPUT_ERROR</td>\n",
       "    </tr>\n",
       "    <tr>\n",
       "      <th>1900</th>\n",
       "      <td>NONE</td>\n",
       "      <td>NO DRG CODE</td>\n",
       "    </tr>\n",
       "    <tr>\n",
       "      <th>1901</th>\n",
       "      <td>UNK</td>\n",
       "      <td>UNKNOWN DRG CODE</td>\n",
       "    </tr>\n",
       "  </tbody>\n",
       "</table>\n",
       "<p>1190 rows × 2 columns</p>\n",
       "</div>"
      ],
      "text/plain": [
       "       DRG                              DESCRIPTION\n",
       "0      000             INVALID_POSSIBLE_INPUT_ERROR\n",
       "3      001   HRT TRANSPL OR IMPL HRT ASST SYS W MCC\n",
       "6      002  HRT TRANSPL OR IMPL HRT ASST SYS WO MCC\n",
       "9      003  ECMO, TRACH MV>96H OR PDX EX FMN MAJ OR\n",
       "13     004   TRACH MV>96H OR PDX EX F/M/N WO MAJ OR\n",
       "...    ...                                      ...\n",
       "1897  9420             INVALID_POSSIBLE_INPUT_ERROR\n",
       "1898  9590             INVALID_POSSIBLE_INPUT_ERROR\n",
       "1899  9832             INVALID_POSSIBLE_INPUT_ERROR\n",
       "1900  NONE                              NO DRG CODE\n",
       "1901   UNK                         UNKNOWN DRG CODE\n",
       "\n",
       "[1190 rows x 2 columns]"
      ]
     },
     "execution_count": 66,
     "metadata": {},
     "output_type": "execute_result"
    }
   ],
   "source": [
    "lu_drg = pd.read_excel('DRG_Lookup_Table.xls') \n",
    "\n",
    "# Dropping duplicates to keep only the most recent codes\n",
    "lu_drg = lu_drg.drop_duplicates('DRG',keep='last')\n",
    "lu_drg.drop(columns = ['EFF_DATE', 'END_DATE'], inplace = True)\n",
    "lu_drg.shape\n",
    "lu_drg"
   ]
  },
  {
   "cell_type": "code",
   "execution_count": 67,
   "id": "9bc15380",
   "metadata": {},
   "outputs": [],
   "source": [
    "def inpPreprocess(inp_df, drg_codes):\n",
    "    \n",
    "    inp_df.drop(columns = ['PAT_PLANID', 'ADMIT_DATE', 'CHARGE', 'COINS', 'CONF_ID',\n",
    "       'COPAY', 'DEDUCT', 'DISCH_DATE', 'DSTATUS', 'IPSTATUS', 'POS',\n",
    "       'PROV', 'STD_COST_YR', 'TOS_CD', 'NEWBORN_IND', 'TOS_EXT'], inplace = True)\n",
    "    \n",
    "    inp_df['DRG'] = np.where(inp_df['DRG'] == '', 'UNK', inp_df['DRG'])\n",
    "    inp_df1 = pd.merge(inp_df, drg_codes, on = ['DRG'], how = 'left')\n",
    "    inp_df1.rename(columns = {'DESCRIPTION': 'DRG_DESC'}, inplace=True)\n",
    "    \n",
    "    diag_cols = ['DIAG1', 'DIAG2', 'DIAG3', 'DIAG4', 'DIAG5']\n",
    "    for i in diag_cols:\n",
    "        inp_df1[i] = np.where(inp_df1[i] == '', '0000', inp_df1[i])\n",
    "        \n",
    "    proc_cols = ['PROC1', 'PROC2', 'PROC3', 'PROC4', 'PROC5']\n",
    "    for i in diag_cols:\n",
    "        inp_df1[i] = np.where(inp_df1[i] == '', '0000', inp_df1[i])\n",
    "        \n",
    "    ind_cols = ['ICU_IND', 'ICU_SURG_IND', 'MAJ_SURG_IND','MATERNITY_IND']\n",
    "    for i in ind_cols:\n",
    "        inp_df1[i] = inp_df1[i].replace({'Y': 1, 'N': 0})\n",
    "    \n",
    "    return inp_df1"
   ]
  },
  {
   "cell_type": "code",
   "execution_count": 68,
   "id": "d4c452db",
   "metadata": {},
   "outputs": [
    {
     "data": {
      "text/html": [
       "<div>\n",
       "<style scoped>\n",
       "    .dataframe tbody tr th:only-of-type {\n",
       "        vertical-align: middle;\n",
       "    }\n",
       "\n",
       "    .dataframe tbody tr th {\n",
       "        vertical-align: top;\n",
       "    }\n",
       "\n",
       "    .dataframe thead th {\n",
       "        text-align: right;\n",
       "    }\n",
       "</style>\n",
       "<table border=\"1\" class=\"dataframe\">\n",
       "  <thead>\n",
       "    <tr style=\"text-align: right;\">\n",
       "      <th></th>\n",
       "      <th>PATID</th>\n",
       "      <th>PAT_PLANID</th>\n",
       "      <th>ADMIT_DATE</th>\n",
       "      <th>CHARGE</th>\n",
       "      <th>COINS</th>\n",
       "      <th>CONF_ID</th>\n",
       "      <th>COPAY</th>\n",
       "      <th>DEDUCT</th>\n",
       "      <th>DIAG1</th>\n",
       "      <th>DIAG2</th>\n",
       "      <th>...</th>\n",
       "      <th>PROV</th>\n",
       "      <th>STD_COST</th>\n",
       "      <th>STD_COST_YR</th>\n",
       "      <th>TOS_CD</th>\n",
       "      <th>ICU_IND</th>\n",
       "      <th>ICU_SURG_IND</th>\n",
       "      <th>MAJ_SURG_IND</th>\n",
       "      <th>MATERNITY_IND</th>\n",
       "      <th>NEWBORN_IND</th>\n",
       "      <th>TOS_EXT</th>\n",
       "    </tr>\n",
       "  </thead>\n",
       "  <tbody>\n",
       "    <tr>\n",
       "      <th>26</th>\n",
       "      <td>33003284598</td>\n",
       "      <td>53054044619</td>\n",
       "      <td>2007-10-09</td>\n",
       "      <td>7234.15</td>\n",
       "      <td>0.00</td>\n",
       "      <td>LZRTTRMO4OK4M</td>\n",
       "      <td>0.0</td>\n",
       "      <td>0.00</td>\n",
       "      <td>78659</td>\n",
       "      <td>4019</td>\n",
       "      <td>...</td>\n",
       "      <td>4777699636</td>\n",
       "      <td>6358.05</td>\n",
       "      <td>2019</td>\n",
       "      <td>FAC_IP.ACUTE</td>\n",
       "      <td>Y</td>\n",
       "      <td>N</td>\n",
       "      <td>N</td>\n",
       "      <td>N</td>\n",
       "      <td>N</td>\n",
       "      <td>FAC_IP.ACUTE.ACUTE.ACUTE.ACUTE</td>\n",
       "    </tr>\n",
       "    <tr>\n",
       "      <th>61</th>\n",
       "      <td>33003290698</td>\n",
       "      <td>53054348097</td>\n",
       "      <td>2007-12-11</td>\n",
       "      <td>33412.91</td>\n",
       "      <td>1554.51</td>\n",
       "      <td>MNRK64RNKM4OK</td>\n",
       "      <td>0.0</td>\n",
       "      <td>0.00</td>\n",
       "      <td>55321</td>\n",
       "      <td>9974</td>\n",
       "      <td>...</td>\n",
       "      <td>4777718838</td>\n",
       "      <td>18954.75</td>\n",
       "      <td>2019</td>\n",
       "      <td>FAC_IP.ACUTE</td>\n",
       "      <td>N</td>\n",
       "      <td>N</td>\n",
       "      <td>Y</td>\n",
       "      <td>N</td>\n",
       "      <td>N</td>\n",
       "      <td>FAC_IP.ACUTE.ACUTE.ACUTE.ACUTE</td>\n",
       "    </tr>\n",
       "    <tr>\n",
       "      <th>70</th>\n",
       "      <td>33003292417</td>\n",
       "      <td>53020608226</td>\n",
       "      <td>2007-10-22</td>\n",
       "      <td>11269.12</td>\n",
       "      <td>0.00</td>\n",
       "      <td>MKRRLTOMKM4O4</td>\n",
       "      <td>1500.0</td>\n",
       "      <td>0.00</td>\n",
       "      <td>2920</td>\n",
       "      <td>30401</td>\n",
       "      <td>...</td>\n",
       "      <td>4774859265</td>\n",
       "      <td>8430.48</td>\n",
       "      <td>2019</td>\n",
       "      <td>FAC_IP.ACUTE</td>\n",
       "      <td>N</td>\n",
       "      <td>N</td>\n",
       "      <td>N</td>\n",
       "      <td>N</td>\n",
       "      <td>N</td>\n",
       "      <td>FAC_IP.ACUTE.ACUTE.ACUTE.ACUTE</td>\n",
       "    </tr>\n",
       "    <tr>\n",
       "      <th>74</th>\n",
       "      <td>33003292982</td>\n",
       "      <td>53050270636</td>\n",
       "      <td>2007-11-19</td>\n",
       "      <td>9763.14</td>\n",
       "      <td>0.00</td>\n",
       "      <td>MOT4ZKTKKM4OT</td>\n",
       "      <td>0.0</td>\n",
       "      <td>0.00</td>\n",
       "      <td>49122</td>\n",
       "      <td>41401</td>\n",
       "      <td>...</td>\n",
       "      <td>4777701380</td>\n",
       "      <td>6402.83</td>\n",
       "      <td>2019</td>\n",
       "      <td>FAC_IP.ACUTE</td>\n",
       "      <td>N</td>\n",
       "      <td>N</td>\n",
       "      <td>N</td>\n",
       "      <td>N</td>\n",
       "      <td>N</td>\n",
       "      <td>FAC_IP.ACUTE.ACUTE.ACUTE.ACUTE</td>\n",
       "    </tr>\n",
       "    <tr>\n",
       "      <th>82</th>\n",
       "      <td>33003294584</td>\n",
       "      <td>53047488599</td>\n",
       "      <td>2007-12-27</td>\n",
       "      <td>8183.01</td>\n",
       "      <td>223.92</td>\n",
       "      <td>MRK6ONKNKM4ON</td>\n",
       "      <td>0.0</td>\n",
       "      <td>1371.67</td>\n",
       "      <td>5770</td>\n",
       "      <td>2721</td>\n",
       "      <td>...</td>\n",
       "      <td>4777540381</td>\n",
       "      <td>8014.73</td>\n",
       "      <td>2019</td>\n",
       "      <td>FAC_IP.ACUTE</td>\n",
       "      <td>N</td>\n",
       "      <td>N</td>\n",
       "      <td>N</td>\n",
       "      <td>N</td>\n",
       "      <td>N</td>\n",
       "      <td>FAC_IP.ACUTE.ACUTE.ACUTE.ACUTE</td>\n",
       "    </tr>\n",
       "  </tbody>\n",
       "</table>\n",
       "<p>5 rows × 35 columns</p>\n",
       "</div>"
      ],
      "text/plain": [
       "          PATID   PAT_PLANID ADMIT_DATE    CHARGE    COINS        CONF_ID  \\\n",
       "26  33003284598  53054044619 2007-10-09   7234.15     0.00  LZRTTRMO4OK4M   \n",
       "61  33003290698  53054348097 2007-12-11  33412.91  1554.51  MNRK64RNKM4OK   \n",
       "70  33003292417  53020608226 2007-10-22  11269.12     0.00  MKRRLTOMKM4O4   \n",
       "74  33003292982  53050270636 2007-11-19   9763.14     0.00  MOT4ZKTKKM4OT   \n",
       "82  33003294584  53047488599 2007-12-27   8183.01   223.92  MRK6ONKNKM4ON   \n",
       "\n",
       "     COPAY   DEDUCT  DIAG1  DIAG2  ...        PROV  STD_COST STD_COST_YR  \\\n",
       "26     0.0     0.00  78659   4019  ...  4777699636   6358.05        2019   \n",
       "61     0.0     0.00  55321   9974  ...  4777718838  18954.75        2019   \n",
       "70  1500.0     0.00   2920  30401  ...  4774859265   8430.48        2019   \n",
       "74     0.0     0.00  49122  41401  ...  4777701380   6402.83        2019   \n",
       "82     0.0  1371.67   5770   2721  ...  4777540381   8014.73        2019   \n",
       "\n",
       "          TOS_CD ICU_IND ICU_SURG_IND MAJ_SURG_IND MATERNITY_IND  NEWBORN_IND  \\\n",
       "26  FAC_IP.ACUTE       Y            N            N             N            N   \n",
       "61  FAC_IP.ACUTE       N            N            Y             N            N   \n",
       "70  FAC_IP.ACUTE       N            N            N             N            N   \n",
       "74  FAC_IP.ACUTE       N            N            N             N            N   \n",
       "82  FAC_IP.ACUTE       N            N            N             N            N   \n",
       "\n",
       "                           TOS_EXT  \n",
       "26  FAC_IP.ACUTE.ACUTE.ACUTE.ACUTE  \n",
       "61  FAC_IP.ACUTE.ACUTE.ACUTE.ACUTE  \n",
       "70  FAC_IP.ACUTE.ACUTE.ACUTE.ACUTE  \n",
       "74  FAC_IP.ACUTE.ACUTE.ACUTE.ACUTE  \n",
       "82  FAC_IP.ACUTE.ACUTE.ACUTE.ACUTE  \n",
       "\n",
       "[5 rows x 35 columns]"
      ]
     },
     "execution_count": 68,
     "metadata": {},
     "output_type": "execute_result"
    }
   ],
   "source": [
    "inp_final.head()"
   ]
  },
  {
   "cell_type": "code",
   "execution_count": 69,
   "id": "edcd569a",
   "metadata": {},
   "outputs": [
    {
     "data": {
      "text/plain": [
       "    7638\n",
       "Name: DRG, dtype: int64"
      ]
     },
     "execution_count": 69,
     "metadata": {},
     "output_type": "execute_result"
    },
    {
     "data": {
      "text/plain": [
       "    19140\n",
       "Name: DIAG5, dtype: int64"
      ]
     },
     "execution_count": 69,
     "metadata": {},
     "output_type": "execute_result"
    }
   ],
   "source": [
    "inp_final[inp_final['DRG'] == '']['DRG'].value_counts()\n",
    "\n",
    "inp_final[inp_final['DIAG5'] == '']['DIAG5'].value_counts()"
   ]
  },
  {
   "cell_type": "code",
   "execution_count": 70,
   "id": "1601fc64",
   "metadata": {
    "scrolled": true
   },
   "outputs": [
    {
     "data": {
      "text/plain": [
       "(61179, 20)"
      ]
     },
     "execution_count": 70,
     "metadata": {},
     "output_type": "execute_result"
    },
    {
     "data": {
      "text/html": [
       "<div>\n",
       "<style scoped>\n",
       "    .dataframe tbody tr th:only-of-type {\n",
       "        vertical-align: middle;\n",
       "    }\n",
       "\n",
       "    .dataframe tbody tr th {\n",
       "        vertical-align: top;\n",
       "    }\n",
       "\n",
       "    .dataframe thead th {\n",
       "        text-align: right;\n",
       "    }\n",
       "</style>\n",
       "<table border=\"1\" class=\"dataframe\">\n",
       "  <thead>\n",
       "    <tr style=\"text-align: right;\">\n",
       "      <th></th>\n",
       "      <th>PATID</th>\n",
       "      <th>DIAG1</th>\n",
       "      <th>DIAG2</th>\n",
       "      <th>DIAG3</th>\n",
       "      <th>DIAG4</th>\n",
       "      <th>DIAG5</th>\n",
       "      <th>DRG</th>\n",
       "      <th>ICD_FLAG</th>\n",
       "      <th>LOS</th>\n",
       "      <th>PROC1</th>\n",
       "      <th>PROC2</th>\n",
       "      <th>PROC3</th>\n",
       "      <th>PROC4</th>\n",
       "      <th>PROC5</th>\n",
       "      <th>STD_COST</th>\n",
       "      <th>ICU_IND</th>\n",
       "      <th>ICU_SURG_IND</th>\n",
       "      <th>MAJ_SURG_IND</th>\n",
       "      <th>MATERNITY_IND</th>\n",
       "      <th>DRG_DESC</th>\n",
       "    </tr>\n",
       "  </thead>\n",
       "  <tbody>\n",
       "    <tr>\n",
       "      <th>0</th>\n",
       "      <td>33003284598</td>\n",
       "      <td>78659</td>\n",
       "      <td>4019</td>\n",
       "      <td>3051</td>\n",
       "      <td>53081</td>\n",
       "      <td>496</td>\n",
       "      <td>313</td>\n",
       "      <td>9</td>\n",
       "      <td>1</td>\n",
       "      <td>0000000</td>\n",
       "      <td>0000000</td>\n",
       "      <td>0000000</td>\n",
       "      <td>0000000</td>\n",
       "      <td>0000000</td>\n",
       "      <td>6358.05</td>\n",
       "      <td>1</td>\n",
       "      <td>0</td>\n",
       "      <td>0</td>\n",
       "      <td>0</td>\n",
       "      <td>CHEST PAIN</td>\n",
       "    </tr>\n",
       "    <tr>\n",
       "      <th>1</th>\n",
       "      <td>33003290698</td>\n",
       "      <td>55321</td>\n",
       "      <td>9974</td>\n",
       "      <td>51889</td>\n",
       "      <td>49320</td>\n",
       "      <td>5601</td>\n",
       "      <td>354</td>\n",
       "      <td>9</td>\n",
       "      <td>6</td>\n",
       "      <td>5361</td>\n",
       "      <td>0000000</td>\n",
       "      <td>0000000</td>\n",
       "      <td>0000000</td>\n",
       "      <td>0000000</td>\n",
       "      <td>18954.75</td>\n",
       "      <td>0</td>\n",
       "      <td>0</td>\n",
       "      <td>1</td>\n",
       "      <td>0</td>\n",
       "      <td>HERNIA PX EXC ING &amp; FEM W CC</td>\n",
       "    </tr>\n",
       "    <tr>\n",
       "      <th>2</th>\n",
       "      <td>33003292417</td>\n",
       "      <td>2920</td>\n",
       "      <td>30401</td>\n",
       "      <td>3051</td>\n",
       "      <td>311</td>\n",
       "      <td>30501</td>\n",
       "      <td>897</td>\n",
       "      <td>9</td>\n",
       "      <td>4</td>\n",
       "      <td>9468</td>\n",
       "      <td>0000000</td>\n",
       "      <td>0000000</td>\n",
       "      <td>0000000</td>\n",
       "      <td>0000000</td>\n",
       "      <td>8430.48</td>\n",
       "      <td>0</td>\n",
       "      <td>0</td>\n",
       "      <td>0</td>\n",
       "      <td>0</td>\n",
       "      <td>ALC/DRUG ABUS/DEP, WO REHAB THER WO MCC</td>\n",
       "    </tr>\n",
       "    <tr>\n",
       "      <th>3</th>\n",
       "      <td>33003292982</td>\n",
       "      <td>49122</td>\n",
       "      <td>41401</td>\n",
       "      <td>4019</td>\n",
       "      <td>412</td>\n",
       "      <td>V4582</td>\n",
       "      <td>192</td>\n",
       "      <td>9</td>\n",
       "      <td>2</td>\n",
       "      <td>0000000</td>\n",
       "      <td>0000000</td>\n",
       "      <td>0000000</td>\n",
       "      <td>0000000</td>\n",
       "      <td>0000000</td>\n",
       "      <td>6402.83</td>\n",
       "      <td>0</td>\n",
       "      <td>0</td>\n",
       "      <td>0</td>\n",
       "      <td>0</td>\n",
       "      <td>CHRONIC OBS PULM DISEASE WO CC/MCC</td>\n",
       "    </tr>\n",
       "    <tr>\n",
       "      <th>4</th>\n",
       "      <td>33003294584</td>\n",
       "      <td>5770</td>\n",
       "      <td>2721</td>\n",
       "      <td>3051</td>\n",
       "      <td>V1581</td>\n",
       "      <td>0000</td>\n",
       "      <td>440</td>\n",
       "      <td>9</td>\n",
       "      <td>2</td>\n",
       "      <td>0000000</td>\n",
       "      <td>0000000</td>\n",
       "      <td>0000000</td>\n",
       "      <td>0000000</td>\n",
       "      <td>0000000</td>\n",
       "      <td>8014.73</td>\n",
       "      <td>0</td>\n",
       "      <td>0</td>\n",
       "      <td>0</td>\n",
       "      <td>0</td>\n",
       "      <td>DIS OF PANCREAS EXC MALIG WO CC/MCC</td>\n",
       "    </tr>\n",
       "  </tbody>\n",
       "</table>\n",
       "</div>"
      ],
      "text/plain": [
       "         PATID  DIAG1  DIAG2  DIAG3  DIAG4  DIAG5  DRG ICD_FLAG  LOS    PROC1  \\\n",
       "0  33003284598  78659   4019   3051  53081    496  313        9    1  0000000   \n",
       "1  33003290698  55321   9974  51889  49320   5601  354        9    6     5361   \n",
       "2  33003292417   2920  30401   3051    311  30501  897        9    4     9468   \n",
       "3  33003292982  49122  41401   4019    412  V4582  192        9    2  0000000   \n",
       "4  33003294584   5770   2721   3051  V1581   0000  440        9    2  0000000   \n",
       "\n",
       "     PROC2    PROC3    PROC4    PROC5  STD_COST  ICU_IND  ICU_SURG_IND  \\\n",
       "0  0000000  0000000  0000000  0000000   6358.05        1             0   \n",
       "1  0000000  0000000  0000000  0000000  18954.75        0             0   \n",
       "2  0000000  0000000  0000000  0000000   8430.48        0             0   \n",
       "3  0000000  0000000  0000000  0000000   6402.83        0             0   \n",
       "4  0000000  0000000  0000000  0000000   8014.73        0             0   \n",
       "\n",
       "   MAJ_SURG_IND  MATERNITY_IND                                 DRG_DESC  \n",
       "0             0              0                               CHEST PAIN  \n",
       "1             1              0             HERNIA PX EXC ING & FEM W CC  \n",
       "2             0              0  ALC/DRUG ABUS/DEP, WO REHAB THER WO MCC  \n",
       "3             0              0       CHRONIC OBS PULM DISEASE WO CC/MCC  \n",
       "4             0              0      DIS OF PANCREAS EXC MALIG WO CC/MCC  "
      ]
     },
     "execution_count": 70,
     "metadata": {},
     "output_type": "execute_result"
    }
   ],
   "source": [
    "inp_op_df = inpPreprocess(inp_final, lu_drg)\n",
    "inp_op_df.shape\n",
    "inp_op_df.head()"
   ]
  },
  {
   "cell_type": "code",
   "execution_count": 71,
   "id": "db2cf32e",
   "metadata": {},
   "outputs": [
    {
     "data": {
      "text/plain": [
       "Series([], Name: DRG, dtype: int64)"
      ]
     },
     "execution_count": 71,
     "metadata": {},
     "output_type": "execute_result"
    },
    {
     "data": {
      "text/plain": [
       "Series([], Name: DIAG5, dtype: int64)"
      ]
     },
     "execution_count": 71,
     "metadata": {},
     "output_type": "execute_result"
    }
   ],
   "source": [
    "inp_op_df[inp_op_df['DRG'] == '']['DRG'].value_counts()\n",
    "\n",
    "inp_op_df[inp_op_df['DIAG5'] == '']['DIAG5'].value_counts()"
   ]
  },
  {
   "cell_type": "code",
   "execution_count": 72,
   "id": "3ea098bf",
   "metadata": {},
   "outputs": [
    {
     "data": {
      "text/plain": [
       "PATID            0\n",
       "DIAG1            0\n",
       "DIAG2            0\n",
       "DIAG3            0\n",
       "DIAG4            0\n",
       "DIAG5            0\n",
       "DRG              0\n",
       "ICD_FLAG         0\n",
       "LOS              0\n",
       "PROC1            0\n",
       "PROC2            0\n",
       "PROC3            0\n",
       "PROC4            0\n",
       "PROC5            0\n",
       "STD_COST         0\n",
       "ICU_IND          0\n",
       "ICU_SURG_IND     0\n",
       "MAJ_SURG_IND     0\n",
       "MATERNITY_IND    0\n",
       "DRG_DESC         0\n",
       "dtype: int64"
      ]
     },
     "execution_count": 72,
     "metadata": {},
     "output_type": "execute_result"
    }
   ],
   "source": [
    "inp_op_df.isnull().sum()"
   ]
  },
  {
   "cell_type": "code",
   "execution_count": 73,
   "id": "80bc0703",
   "metadata": {
    "scrolled": true
   },
   "outputs": [
    {
     "data": {
      "text/plain": [
       "(509284, 20)"
      ]
     },
     "execution_count": 73,
     "metadata": {},
     "output_type": "execute_result"
    },
    {
     "data": {
      "text/html": [
       "<div>\n",
       "<style scoped>\n",
       "    .dataframe tbody tr th:only-of-type {\n",
       "        vertical-align: middle;\n",
       "    }\n",
       "\n",
       "    .dataframe tbody tr th {\n",
       "        vertical-align: top;\n",
       "    }\n",
       "\n",
       "    .dataframe thead th {\n",
       "        text-align: right;\n",
       "    }\n",
       "</style>\n",
       "<table border=\"1\" class=\"dataframe\">\n",
       "  <thead>\n",
       "    <tr style=\"text-align: right;\">\n",
       "      <th></th>\n",
       "      <th>PATID</th>\n",
       "      <th>DIAG1</th>\n",
       "      <th>DIAG2</th>\n",
       "      <th>DIAG3</th>\n",
       "      <th>DIAG4</th>\n",
       "      <th>DIAG5</th>\n",
       "      <th>DRG</th>\n",
       "      <th>ICD_FLAG</th>\n",
       "      <th>LOS</th>\n",
       "      <th>PROC1</th>\n",
       "      <th>PROC2</th>\n",
       "      <th>PROC3</th>\n",
       "      <th>PROC4</th>\n",
       "      <th>PROC5</th>\n",
       "      <th>STD_COST</th>\n",
       "      <th>ICU_IND</th>\n",
       "      <th>ICU_SURG_IND</th>\n",
       "      <th>MAJ_SURG_IND</th>\n",
       "      <th>MATERNITY_IND</th>\n",
       "      <th>DRG_DESC</th>\n",
       "    </tr>\n",
       "  </thead>\n",
       "  <tbody>\n",
       "    <tr>\n",
       "      <th>0</th>\n",
       "      <td>33003282019</td>\n",
       "      <td>78659</td>\n",
       "      <td>42789</td>\n",
       "      <td>340</td>\n",
       "      <td>32723</td>\n",
       "      <td>33394</td>\n",
       "      <td>313</td>\n",
       "      <td>9</td>\n",
       "      <td>2</td>\n",
       "      <td>0000000</td>\n",
       "      <td>0000000</td>\n",
       "      <td>0000000</td>\n",
       "      <td>0000000</td>\n",
       "      <td>0000000</td>\n",
       "      <td>6358.05</td>\n",
       "      <td>1</td>\n",
       "      <td>0</td>\n",
       "      <td>0</td>\n",
       "      <td>0</td>\n",
       "      <td>CHEST PAIN</td>\n",
       "    </tr>\n",
       "    <tr>\n",
       "      <th>1</th>\n",
       "      <td>33003282261</td>\n",
       "      <td>64511</td>\n",
       "      <td>66411</td>\n",
       "      <td>66541</td>\n",
       "      <td>66201</td>\n",
       "      <td>V270</td>\n",
       "      <td>775</td>\n",
       "      <td>9</td>\n",
       "      <td>2</td>\n",
       "      <td>7359</td>\n",
       "      <td>7569</td>\n",
       "      <td>7534</td>\n",
       "      <td>0000000</td>\n",
       "      <td>0000000</td>\n",
       "      <td>6775.95</td>\n",
       "      <td>0</td>\n",
       "      <td>0</td>\n",
       "      <td>0</td>\n",
       "      <td>1</td>\n",
       "      <td>VAG DEL WO COMPLICATING DX</td>\n",
       "    </tr>\n",
       "    <tr>\n",
       "      <th>2</th>\n",
       "      <td>33003282417</td>\n",
       "      <td>2182</td>\n",
       "      <td>78820</td>\n",
       "      <td>6271</td>\n",
       "      <td>6259</td>\n",
       "      <td>2449</td>\n",
       "      <td>743</td>\n",
       "      <td>9</td>\n",
       "      <td>2</td>\n",
       "      <td>6841</td>\n",
       "      <td>6564</td>\n",
       "      <td>0039</td>\n",
       "      <td>0000000</td>\n",
       "      <td>0000000</td>\n",
       "      <td>11581.80</td>\n",
       "      <td>0</td>\n",
       "      <td>0</td>\n",
       "      <td>1</td>\n",
       "      <td>0</td>\n",
       "      <td>UTER&amp;ADNX PX/NON-MALIGNANCY WO CC/MCC</td>\n",
       "    </tr>\n",
       "    <tr>\n",
       "      <th>3</th>\n",
       "      <td>33003283085</td>\n",
       "      <td>34690</td>\n",
       "      <td>29623</td>\n",
       "      <td>30780</td>\n",
       "      <td>0000</td>\n",
       "      <td>0000</td>\n",
       "      <td>103</td>\n",
       "      <td>9</td>\n",
       "      <td>9</td>\n",
       "      <td>3893</td>\n",
       "      <td>0000000</td>\n",
       "      <td>0000000</td>\n",
       "      <td>0000000</td>\n",
       "      <td>0000000</td>\n",
       "      <td>9820.65</td>\n",
       "      <td>0</td>\n",
       "      <td>0</td>\n",
       "      <td>0</td>\n",
       "      <td>0</td>\n",
       "      <td>HEADACHES WO MCC</td>\n",
       "    </tr>\n",
       "    <tr>\n",
       "      <th>4</th>\n",
       "      <td>33003283151</td>\n",
       "      <td>41091</td>\n",
       "      <td>5180</td>\n",
       "      <td>41401</td>\n",
       "      <td>25000</td>\n",
       "      <td>53081</td>\n",
       "      <td>247</td>\n",
       "      <td>9</td>\n",
       "      <td>1</td>\n",
       "      <td>0066</td>\n",
       "      <td>3607</td>\n",
       "      <td>3722</td>\n",
       "      <td>8856</td>\n",
       "      <td>8853</td>\n",
       "      <td>28029.15</td>\n",
       "      <td>1</td>\n",
       "      <td>1</td>\n",
       "      <td>1</td>\n",
       "      <td>0</td>\n",
       "      <td>PERC CVASC PX W DRG-ELUT STNT WO MCC</td>\n",
       "    </tr>\n",
       "  </tbody>\n",
       "</table>\n",
       "</div>"
      ],
      "text/plain": [
       "         PATID  DIAG1  DIAG2  DIAG3  DIAG4  DIAG5  DRG ICD_FLAG  LOS    PROC1  \\\n",
       "0  33003282019  78659  42789    340  32723  33394  313        9    2  0000000   \n",
       "1  33003282261  64511  66411  66541  66201   V270  775        9    2     7359   \n",
       "2  33003282417   2182  78820   6271   6259   2449  743        9    2     6841   \n",
       "3  33003283085  34690  29623  30780   0000   0000  103        9    9     3893   \n",
       "4  33003283151  41091   5180  41401  25000  53081  247        9    1     0066   \n",
       "\n",
       "     PROC2    PROC3    PROC4    PROC5  STD_COST  ICU_IND  ICU_SURG_IND  \\\n",
       "0  0000000  0000000  0000000  0000000   6358.05        1             0   \n",
       "1     7569     7534  0000000  0000000   6775.95        0             0   \n",
       "2     6564     0039  0000000  0000000  11581.80        0             0   \n",
       "3  0000000  0000000  0000000  0000000   9820.65        0             0   \n",
       "4     3607     3722     8856     8853  28029.15        1             1   \n",
       "\n",
       "   MAJ_SURG_IND  MATERNITY_IND                               DRG_DESC  \n",
       "0             0              0                             CHEST PAIN  \n",
       "1             0              1             VAG DEL WO COMPLICATING DX  \n",
       "2             1              0  UTER&ADNX PX/NON-MALIGNANCY WO CC/MCC  \n",
       "3             0              0                       HEADACHES WO MCC  \n",
       "4             1              0   PERC CVASC PX W DRG-ELUT STNT WO MCC  "
      ]
     },
     "execution_count": 73,
     "metadata": {},
     "output_type": "execute_result"
    }
   ],
   "source": [
    "inp_non_op_df = inpPreprocess(inp_rand_df, lu_drg)\n",
    "inp_non_op_df.shape\n",
    "inp_non_op_df.head()"
   ]
  },
  {
   "cell_type": "code",
   "execution_count": 74,
   "id": "aab67e82",
   "metadata": {},
   "outputs": [
    {
     "data": {
      "text/plain": [
       "(37657, 370037)"
      ]
     },
     "execution_count": 74,
     "metadata": {},
     "output_type": "execute_result"
    }
   ],
   "source": [
    "inp_op_df['PATID'].nunique(), inp_rand_df['PATID'].nunique()"
   ]
  },
  {
   "cell_type": "code",
   "execution_count": 75,
   "id": "e2cc83ed",
   "metadata": {},
   "outputs": [],
   "source": [
    "inp_op_df.to_csv('Opioid_analytics/Akhila/overdose_prediction/data/inp_op_2007.csv', index=False)"
   ]
  },
  {
   "cell_type": "code",
   "execution_count": 77,
   "id": "a752ab70",
   "metadata": {},
   "outputs": [],
   "source": [
    "inp_non_op_df.to_csv('Opioid_analytics/Akhila/overdose_prediction/data/inp_non_op_2007.csv', index=False)"
   ]
  },
  {
   "cell_type": "code",
   "execution_count": null,
   "id": "70e2c798",
   "metadata": {},
   "outputs": [],
   "source": []
  },
  {
   "cell_type": "code",
   "execution_count": null,
   "id": "3b8a8237",
   "metadata": {},
   "outputs": [],
   "source": []
  }
 ],
 "metadata": {
  "kernelspec": {
   "display_name": "Python 3 (ipykernel)",
   "language": "python",
   "name": "python3"
  },
  "language_info": {
   "codemirror_mode": {
    "name": "ipython",
    "version": 3
   },
   "file_extension": ".py",
   "mimetype": "text/x-python",
   "name": "python",
   "nbconvert_exporter": "python",
   "pygments_lexer": "ipython3",
   "version": "3.9.8"
  }
 },
 "nbformat": 4,
 "nbformat_minor": 5
}
